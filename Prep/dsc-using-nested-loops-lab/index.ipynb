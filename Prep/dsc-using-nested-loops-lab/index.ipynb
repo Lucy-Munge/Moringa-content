{
 "cells": [
  {
   "cell_type": "markdown",
   "metadata": {},
   "source": [
    "# Using Nested Loops - Lab"
   ]
  },
  {
   "cell_type": "markdown",
   "metadata": {},
   "source": [
    "## Introduction\n",
    "In this lab, you'll practice using nested loops to iterate over nested data structures and create new collections. To do this, you'll be using data from a soccer match to practice our nested loops."
   ]
  },
  {
   "cell_type": "markdown",
   "metadata": {},
   "source": [
    "## Objectives\n",
    "\n",
    "You will be able to:\n",
    "\n",
    "* Use a nested loop when it is appropriate"
   ]
  },
  {
   "cell_type": "markdown",
   "metadata": {},
   "source": [
    "## Instructions"
   ]
  },
  {
   "cell_type": "markdown",
   "metadata": {},
   "source": [
    "Use nested loops and the below object, `soccer_match`, to complete the following prompts and get the desired return values."
   ]
  },
  {
   "cell_type": "code",
   "execution_count": 40,
   "metadata": {},
   "outputs": [],
   "source": [
    "# Run this cell without changes\n",
    "soccer_match = [\n",
    "  { \"home_team\": True,\n",
    "    \"away_team\": False,\n",
    "    \"country\": \"France\",\n",
    "    \"num_passes\": 484,\n",
    "    \"passes_completed\": 423,\n",
    "    \"fouls_committed\": 16,\n",
    "    \"colors\": [\"blue\", \"white\", \"red\"],\n",
    "    \"players\": [\n",
    "      {\n",
    "        \"name\": \"Hugo LLORIS\",\n",
    "        \"captain\": True,\n",
    "        \"shirt_number\": 1,\n",
    "        \"position\": \"Goalie\"\n",
    "      },\n",
    "      {\n",
    "        \"name\": \"Benjamin PAVARD\",\n",
    "        \"captain\": False,\n",
    "        \"shirt_number\": 2,\n",
    "        \"position\": \"Defender\"\n",
    "      },\n",
    "      {\n",
    "        \"name\": \"Raphael VARANE\",\n",
    "        \"captain\": False,\n",
    "        \"shirt_number\": 4,\n",
    "        \"position\": \"Defender\"\n",
    "      },\n",
    "      {\n",
    "        \"name\": \"Samuel UMTITI\",\n",
    "        \"captain\": False,\n",
    "        \"shirt_number\": 5,\n",
    "        \"position\": \"Defender\"\n",
    "      },\n",
    "      {\n",
    "        \"name\": \"Paul POGBA\",\n",
    "        \"captain\": False,\n",
    "        \"shirt_number\": 6,\n",
    "        \"position\": \"Midfield\"\n",
    "      },\n",
    "      {\n",
    "        \"name\": \"Antoine GRIEZMANN\",\n",
    "        \"captain\": False,\n",
    "        \"shirt_number\": 7,\n",
    "        \"position\": \"Forward\"\n",
    "      },\n",
    "      {\n",
    "        \"name\": \"Kylian MBAPPE\",\n",
    "        \"captain\": False,\n",
    "        \"shirt_number\": 10,\n",
    "        \"position\": \"Forward\"\n",
    "      },\n",
    "      {\n",
    "        \"name\": \"Ousmane DEMBELE\",\n",
    "        \"captain\": False,\n",
    "        \"shirt_number\": 11,\n",
    "        \"position\": \"Forward\"\n",
    "      },\n",
    "      {\n",
    "        \"name\": \"Corentin TOLISSO\",\n",
    "        \"captain\": False,\n",
    "        \"shirt_number\": 12,\n",
    "        \"position\": \"Midfield\"\n",
    "      },\n",
    "      {\n",
    "        \"name\": \"Ngolo KANTE\",\n",
    "        \"captain\": False,\n",
    "        \"shirt_number\": 13,\n",
    "        \"position\": \"Midfield\"\n",
    "      },\n",
    "      {\n",
    "        \"name\": \"Lucas HERNANDEZ\",\n",
    "        \"captain\": False,\n",
    "        \"shirt_number\": 21,\n",
    "        \"position\": \"Defender\"\n",
    "      }\n",
    "    ],\n",
    "  },\n",
    "  { \"home_team\": False,\n",
    "    \"away_team\": True,\n",
    "    \"country\": \"Australia\",\n",
    "    \"num_passes\": 390,\n",
    "    \"passes_completed\": 332,\n",
    "    \"fouls_committed\": 19,\n",
    "    \"colors\": [\"green\", \"gold\"],\n",
    "    \"players\": [\n",
    "      {\n",
    "        \"name\": \"Mathew RYAN\",\n",
    "        \"captain\": False,\n",
    "        \"shirt_number\": 1,\n",
    "        \"position\": \"Goalie\"\n",
    "      },\n",
    "      {\n",
    "        \"name\": \"Mark MILLIGAN\",\n",
    "        \"captain\": False,\n",
    "        \"shirt_number\": 5,\n",
    "        \"position\": \"Defender\"\n",
    "      },\n",
    "      {\n",
    "        \"name\": \"Mathew LECKIE\",\n",
    "        \"captain\": False,\n",
    "        \"shirt_number\": 7,\n",
    "        \"position\": \"Forward\"\n",
    "      },\n",
    "      {\n",
    "        \"name\": \"Robbie KRUSE\",\n",
    "        \"captain\": False,\n",
    "        \"shirt_number\": 10,\n",
    "        \"position\": \"Forward\"\n",
    "      },\n",
    "      {\n",
    "        \"name\": \"Andrew NABBOUT\",\n",
    "        \"captain\": False,\n",
    "        \"shirt_number\": 11,\n",
    "        \"position\": \"Forward\"\n",
    "      },\n",
    "      {\n",
    "        \"name\": \"Aaron MOOY\",\n",
    "        \"captain\": False,\n",
    "        \"shirt_number\": 13,\n",
    "        \"position\": \"Midfield\"\n",
    "      },\n",
    "      {\n",
    "        \"name\": \"Mile JEDINAK\",\n",
    "        \"captain\": True,\n",
    "        \"shirt_number\": 15,\n",
    "        \"position\": \"Midfield\"\n",
    "      },\n",
    "      {\n",
    "        \"name\": \"Aziz BEHICH\",\n",
    "        \"captain\": False,\n",
    "        \"shirt_number\": 16,\n",
    "        \"position\": \"Defender\"\n",
    "      },\n",
    "      {\n",
    "        \"name\": \"Joshua RISDON\",\n",
    "        \"captain\": False,\n",
    "        \"shirt_number\": 19,\n",
    "        \"position\": \"Defender\"\n",
    "      },\n",
    "      {\n",
    "        \"name\": \"Trent SAINSBURY\",\n",
    "        \"captain\": False,\n",
    "        \"shirt_number\": 20,\n",
    "        \"position\": \"Defender\"\n",
    "      },\n",
    "      {\n",
    "        \"name\": \"Tom ROGIC\",\n",
    "        \"captain\": False,\n",
    "        \"shirt_number\": 23,\n",
    "        \"position\": \"Midfield\"\n",
    "      }\n",
    "    ]\n",
    "  }\n",
    "]"
   ]
  },
  {
   "cell_type": "markdown",
   "metadata": {},
   "source": [
    "Let's take a look at some properties of this nested data structure:"
   ]
  },
  {
   "cell_type": "code",
   "execution_count": 41,
   "metadata": {},
   "outputs": [
    {
     "name": "stdout",
     "output_type": "stream",
     "text": [
      "Information about soccer_match\n",
      "Type: <class 'list'>\n",
      "Length: 2\n",
      "\n",
      "Information about soccer_match[0]:\n",
      "Type: <class 'dict'>\n",
      "Length: 8\n",
      "Keys: dict_keys(['home_team', 'away_team', 'country', 'num_passes', 'passes_completed', 'fouls_committed', 'colors', 'players'])\n",
      "Values: dict_values([False, True, 'Australia', 390, 332, 19, ['green', 'gold'], [{'name': 'Mathew RYAN', 'captain': False, 'shirt_number': 1, 'position': 'Goalie'}, {'name': 'Mark MILLIGAN', 'captain': False, 'shirt_number': 5, 'position': 'Defender'}, {'name': 'Mathew LECKIE', 'captain': False, 'shirt_number': 7, 'position': 'Forward'}, {'name': 'Robbie KRUSE', 'captain': False, 'shirt_number': 10, 'position': 'Forward'}, {'name': 'Andrew NABBOUT', 'captain': False, 'shirt_number': 11, 'position': 'Forward'}, {'name': 'Aaron MOOY', 'captain': False, 'shirt_number': 13, 'position': 'Midfield'}, {'name': 'Mile JEDINAK', 'captain': True, 'shirt_number': 15, 'position': 'Midfield'}, {'name': 'Aziz BEHICH', 'captain': False, 'shirt_number': 16, 'position': 'Defender'}, {'name': 'Joshua RISDON', 'captain': False, 'shirt_number': 19, 'position': 'Defender'}, {'name': 'Trent SAINSBURY', 'captain': False, 'shirt_number': 20, 'position': 'Defender'}, {'name': 'Tom ROGIC', 'captain': False, 'shirt_number': 23, 'position': 'Midfield'}]])\n"
     ]
    }
   ],
   "source": [
    "# Run this cell without changes\n",
    "\n",
    "print(\"Information about soccer_match\")\n",
    "print(\"Type:\", type(soccer_match))\n",
    "print(\"Length:\", len(soccer_match))\n",
    "print()\n",
    "\n",
    "print(\"Information about soccer_match[0]:\")\n",
    "print(\"Type:\", type(soccer_match[0]))\n",
    "print(\"Length:\", len(soccer_match[0]))\n",
    "print(\"Keys:\", soccer_match[0].keys())\n",
    "print(\"Values:\", soccer_match[1].values())"
   ]
  },
  {
   "cell_type": "code",
   "execution_count": 42,
   "metadata": {
    "scrolled": true
   },
   "outputs": [
    {
     "data": {
      "text/plain": [
       "{'home_team': False,\n",
       " 'away_team': True,\n",
       " 'country': 'Australia',\n",
       " 'num_passes': 390,\n",
       " 'passes_completed': 332,\n",
       " 'fouls_committed': 19,\n",
       " 'colors': ['green', 'gold'],\n",
       " 'players': [{'name': 'Mathew RYAN',\n",
       "   'captain': False,\n",
       "   'shirt_number': 1,\n",
       "   'position': 'Goalie'},\n",
       "  {'name': 'Mark MILLIGAN',\n",
       "   'captain': False,\n",
       "   'shirt_number': 5,\n",
       "   'position': 'Defender'},\n",
       "  {'name': 'Mathew LECKIE',\n",
       "   'captain': False,\n",
       "   'shirt_number': 7,\n",
       "   'position': 'Forward'},\n",
       "  {'name': 'Robbie KRUSE',\n",
       "   'captain': False,\n",
       "   'shirt_number': 10,\n",
       "   'position': 'Forward'},\n",
       "  {'name': 'Andrew NABBOUT',\n",
       "   'captain': False,\n",
       "   'shirt_number': 11,\n",
       "   'position': 'Forward'},\n",
       "  {'name': 'Aaron MOOY',\n",
       "   'captain': False,\n",
       "   'shirt_number': 13,\n",
       "   'position': 'Midfield'},\n",
       "  {'name': 'Mile JEDINAK',\n",
       "   'captain': True,\n",
       "   'shirt_number': 15,\n",
       "   'position': 'Midfield'},\n",
       "  {'name': 'Aziz BEHICH',\n",
       "   'captain': False,\n",
       "   'shirt_number': 16,\n",
       "   'position': 'Defender'},\n",
       "  {'name': 'Joshua RISDON',\n",
       "   'captain': False,\n",
       "   'shirt_number': 19,\n",
       "   'position': 'Defender'},\n",
       "  {'name': 'Trent SAINSBURY',\n",
       "   'captain': False,\n",
       "   'shirt_number': 20,\n",
       "   'position': 'Defender'},\n",
       "  {'name': 'Tom ROGIC',\n",
       "   'captain': False,\n",
       "   'shirt_number': 23,\n",
       "   'position': 'Midfield'}]}"
      ]
     },
     "execution_count": 42,
     "metadata": {},
     "output_type": "execute_result"
    }
   ],
   "source": [
    "soccer_match[1]"
   ]
  },
  {
   "cell_type": "markdown",
   "metadata": {},
   "source": [
    "Before looking at the answer below, try to identify: **what does `soccer_match` represent overall, and what does each record within `soccer_match` represent?**\n",
    "\n",
    ".\n",
    "\n",
    ".\n",
    "\n",
    ".\n",
    "\n",
    "*`soccer_match` represents a soccer match (game) containing a home team and an away team. Each record within `soccer_match` represents a team that participated in the match, and their associated stats.*"
   ]
  },
  {
   "cell_type": "markdown",
   "metadata": {},
   "source": [
    "## Countries: A List of Strings\n",
    "\n",
    "In the cell below, iterate over the `soccer_match` list to create a new list with the name of the country for each team. "
   ]
  },
  {
   "cell_type": "code",
   "execution_count": 43,
   "metadata": {},
   "outputs": [
    {
     "data": {
      "text/plain": [
       "['France', 'Australia']"
      ]
     },
     "execution_count": 43,
     "metadata": {},
     "output_type": "execute_result"
    }
   ],
   "source": [
    "countries = []\n",
    "for country_names in soccer_match:\n",
    "    countries.append(country_names[\"country\"])\n",
    "    \n",
    "# Your code here\n",
    "\n",
    "countries # ['France', 'Australia']"
   ]
  },
  {
   "cell_type": "markdown",
   "metadata": {},
   "source": [
    "## Colors: Another List of Strings!\n",
    "\n",
    "In the cell below, iterate over the `soccer_match` list to create a new list with the colors for each team.\n",
    "\n",
    "This should be only one list containing strings for each of the country's colors, not a list of lists."
   ]
  },
  {
   "cell_type": "code",
   "execution_count": 44,
   "metadata": {},
   "outputs": [
    {
     "data": {
      "text/plain": [
       "['blue', 'white', 'red', 'green', 'gold']"
      ]
     },
     "execution_count": 44,
     "metadata": {},
     "output_type": "execute_result"
    }
   ],
   "source": [
    "colors = []\n",
    "for teams in soccer_match:\n",
    "    for color in teams.get('colors'):\n",
    "        colors.append(color)\n",
    "# Your code here\n",
    "\n",
    "colors # ['blue', 'white', 'red', 'green', 'gold']"
   ]
  },
  {
   "cell_type": "markdown",
   "metadata": {},
   "source": [
    "## Players: A List of Dictionaries\n",
    "\n",
    "This time, iterate over the `soccer_match` list to create a new list with the players from each team. `players` should be a single list containing the dictionaries for each of the country's players."
   ]
  },
  {
   "cell_type": "code",
   "execution_count": 45,
   "metadata": {},
   "outputs": [
    {
     "name": "stdout",
     "output_type": "stream",
     "text": [
      "[{'name': 'Hugo LLORIS', 'captain': True, 'shirt_number': 1, 'position': 'Goalie'}, {'name': 'Benjamin PAVARD', 'captain': False, 'shirt_number': 2, 'position': 'Defender'}, {'name': 'Raphael VARANE', 'captain': False, 'shirt_number': 4, 'position': 'Defender'}, {'name': 'Samuel UMTITI', 'captain': False, 'shirt_number': 5, 'position': 'Defender'}, {'name': 'Paul POGBA', 'captain': False, 'shirt_number': 6, 'position': 'Midfield'}, {'name': 'Antoine GRIEZMANN', 'captain': False, 'shirt_number': 7, 'position': 'Forward'}, {'name': 'Kylian MBAPPE', 'captain': False, 'shirt_number': 10, 'position': 'Forward'}, {'name': 'Ousmane DEMBELE', 'captain': False, 'shirt_number': 11, 'position': 'Forward'}, {'name': 'Corentin TOLISSO', 'captain': False, 'shirt_number': 12, 'position': 'Midfield'}, {'name': 'Ngolo KANTE', 'captain': False, 'shirt_number': 13, 'position': 'Midfield'}, {'name': 'Lucas HERNANDEZ', 'captain': False, 'shirt_number': 21, 'position': 'Defender'}, {'name': 'Mathew RYAN', 'captain': False, 'shirt_number': 1, 'position': 'Goalie'}, {'name': 'Mark MILLIGAN', 'captain': False, 'shirt_number': 5, 'position': 'Defender'}, {'name': 'Mathew LECKIE', 'captain': False, 'shirt_number': 7, 'position': 'Forward'}, {'name': 'Robbie KRUSE', 'captain': False, 'shirt_number': 10, 'position': 'Forward'}, {'name': 'Andrew NABBOUT', 'captain': False, 'shirt_number': 11, 'position': 'Forward'}, {'name': 'Aaron MOOY', 'captain': False, 'shirt_number': 13, 'position': 'Midfield'}, {'name': 'Mile JEDINAK', 'captain': True, 'shirt_number': 15, 'position': 'Midfield'}, {'name': 'Aziz BEHICH', 'captain': False, 'shirt_number': 16, 'position': 'Defender'}, {'name': 'Joshua RISDON', 'captain': False, 'shirt_number': 19, 'position': 'Defender'}, {'name': 'Trent SAINSBURY', 'captain': False, 'shirt_number': 20, 'position': 'Defender'}, {'name': 'Tom ROGIC', 'captain': False, 'shirt_number': 23, 'position': 'Midfield'}]\n"
     ]
    }
   ],
   "source": [
    "players = []\n",
    "for teams in soccer_match:\n",
    "    for player in teams.get('players'):\n",
    "        players.append(player)\n",
    "\n",
    "# Your code here\n",
    "\n",
    "print(players) # [{'name': 'Hugo LLORIS', 'captain': True, 'shirt_number': 1, 'position': 'Goalie'}, {'name': 'Benjamin PAVARD',...}, ...]"
   ]
  },
  {
   "cell_type": "code",
   "execution_count": null,
   "metadata": {},
   "outputs": [],
   "source": []
  },
  {
   "cell_type": "markdown",
   "metadata": {},
   "source": [
    "## Captains: Another List of Dictionaries!\n",
    "\n",
    "Iterate over the `soccer_match` list to create a new list with the captains from each team.\n",
    "\n",
    "This should be a single list containing the dictionaries for each of the countries' captains."
   ]
  },
  {
   "cell_type": "code",
   "execution_count": 46,
   "metadata": {},
   "outputs": [
    {
     "data": {
      "text/plain": [
       "[{'name': 'Hugo LLORIS',\n",
       "  'captain': True,\n",
       "  'shirt_number': 1,\n",
       "  'position': 'Goalie'},\n",
       " {'name': 'Mile JEDINAK',\n",
       "  'captain': True,\n",
       "  'shirt_number': 15,\n",
       "  'position': 'Midfield'}]"
      ]
     },
     "execution_count": 46,
     "metadata": {},
     "output_type": "execute_result"
    }
   ],
   "source": [
    "captains = []\n",
    "for team in soccer_match:\n",
    "    for player in team['players']:\n",
    "        if player['captain'] == True:\n",
    "            captains.append(player)\n",
    "captains"
   ]
  },
  {
   "cell_type": "markdown",
   "metadata": {},
   "source": [
    "## Home Team Players: A Third List of Dictionaries\n",
    "\n",
    "Iterate over the `soccer_match` list to create a new list with the players from ONLY the home team.\n",
    "\n",
    "Do not \"hard-code\" which team this is; use the `'home_team'` key."
   ]
  },
  {
   "cell_type": "code",
   "execution_count": 50,
   "metadata": {},
   "outputs": [
    {
     "data": {
      "text/plain": [
       "[{'name': 'Hugo LLORIS',\n",
       "  'captain': True,\n",
       "  'shirt_number': 1,\n",
       "  'position': 'Goalie'},\n",
       " {'name': 'Benjamin PAVARD',\n",
       "  'captain': False,\n",
       "  'shirt_number': 2,\n",
       "  'position': 'Defender'},\n",
       " {'name': 'Raphael VARANE',\n",
       "  'captain': False,\n",
       "  'shirt_number': 4,\n",
       "  'position': 'Defender'},\n",
       " {'name': 'Samuel UMTITI',\n",
       "  'captain': False,\n",
       "  'shirt_number': 5,\n",
       "  'position': 'Defender'},\n",
       " {'name': 'Paul POGBA',\n",
       "  'captain': False,\n",
       "  'shirt_number': 6,\n",
       "  'position': 'Midfield'},\n",
       " {'name': 'Antoine GRIEZMANN',\n",
       "  'captain': False,\n",
       "  'shirt_number': 7,\n",
       "  'position': 'Forward'},\n",
       " {'name': 'Kylian MBAPPE',\n",
       "  'captain': False,\n",
       "  'shirt_number': 10,\n",
       "  'position': 'Forward'},\n",
       " {'name': 'Ousmane DEMBELE',\n",
       "  'captain': False,\n",
       "  'shirt_number': 11,\n",
       "  'position': 'Forward'},\n",
       " {'name': 'Corentin TOLISSO',\n",
       "  'captain': False,\n",
       "  'shirt_number': 12,\n",
       "  'position': 'Midfield'},\n",
       " {'name': 'Ngolo KANTE',\n",
       "  'captain': False,\n",
       "  'shirt_number': 13,\n",
       "  'position': 'Midfield'},\n",
       " {'name': 'Lucas HERNANDEZ',\n",
       "  'captain': False,\n",
       "  'shirt_number': 21,\n",
       "  'position': 'Defender'}]"
      ]
     },
     "execution_count": 50,
     "metadata": {},
     "output_type": "execute_result"
    }
   ],
   "source": [
    "home_team_players = []\n",
    "for team in soccer_match:\n",
    "    if team[\"home_team\"] == True:\n",
    "        for player in team['players']:\n",
    "            home_team_players.append(player)\n",
    "            \n",
    "# Your code here\n",
    "\n",
    "home_team_players\n",
    "\n",
    "# [{'name': 'Hugo LLORIS',\n",
    "#   'captain': True,\n",
    "#   'shirt_number': 1,\n",
    "#   'position': 'Goalie'},\n",
    "#  ...\n",
    "#  {'name': 'Lucas HERNANDEZ',\n",
    "#   'captain': False,\n",
    "#   'shirt_number': 21,\n",
    "#   'position': 'Defender'}]"
   ]
  },
  {
   "cell_type": "markdown",
   "metadata": {},
   "source": [
    "## Away Team Forwards: Yup, a List of Dictionaries\n",
    "\n",
    "Iterate over the `soccer_match` list to create a new list with the information for each of the away team players whose `position` is `\"Forward\"`."
   ]
  },
  {
   "cell_type": "code",
   "execution_count": 53,
   "metadata": {},
   "outputs": [
    {
     "data": {
      "text/plain": [
       "[{'name': 'Mathew LECKIE',\n",
       "  'captain': False,\n",
       "  'shirt_number': 7,\n",
       "  'position': 'Forward'},\n",
       " {'name': 'Robbie KRUSE',\n",
       "  'captain': False,\n",
       "  'shirt_number': 10,\n",
       "  'position': 'Forward'},\n",
       " {'name': 'Andrew NABBOUT',\n",
       "  'captain': False,\n",
       "  'shirt_number': 11,\n",
       "  'position': 'Forward'}]"
      ]
     },
     "execution_count": 53,
     "metadata": {},
     "output_type": "execute_result"
    }
   ],
   "source": [
    "away_team_forwards = []\n",
    "for team in soccer_match:\n",
    "    if team['away_team'] == True:\n",
    "        for player in team['players']:\n",
    "            if player ['position'] == 'Forward':\n",
    "                away_team_forwards.append(player)\n",
    "\n",
    "# Your code here\n",
    "\n",
    "away_team_forwards\n",
    "# [{'name': 'Mathew LECKIE',\n",
    "#   'captain': False,\n",
    "#   'shirt_number': 7,\n",
    "#   'position': 'Forward'},\n",
    "#  {'name': 'Robbie KRUSE',\n",
    "#   'captain': False,\n",
    "#   'shirt_number': 10,\n",
    "#   'position': 'Forward'},\n",
    "#  {'name': 'Andrew NABBOUT',\n",
    "#   'captain': False,\n",
    "#   'shirt_number': 11,\n",
    "#   'position': 'Forward'}]"
   ]
  },
  {
   "cell_type": "code",
   "execution_count": 52,
   "metadata": {},
   "outputs": [
    {
     "data": {
      "text/plain": [
       "[{'name': 'Mathew LECKIE',\n",
       "  'captain': False,\n",
       "  'shirt_number': 7,\n",
       "  'position': 'Forward'},\n",
       " {'name': 'Robbie KRUSE',\n",
       "  'captain': False,\n",
       "  'shirt_number': 10,\n",
       "  'position': 'Forward'},\n",
       " {'name': 'Andrew NABBOUT',\n",
       "  'captain': False,\n",
       "  'shirt_number': 11,\n",
       "  'position': 'Forward'}]"
      ]
     },
     "execution_count": 52,
     "metadata": {},
     "output_type": "execute_result"
    }
   ],
   "source": [
    "away_team_forwards = []\n",
    "for team in soccer_match:\n",
    "    for player in team['players']:\n",
    "        if team['away_team'] == True and player['position'] == 'Forward':\n",
    "            away_team_forwards.append(player)\n",
    "away_team_forwards"
   ]
  },
  {
   "cell_type": "code",
   "execution_count": 54,
   "metadata": {},
   "outputs": [
    {
     "data": {
      "text/plain": [
       "[{'name': 'Mathew LECKIE',\n",
       "  'captain': False,\n",
       "  'shirt_number': 7,\n",
       "  'position': 'Forward'},\n",
       " {'name': 'Robbie KRUSE',\n",
       "  'captain': False,\n",
       "  'shirt_number': 10,\n",
       "  'position': 'Forward'},\n",
       " {'name': 'Andrew NABBOUT',\n",
       "  'captain': False,\n",
       "  'shirt_number': 11,\n",
       "  'position': 'Forward'}]"
      ]
     },
     "execution_count": 54,
     "metadata": {},
     "output_type": "execute_result"
    }
   ],
   "source": [
    "away_team_forwards = []\n",
    "# step 1: iterate over soccer match to get team\n",
    "for team in soccer_match:\n",
    "    # step 2: check if team is away_team\n",
    "    if team['away_team'] == True:\n",
    "        # step 3: iterate over the players of the team\n",
    "        for player in team['players']:\n",
    "            # step 4: if player position is forward then append to list\n",
    "            if player['position'] == \"Forward\":\n",
    "                away_team_forwards.append(player)\n",
    "                \n",
    "away_team_forwards"
   ]
  },
  {
   "cell_type": "markdown",
   "metadata": {},
   "source": [
    "## Player with the Highest Number\n",
    "\n",
    "Iterate over the `soccer_match` list and find the player with the highest `shirt_number`.  \n",
    "Store this player's information in the `player_with_highest_num` variable."
   ]
  },
  {
   "cell_type": "code",
   "execution_count": 73,
   "metadata": {},
   "outputs": [
    {
     "data": {
      "text/plain": [
       "{'name': 'Tom ROGIC',\n",
       " 'captain': False,\n",
       " 'shirt_number': 23,\n",
       " 'position': 'Midfield'}"
      ]
     },
     "execution_count": 73,
     "metadata": {},
     "output_type": "execute_result"
    }
   ],
   "source": [
    "player_with_highest_num = None\n",
    "num = []\n",
    "for team in soccer_match:\n",
    "    for player in team['players']:\n",
    "        num.append(player['shirt_number'])\n",
    "        if player['shirt_number'] == max(num):\n",
    "            player_with_highest_num = player\n",
    "        \n",
    "        \n",
    "# Your code here\n",
    "player_with_highest_num\n",
    "# {'name': 'Tom ROGIC',\n",
    "#  'captain': False,  \n",
    "#  'shirt_number': 23,\n",
    "#  'position': 'Midfield'}"
   ]
  },
  {
   "cell_type": "code",
   "execution_count": 75,
   "metadata": {},
   "outputs": [
    {
     "data": {
      "text/plain": [
       "{'name': 'Tom ROGIC',\n",
       " 'captain': False,\n",
       " 'shirt_number': 23,\n",
       " 'position': 'Midfield'}"
      ]
     },
     "execution_count": 75,
     "metadata": {},
     "output_type": "execute_result"
    }
   ],
   "source": [
    "# how to get player with highest shirt number\n",
    "# ===========================================\n",
    "\n",
    "shirt_numbers = []\n",
    "for player in players:\n",
    "    \"\"\"\n",
    "    step 1: create a list of player shirt numbers append it with player\n",
    "            shirt number  => shirt_numbers = []\n",
    "    \"\"\"\n",
    "    shirt_numbers.append(player['shirt_number'])\n",
    "    \"\"\"\n",
    "    step 2: find maximum shirt number in shirt nums => max(shirt_numbers)\n",
    "    \"\"\"\n",
    "    if player['shirt_number'] == max(shirt_numbers):\n",
    "        \"\"\"\n",
    "        step 3: assign\n",
    "        \"\"\"\n",
    "player_with_highest_num"
   ]
  },
  {
   "cell_type": "markdown",
   "metadata": {},
   "source": [
    "## Player Names: A Cleaned List\n",
    "\n",
    "Notice that the players oddly have their last names in all caps. Create a list of all the names of the players in this match. Be sure to make sure their first and last names are properly capitalized (first letter upper case, proceeding letters lower case), as opposed to how they are currently formatted."
   ]
  },
  {
   "cell_type": "code",
   "execution_count": 92,
   "metadata": {},
   "outputs": [
    {
     "data": {
      "text/plain": [
       "['Hugo Lloris',\n",
       " 'Benjamin Pavard',\n",
       " 'Raphael Varane',\n",
       " 'Samuel Umtiti',\n",
       " 'Paul Pogba',\n",
       " 'Antoine Griezmann',\n",
       " 'Kylian Mbappe',\n",
       " 'Ousmane Dembele',\n",
       " 'Corentin Tolisso',\n",
       " 'Ngolo Kante',\n",
       " 'Lucas Hernandez',\n",
       " 'Mathew Ryan',\n",
       " 'Mark Milligan',\n",
       " 'Mathew Leckie',\n",
       " 'Robbie Kruse',\n",
       " 'Andrew Nabbout',\n",
       " 'Aaron Mooy',\n",
       " 'Mile Jedinak',\n",
       " 'Aziz Behich',\n",
       " 'Joshua Risdon',\n",
       " 'Trent Sainsbury',\n",
       " 'Tom Rogic',\n",
       " 'Hugo Lloris',\n",
       " 'Benjamin Pavard',\n",
       " 'Raphael Varane',\n",
       " 'Samuel Umtiti',\n",
       " 'Paul Pogba',\n",
       " 'Antoine Griezmann',\n",
       " 'Kylian Mbappe',\n",
       " 'Ousmane Dembele',\n",
       " 'Corentin Tolisso',\n",
       " 'Ngolo Kante',\n",
       " 'Lucas Hernandez',\n",
       " 'Mathew Ryan',\n",
       " 'Mark Milligan',\n",
       " 'Mathew Leckie',\n",
       " 'Robbie Kruse',\n",
       " 'Andrew Nabbout',\n",
       " 'Aaron Mooy',\n",
       " 'Mile Jedinak',\n",
       " 'Aziz Behich',\n",
       " 'Joshua Risdon',\n",
       " 'Trent Sainsbury',\n",
       " 'Tom Rogic']"
      ]
     },
     "execution_count": 92,
     "metadata": {},
     "output_type": "execute_result"
    }
   ],
   "source": [
    "player_names = []\n",
    "for team in soccer_match:\n",
    "    for player in players:\n",
    "        x = player.get('name')\n",
    "        player_names.append(x.title())\n",
    "        \n",
    "# Your code here\n",
    "\n",
    "player_names\n",
    "# ['Hugo Lloris',\n",
    "#  'Benjamin Pavard',\n",
    "#  'Raphael Varane',\n",
    "#  'Samuel Umtiti',\n",
    "#  'Paul Pogba',\n",
    "#  'Antoine Griezmann',\n",
    "#  'Kylian Mbappe',\n",
    "#  'Ousmane Dembele',\n",
    "#  'Corentin Tolisso',\n",
    "#  'Ngolo Kante',\n",
    "#  'Lucas Hernandez',\n",
    "#  'Mathew Ryan',\n",
    "#  'Mark Milligan',\n",
    "#  'Mathew Leckie',\n",
    "#  'Robbie Kruse',\n",
    "#  'Andrew Nabbout',\n",
    "#  'Aaron Mooy',\n",
    "#  'Mile Jedinak',\n",
    "#  'Aziz Behich',\n",
    "#  'Joshua Risdon',\n",
    "#  'Trent Sainsbury',\n",
    "#  'Tom Rogic']"
   ]
  },
  {
   "cell_type": "code",
   "execution_count": 88,
   "metadata": {},
   "outputs": [
    {
     "data": {
      "text/plain": [
       "['Hugo Lloris',\n",
       " 'Benjamin Pavard',\n",
       " 'Raphael Varane',\n",
       " 'Samuel Umtiti',\n",
       " 'Paul Pogba',\n",
       " 'Antoine Griezmann',\n",
       " 'Kylian Mbappe',\n",
       " 'Ousmane Dembele',\n",
       " 'Corentin Tolisso',\n",
       " 'Ngolo Kante',\n",
       " 'Lucas Hernandez',\n",
       " 'Mathew Ryan',\n",
       " 'Mark Milligan',\n",
       " 'Mathew Leckie',\n",
       " 'Robbie Kruse',\n",
       " 'Andrew Nabbout',\n",
       " 'Aaron Mooy',\n",
       " 'Mile Jedinak',\n",
       " 'Aziz Behich',\n",
       " 'Joshua Risdon',\n",
       " 'Trent Sainsbury',\n",
       " 'Tom Rogic']"
      ]
     },
     "execution_count": 88,
     "metadata": {},
     "output_type": "execute_result"
    }
   ],
   "source": [
    "player_names = []\n",
    "# Step 1: iterate through players list => player * len(players)\n",
    "for player in players:\n",
    "    # step 2: get names of players\n",
    "    teammate_name = player['name']\n",
    "    # step 3: append player name to cleaned player names list\n",
    "    player_names.append(teammate_name.title())\n",
    "    \n",
    "player_names    "
   ]
  },
  {
   "cell_type": "markdown",
   "metadata": {},
   "source": [
    "## Summary"
   ]
  },
  {
   "cell_type": "markdown",
   "metadata": {},
   "source": [
    "In this lab, you practiced using nested loops to iterate through a nested data structure using data from a soccer match. Nested data structures can be quite complicated and it can become difficult to access more nested data. With nested loops, you are able to dynamically access this nested data and work with it as you would with a flatter data structure. It is important to think about the structure of the data before and while you're working so you know exactly what data you are working with at each level."
   ]
  }
 ],
 "metadata": {
  "kernelspec": {
   "display_name": "saturn (Python 3)",
   "language": "python",
   "name": "python3"
  },
  "language_info": {
   "codemirror_mode": {
    "name": "ipython",
    "version": 3
   },
   "file_extension": ".py",
   "mimetype": "text/x-python",
   "name": "python",
   "nbconvert_exporter": "python",
   "pygments_lexer": "ipython3",
   "version": "3.10.6"
  },
  "toc": {
   "base_numbering": 1,
   "nav_menu": {},
   "number_sections": true,
   "sideBar": true,
   "skip_h1_title": false,
   "title_cell": "Table of Contents",
   "title_sidebar": "Contents",
   "toc_cell": false,
   "toc_position": {},
   "toc_section_display": true,
   "toc_window_display": false
  }
 },
 "nbformat": 4,
 "nbformat_minor": 2
}
