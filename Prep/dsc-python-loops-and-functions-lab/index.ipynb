{
 "cells": [
  {
   "cell_type": "markdown",
   "metadata": {},
   "source": [
    "# Python Loops and Functions - Cumulative Lab\n",
    "\n",
    "## Introduction\n",
    "\n",
    "You made it through another section — excellent work! This cumulative lab will return to the Amazon product review dataset and allow you to flex your new skills.\n",
    "\n",
    "## Objectives\n",
    "\n",
    "You will be able to:\n",
    "\n",
    " - Recall what you learned in the previous section\n",
    " - Practice writing loops to pull multiple pieces of data from a dataset\n",
    " - Practice writing functions for organization and avoiding repetition\n",
    " \n",
    "## Your Task: Dynamically Query Amazon Review Data\n",
    "\n",
    "Once again, we are going to be working with data collected by Computer Science researchers at the University of California, San Diego. Their full paper citation is here:\n",
    "> **Justifying recommendations using distantly-labeled reviews and fined-grained aspects**\n",
    "Jianmo Ni, Jiacheng Li, Julian McAuley\n",
    "Empirical Methods in Natural Language Processing (EMNLP), 2019\n",
    "[pdf](http://cseweb.ucsd.edu/~jmcauley/pdfs/emnlp19a.pdf)\n",
    "\n",
    "We are still using a cleaned-up, coffee-specific, sample version of their [full dataset](https://nijianmo.github.io/amazon/index.html).\n",
    "\n",
    "![pouring coffee](images/coffee.jpg)\n",
    "<span>Photo by <a href=\"https://unsplash.com/@dumdidu?utm_source=unsplash&amp;utm_medium=referral&amp;utm_content=creditCopyText\">Philipp Cordts</a> on <a href=\"https://unsplash.com/s/photos/coffee-pot?utm_source=unsplash&amp;utm_medium=referral&amp;utm_content=creditCopyText\">Unsplash</a></span>\n",
    "\n",
    "In some cases, we will write the function signature for you, e.g. \n",
    "\n",
    "```python\n",
    "def review_sentiment(review):\n",
    "    # Replace None with appropriate code\n",
    "    None\n",
    "```\n",
    "\n",
    "Then you just need to fill in the relevant logic.\n",
    "\n",
    "In other cases, you will need to write the function signature yourself, e.g.\n",
    "\n",
    "```python\n",
    "# Your code here\n",
    "```\n",
    "\n",
    "### Requirements\n",
    "\n",
    "#### 1. Data Summary\n",
    "While reusing some code from the previous cumulative lab, write code to loop over all of the records in the dataset to summarize its contents, specifically in terms of overall review sentiment and the years when the reviews were written.\n",
    "\n",
    "#### 2. Subset Sample\n",
    "Provide a sample of records that meet particular criteria.\n",
    "\n",
    "#### 3. Individual Review Summary\n",
    "Refactor the code from the previous cumulative lab so that it is contained in a function and prompts the user to select which review to summarize.\n",
    "\n",
    "## Data Summary\n",
    "\n",
    "Once again, we've opened up the dataset and loaded it into a list of dictionaries called `reviews`."
   ]
  },
  {
   "cell_type": "code",
   "execution_count": 45,
   "metadata": {},
   "outputs": [
    {
     "data": {
      "text/plain": [
       "list"
      ]
     },
     "execution_count": 45,
     "metadata": {},
     "output_type": "execute_result"
    }
   ],
   "source": [
    "# Run this cell without changes\n",
    "import json\n",
    "with open(\"coffee_product_reviews.json\") as f:\n",
    "    reviews = json.load(f)\n",
    "type(reviews)"
   ]
  },
  {
   "cell_type": "markdown",
   "metadata": {},
   "source": [
    "Previously, we found the length of the collection, and looked into the data types of each record's keys and values"
   ]
  },
  {
   "cell_type": "code",
   "execution_count": 46,
   "metadata": {},
   "outputs": [
    {
     "name": "stdout",
     "output_type": "stream",
     "text": [
      "The coffee product review dataset contains 86 reviews\n"
     ]
    },
    {
     "data": {
      "text/plain": [
       "{'rating': 5.0,\n",
       " 'reviewer_name': 'Sns073194',\n",
       " 'product_id': 'B00004RFRV',\n",
       " 'review_title': 'Perfect cafsito every time',\n",
       " 'review_time': '03 11, 2018',\n",
       " 'images': ['https://images-na.ssl-images-amazon.com/images/I/71d2cQEgJsL._SY88.jpg'],\n",
       " 'styles': {'Size:': ' 6-Cup', 'Color:': ' Silver'}}"
      ]
     },
     "execution_count": 46,
     "metadata": {},
     "output_type": "execute_result"
    }
   ],
   "source": [
    "# Run this cell without changes\n",
    "num_reviews = len(reviews)\n",
    "print(\"The coffee product review dataset contains {} reviews\".format(num_reviews))\n",
    "\n",
    "first_review = reviews[0]\n",
    "first_review"
   ]
  },
  {
   "cell_type": "code",
   "execution_count": 47,
   "metadata": {},
   "outputs": [
    {
     "data": {
      "text/plain": [
       "dict_keys(['rating', 'reviewer_name', 'product_id', 'review_title', 'review_time', 'images', 'styles'])"
      ]
     },
     "execution_count": 47,
     "metadata": {},
     "output_type": "execute_result"
    }
   ],
   "source": [
    "# Run this cell without changes\n",
    "first_review.keys()"
   ]
  },
  {
   "cell_type": "code",
   "execution_count": 48,
   "metadata": {},
   "outputs": [
    {
     "data": {
      "text/plain": [
       "dict_values([5.0, 'Sns073194', 'B00004RFRV', 'Perfect cafsito every time', '03 11, 2018', ['https://images-na.ssl-images-amazon.com/images/I/71d2cQEgJsL._SY88.jpg'], {'Size:': ' 6-Cup', 'Color:': ' Silver'}])"
      ]
     },
     "execution_count": 48,
     "metadata": {},
     "output_type": "execute_result"
    }
   ],
   "source": [
    "# Run this cell without changes\n",
    "first_review.values()"
   ]
  },
  {
   "cell_type": "markdown",
   "metadata": {},
   "source": [
    "This time, let's do something a bit more sophisticated. Specifically:\n",
    "\n",
    "1. Count of positive, negative, and neutral reviews\n",
    "2. List of years contained in the dataset\n",
    "\n",
    "### Count of Positive, Negative, and Neutral Reviews\n",
    "\n",
    "Previously, we wrote something like this code to determine whether a specific review was positive, negative, or neutral:"
   ]
  },
  {
   "cell_type": "code",
   "execution_count": 49,
   "metadata": {},
   "outputs": [
    {
     "name": "stdout",
     "output_type": "stream",
     "text": [
      "This is a positive review\n"
     ]
    }
   ],
   "source": [
    "# Run this cell without changes\n",
    "selected_review = reviews[2]\n",
    "selected_rating = selected_review[\"rating\"]\n",
    "\n",
    "if selected_rating >= 4:\n",
    "    print(\"This is a positive review\")\n",
    "elif selected_rating <= 2:\n",
    "    print(\"This is a negative review\")\n",
    "else:\n",
    "    print(\"This is a neutral review\")"
   ]
  },
  {
   "cell_type": "markdown",
   "metadata": {},
   "source": [
    "Now, rewrite that code as a function `review_sentiment`, which takes in a review dictionary as an argument, and returns the string `\"positive\"`, `\"negative\"`, or `\"neutral\"`"
   ]
  },
  {
   "cell_type": "code",
   "execution_count": 64,
   "metadata": {},
   "outputs": [],
   "source": [
    "def review_sentiment(review):\n",
    "    selected_rating = review[\"rating\"]\n",
    "    \n",
    "    if selected_rating >= 4:\n",
    "        return(\"positive\")\n",
    "    elif selected_rating <= 2:\n",
    "        return(\"negative\")\n",
    "    else:\n",
    "        return(\"neutral\")\n",
    "    \n",
    "    # Replace None with appropriate code\n",
    "    "
   ]
  },
  {
   "cell_type": "code",
   "execution_count": 65,
   "metadata": {},
   "outputs": [
    {
     "data": {
      "text/plain": [
       "'positive'"
      ]
     },
     "execution_count": 65,
     "metadata": {},
     "output_type": "execute_result"
    }
   ],
   "source": [
    "# Run this cell without changes\n",
    "review_sentiment(reviews[2]) # 'positive'"
   ]
  },
  {
   "cell_type": "code",
   "execution_count": 66,
   "metadata": {},
   "outputs": [
    {
     "data": {
      "text/plain": [
       "'negative'"
      ]
     },
     "execution_count": 66,
     "metadata": {},
     "output_type": "execute_result"
    }
   ],
   "source": [
    "# Run this cell without changes\n",
    "review_sentiment(reviews[4]) # 'negative'"
   ]
  },
  {
   "cell_type": "code",
   "execution_count": 67,
   "metadata": {},
   "outputs": [
    {
     "data": {
      "text/plain": [
       "'neutral'"
      ]
     },
     "execution_count": 67,
     "metadata": {},
     "output_type": "execute_result"
    }
   ],
   "source": [
    "# Run this cell without changes\n",
    "review_sentiment(reviews[47]) # 'neutral'"
   ]
  },
  {
   "cell_type": "markdown",
   "metadata": {},
   "source": [
    "Ok, this is already much cleaner than copying and pasting that `if`/`elif`/`else` sequence like we did before!\n",
    "\n",
    "Now, write a function to loop over all of the reviews in the list, and count how many are positive, negative, and neutral.\n",
    "\n",
    "The function should be called `get_sentiment_counts`, take one argument (the list of reviews), and return a dictionary containing the counts. A counter dictionary has been initialized for you with `\"positive\"`, `\"negative\"`, and `\"neutral\"` as the keys and values starting at 0."
   ]
  },
  {
   "cell_type": "code",
   "execution_count": 68,
   "metadata": {},
   "outputs": [
    {
     "data": {
      "text/plain": [
       "{'positive': 67, 'negative': 15, 'neutral': 4}"
      ]
     },
     "execution_count": 68,
     "metadata": {},
     "output_type": "execute_result"
    }
   ],
   "source": [
    "def get_sentiment_counts(review_list):\n",
    "\n",
    "    sentiment_counts = {\n",
    "        \"positive\": 0,\n",
    "        \"negative\": 0,\n",
    "        \"neutral\": 0\n",
    "    }\n",
    "\n",
    "#     # Your code here\n",
    "    for review in review_list:\n",
    "        if review_sentiment(review) == \"positive\":\n",
    "            sentiment_counts[\"positive\"] += 1\n",
    "            \n",
    "        elif review_sentiment(review) == \"negative\":\n",
    "            sentiment_counts[\"negative\"] += 1\n",
    "            \n",
    "        elif review_sentiment(review) == \"neutral\":\n",
    "            sentiment_counts[\"neutral\"] += 1\n",
    "        \n",
    "        \n",
    "    return sentiment_counts\n",
    "\n",
    "get_sentiment_counts(reviews) # {'positive': 67, 'negative': 15, 'neutral': 4}"
   ]
  },
  {
   "cell_type": "markdown",
   "metadata": {},
   "source": [
    "This spread of sentiments seems reasonable. There is a well-known [skew towards positive reviews in general](https://dspace.mit.edu/handle/1721.1/111093), similar to \"grade inflation\", and people with neutral opinions are less likely to write reviews in the first place.\n",
    "\n",
    "### List of Years Contained in the Dataset\n",
    "\n",
    "Previously, we wrote something like this code to extract the year of a review from the review dictionary:"
   ]
  },
  {
   "cell_type": "code",
   "execution_count": 69,
   "metadata": {},
   "outputs": [
    {
     "data": {
      "text/plain": [
       "2017"
      ]
     },
     "execution_count": 69,
     "metadata": {},
     "output_type": "execute_result"
    }
   ],
   "source": [
    "# Run this cell without changes\n",
    "selected_review = reviews[2]\n",
    "selected_review_time = selected_review[\"review_time\"]\n",
    "selected_review_year = int(selected_review_time[-4:])\n",
    "selected_review_year"
   ]
  },
  {
   "cell_type": "markdown",
   "metadata": {},
   "source": [
    "Now, rewrite that code as a function `review_year`, which takes in a review dictionary as an argument, and returns the year as an integer:"
   ]
  },
  {
   "cell_type": "code",
   "execution_count": 70,
   "metadata": {},
   "outputs": [],
   "source": [
    "def review_year(review):\n",
    "    # Replace None with appropriate code\n",
    "    for year in review:\n",
    "        return int(review[\"review_time\"][-4:])"
   ]
  },
  {
   "cell_type": "code",
   "execution_count": 71,
   "metadata": {},
   "outputs": [
    {
     "data": {
      "text/plain": [
       "2017"
      ]
     },
     "execution_count": 71,
     "metadata": {},
     "output_type": "execute_result"
    }
   ],
   "source": [
    "# Run this cell without changes\n",
    "review_year(reviews[2]) # 2017"
   ]
  },
  {
   "cell_type": "code",
   "execution_count": 72,
   "metadata": {},
   "outputs": [
    {
     "data": {
      "text/plain": [
       "2017"
      ]
     },
     "execution_count": 72,
     "metadata": {},
     "output_type": "execute_result"
    }
   ],
   "source": [
    "# Run this cell without changes\n",
    "review_year(reviews[4]) # 2017"
   ]
  },
  {
   "cell_type": "code",
   "execution_count": 73,
   "metadata": {},
   "outputs": [
    {
     "data": {
      "text/plain": [
       "2015"
      ]
     },
     "execution_count": 73,
     "metadata": {},
     "output_type": "execute_result"
    }
   ],
   "source": [
    "# Run this cell without changes\n",
    "review_year(reviews[47]) # 2015"
   ]
  },
  {
   "cell_type": "markdown",
   "metadata": {},
   "source": [
    "Now, write a function called `get_years` to loop over all of the reviews in the review list and create a list of the years you find. Each year should only appear once, in ascending order. The function should accept one argument (`review_list`) and should return a list of integers representing the years.\n",
    "\n",
    "Hints:\n",
    "\n",
    " - Remember that you can use the `set()` function to keep only the unique elements in a list. Just make sure you use `list()` afterwards to convert it back to a list data type. This is not the only solution, however!\n",
    " - There is a list method named `.sort()` ([look it up in the python list documentation here](https://docs.python.org/3/tutorial/datastructures.html#more-on-lists)) that will automatically order the years; you don't need to write sorting logic \"by hand\""
   ]
  },
  {
   "cell_type": "code",
   "execution_count": 74,
   "metadata": {},
   "outputs": [
    {
     "name": "stdout",
     "output_type": "stream",
     "text": [
      "[2007, 2008, 2009, 2011, 2012, 2013, 2014, 2015, 2016, 2017, 2018]\n",
      "<class 'list'>\n"
     ]
    }
   ],
   "source": [
    "# Your code here\n",
    "def get_years(review_list):\n",
    "    years = []\n",
    "    for review in review_list:\n",
    "        year = (int(review[\"review_time\"][-4:]))\n",
    "        if year and year not in years:\n",
    "            years.append(year)\n",
    "            \n",
    "    years.sort()\n",
    "    \n",
    "    return years\n",
    "print(get_years(reviews)) # [2007, 2008, 2009, 2011, 2012, 2013, 2014, 2015, 2016, 2017, 2018]\n",
    "print(type(get_years(reviews))) # <class 'list'>"
   ]
  },
  {
   "cell_type": "markdown",
   "metadata": {},
   "source": [
    "Now we know that we have data spanning 2007-2018, with no data from 2010. In some contexts that absence might be worth investigating — is it a random artifact of our sample, or are we missing 2010 data for a reason that matters? For now we'll just keep moving on to the next section, now that we have a clearer sense of the kinds of reviews in our dataset and the years they were written.\n",
    "\n",
    "## Subset Sampling\n",
    "\n",
    "Once you have an overall sense of a dataset, it's a good idea to ask *what are some examples of records in each category?* For example, what are some examples of a negative review?\n",
    "\n",
    "Although 86 records are few enough that you could technically read through all of them and just mentally note what we see, let's use an approach that will scale better to larger datasets with more categories: **filtering** to a subset of records then **sampling** to achieve a digestible amount of information.\n",
    "\n",
    "### Filtering\n",
    "\n",
    "Here we are going to make use of another built-in Python function: `filter()` ([docs here](https://docs.python.org/3/library/functions.html#filter)). To use this function, we first need to write a helper function that returns `True` or `False` based on the value passed in.\n",
    "\n",
    "So, create a function `is_negative` that takes in a review dictionary as an argument and returns `True` if the review is negative, `False` otherwise:"
   ]
  },
  {
   "cell_type": "code",
   "execution_count": 76,
   "metadata": {},
   "outputs": [
    {
     "name": "stdout",
     "output_type": "stream",
     "text": [
      "False\n",
      "True\n",
      "False\n"
     ]
    }
   ],
   "source": [
    "def is_negative(review):\n",
    "    # Replace None with appropriate code\n",
    "    if review_sentiment(review) == \"negative\":\n",
    "        return True\n",
    "    else:\n",
    "        return False\n",
    "    \n",
    "print(is_negative(reviews[2]))  # False (postive review)\n",
    "print(is_negative(reviews[4]))  # True\n",
    "print(is_negative(reviews[47])) # False (neutral review)"
   ]
  },
  {
   "cell_type": "markdown",
   "metadata": {},
   "source": [
    "Now we can use the `filter()` function to create a list of negative reviews:"
   ]
  },
  {
   "cell_type": "code",
   "execution_count": 77,
   "metadata": {},
   "outputs": [
    {
     "data": {
      "text/plain": [
       "[{'rating': 1.0,\n",
       "  'reviewer_name': 'EJ',\n",
       "  'product_id': 'B00004RFRV',\n",
       "  'review_title': 'Rusted spots everywhere fresh out the box...nasty',\n",
       "  'review_time': '06 4, 2017',\n",
       "  'images': ['https://images-na.ssl-images-amazon.com/images/I/71Dbr6X0bYL._SY88.jpg'],\n",
       "  'styles': {'Size:': ' 9-Cup', 'Color:': ' Silver'}},\n",
       " {'rating': 1.0,\n",
       "  'reviewer_name': 'mathman54',\n",
       "  'product_id': 'B00004RFRV',\n",
       "  'review_title': \"The bottom looks like it has rusted and I don't know how to ...\",\n",
       "  'review_time': '02 15, 2016',\n",
       "  'images': ['https://images-na.ssl-images-amazon.com/images/I/71qt4Hnra8L._SY88.jpg',\n",
       "   'https://images-na.ssl-images-amazon.com/images/I/71Wkg8MesdL._SY88.jpg'],\n",
       "  'styles': {'Size:': ' 12-Cup', 'Color:': ' Silver'}},\n",
       " {'rating': 1.0,\n",
       "  'reviewer_name': 'Maria Fernandez',\n",
       "  'product_id': 'B00004RFRV',\n",
       "  'review_title': 'Is it a Bialetti? Came dirty with coffee grounds.',\n",
       "  'review_time': '03 22, 2015',\n",
       "  'images': ['https://images-na.ssl-images-amazon.com/images/I/71aPg3ZuCzL._SY88.jpg',\n",
       "   'https://images-na.ssl-images-amazon.com/images/I/71-2keZacOL._SY88.jpg',\n",
       "   'https://images-na.ssl-images-amazon.com/images/I/71Z4C4G-0dL._SY88.jpg'],\n",
       "  'styles': {'Size:': ' 6-Cup', 'Color:': ' Silver'}},\n",
       " {'rating': 1.0,\n",
       "  'reviewer_name': 'Toni Bautista',\n",
       "  'product_id': 'B00005IBX9',\n",
       "  'review_title': 'Great but NOT PERFECT -missing Side water panel',\n",
       "  'review_time': '02 24, 2017',\n",
       "  'images': ['https://images-na.ssl-images-amazon.com/images/I/71X5NEjZG5L._SY88.jpg'],\n",
       "  'styles': {'Color:': ' Brushed Chrome'}},\n",
       " {'rating': 1.0,\n",
       "  'reviewer_name': 'SAinVA',\n",
       "  'product_id': 'B00005LM0T',\n",
       "  'review_title': 'Too much waste',\n",
       "  'review_time': '09 7, 2017',\n",
       "  'images': ['https://images-na.ssl-images-amazon.com/images/I/71shZggLRHL._SY88.jpg'],\n",
       "  'styles': {'Size:': ' 34 oz.', 'Package Type:': ' Standard Packaging'}},\n",
       " {'rating': 1.0,\n",
       "  'reviewer_name': 'Silicon Valley',\n",
       "  'product_id': 'B00005LM0T',\n",
       "  'review_title': 'FRAME RUSTS WITHIN A FEW WEEKS',\n",
       "  'review_time': '03 10, 2016',\n",
       "  'images': ['https://images-na.ssl-images-amazon.com/images/I/71FREAeBLIL._SY88.jpg',\n",
       "   'https://images-na.ssl-images-amazon.com/images/I/71qkhDjseuL._SY88.jpg',\n",
       "   'https://images-na.ssl-images-amazon.com/images/I/7143mVMMoCL._SY88.jpg'],\n",
       "  'styles': {'Size:': ' 34 oz.', 'Package Type:': ' Standard Packaging'}},\n",
       " {'rating': 1.0,\n",
       "  'reviewer_name': 'Andrew Furlong',\n",
       "  'product_id': 'B00005MF9C',\n",
       "  'review_title': 'but instead ran along the underside of the part of the maker that holds the grounds and finally dropping at an angle at which a',\n",
       "  'review_time': '02 22, 2017',\n",
       "  'images': ['https://images-na.ssl-images-amazon.com/images/I/71kh1XatynL._SY88.jpg'],\n",
       "  'styles': {'Color:': ' Black/Stainless Steel'}},\n",
       " {'rating': 2.0,\n",
       "  'reviewer_name': 'fred o.',\n",
       "  'product_id': 'B00005MF9C',\n",
       "  'review_title': 'Good purchase',\n",
       "  'review_time': '09 4, 2016',\n",
       "  'images': ['https://images-na.ssl-images-amazon.com/images/I/71tRehtvN+L._SY88.jpg',\n",
       "   'https://images-na.ssl-images-amazon.com/images/I/719K20U+MaL._SY88.jpg',\n",
       "   'https://images-na.ssl-images-amazon.com/images/I/71jd6yc1GdL._SY88.jpg'],\n",
       "  'styles': {'Color:': ' Black/White'}},\n",
       " {'rating': 1.0,\n",
       "  'reviewer_name': 'fifrox',\n",
       "  'product_id': 'B00005MF9C',\n",
       "  'review_title': 'Works great for a week then fails!',\n",
       "  'review_time': '03 10, 2016',\n",
       "  'images': ['https://images-na.ssl-images-amazon.com/images/I/81QVkUT4hdL._SY88.jpg'],\n",
       "  'styles': {'Color:': ' Black/Stainless Steel'}},\n",
       " {'rating': 1.0,\n",
       "  'reviewer_name': 'cas',\n",
       "  'product_id': 'B00005NCWQ',\n",
       "  'review_title': 'Garbage!!!',\n",
       "  'review_time': '03 26, 2018',\n",
       "  'images': ['https://images-na.ssl-images-amazon.com/images/I/71Bxydi3DQL._SY88.jpg'],\n",
       "  'styles': {'Size:': ' 8-Cup'}},\n",
       " {'rating': 1.0,\n",
       "  'reviewer_name': 'GoClick',\n",
       "  'product_id': 'B00005OTXM',\n",
       "  'review_title': 'Returned - produced revolting burnt plastic flavored coffee, and seemed flawed.',\n",
       "  'review_time': '04 16, 2015',\n",
       "  'images': ['https://images-na.ssl-images-amazon.com/images/I/71o+7Zru+iL._SY88.jpg',\n",
       "   'https://images-na.ssl-images-amazon.com/images/I/81sbfP4tc8L._SY88.jpg',\n",
       "   'https://images-na.ssl-images-amazon.com/images/I/71vhOebyGaL._SY88.jpg'],\n",
       "  'styles': {'Style Name:': ' COFFEE MAKER ONLY'}},\n",
       " {'rating': 2.0,\n",
       "  'reviewer_name': 'Picks n Pans',\n",
       "  'product_id': 'B00006F2LW',\n",
       "  'review_title': 'Cracked lid out of the box',\n",
       "  'review_time': '02 27, 2008',\n",
       "  'images': ['https://images-na.ssl-images-amazon.com/images/I/317fvUiuNDL._SY88.jpg'],\n",
       "  'styles': {'Color:': ' Black'}},\n",
       " {'rating': 2.0,\n",
       "  'reviewer_name': 'LMM',\n",
       "  'product_id': 'B00008ELEA',\n",
       "  'review_title': 'smelled like the cord was burning',\n",
       "  'review_time': '06 6, 2016',\n",
       "  'images': ['https://images-na.ssl-images-amazon.com/images/I/51xXENQhIGL._SY88.jpg'],\n",
       "  'styles': {'Size:': ' 4-Cup'}},\n",
       " {'rating': 1.0,\n",
       "  'reviewer_name': 'Marcia S.',\n",
       "  'product_id': 'B0000A1ZMS',\n",
       "  'review_title': 'Look what happened to this once great Cuisinart coffeemaker.',\n",
       "  'review_time': '11 12, 2016',\n",
       "  'images': ['https://images-na.ssl-images-amazon.com/images/I/51B8eue4nHL._SY88.jpg',\n",
       "   'https://images-na.ssl-images-amazon.com/images/I/519NziREFIL._SY88.jpg',\n",
       "   'https://images-na.ssl-images-amazon.com/images/I/51v+A1zWqTL._SY88.jpg'],\n",
       "  'styles': {'Color:': ' Black', 'Style Name:': ' Coffeemaker'}},\n",
       " {'rating': 2.0,\n",
       "  'reviewer_name': 'Jimmie',\n",
       "  'product_id': 'B0000A1ZMS',\n",
       "  'review_title': 'Leaks and more',\n",
       "  'review_time': '01 13, 2011',\n",
       "  'images': ['https://images-na.ssl-images-amazon.com/images/I/51U4K+PzETL._SY88.jpg'],\n",
       "  'styles': {'Color:': ' Black', 'Style Name:': ' Coffeemaker'}}]"
      ]
     },
     "execution_count": 77,
     "metadata": {},
     "output_type": "execute_result"
    }
   ],
   "source": [
    "# Run this cell without changes\n",
    "list(filter(is_negative, reviews))"
   ]
  },
  {
   "cell_type": "markdown",
   "metadata": {},
   "source": [
    "Write a function called `get_negative_reviews` that returns a list of these reviews. It should take the list of all reviews as an argument.\n",
    "\n",
    "(This can be a one-line function.)"
   ]
  },
  {
   "cell_type": "code",
   "execution_count": 104,
   "metadata": {},
   "outputs": [],
   "source": [
    "# Your code here\n",
    "def get_negative_reviews(all_reviews):\n",
    "    return [review for review in all_reviews if review['rating'] == 1.0]\n"
   ]
  },
  {
   "cell_type": "markdown",
   "metadata": {},
   "source": [
    "### Sampling\n",
    "\n",
    "Again, since we have a relatively small dataset, we could just look at all 15 reviews. But let's take a more scalable approach instead, and take a random sample of negative reviews.\n",
    "\n",
    "Recall the `random` module, which must be imported:"
   ]
  },
  {
   "cell_type": "code",
   "execution_count": 105,
   "metadata": {},
   "outputs": [],
   "source": [
    "# Run this cell without changes\n",
    "import random"
   ]
  },
  {
   "cell_type": "markdown",
   "metadata": {},
   "source": [
    "We'll use the `random.sample()` function, which takes in a collection and a number, and returns that number of elements from the collection.\n",
    "\n",
    "So, for example, if we want 3 negative reviews:"
   ]
  },
  {
   "cell_type": "code",
   "execution_count": 106,
   "metadata": {},
   "outputs": [
    {
     "ename": "TypeError",
     "evalue": "'ellipsis' object is not subscriptable",
     "output_type": "error",
     "traceback": [
      "\u001b[0;31m---------------------------------------------------------------------------\u001b[0m",
      "\u001b[0;31mTypeError\u001b[0m                                 Traceback (most recent call last)",
      "Cell \u001b[0;32mIn [106], line 3\u001b[0m\n\u001b[1;32m      1\u001b[0m \u001b[38;5;66;03m# Run this cell without changes\u001b[39;00m\n\u001b[1;32m      2\u001b[0m \u001b[38;5;66;03m# You can run as many times as you want, to see different sample examples\u001b[39;00m\n\u001b[0;32m----> 3\u001b[0m random\u001b[38;5;241m.\u001b[39msample(\u001b[43mget_negative_reviews\u001b[49m\u001b[43m(\u001b[49m\u001b[43mreviews\u001b[49m\u001b[43m)\u001b[49m, \u001b[38;5;241m3\u001b[39m)\n",
      "Cell \u001b[0;32mIn [104], line 3\u001b[0m, in \u001b[0;36mget_negative_reviews\u001b[0;34m(all_reviews)\u001b[0m\n\u001b[1;32m      2\u001b[0m \u001b[38;5;28;01mdef\u001b[39;00m \u001b[38;5;21mget_negative_reviews\u001b[39m(all_reviews):\n\u001b[0;32m----> 3\u001b[0m     \u001b[38;5;28;01mreturn\u001b[39;00m [review \u001b[38;5;28;01mfor\u001b[39;00m review \u001b[38;5;129;01min\u001b[39;00m all_reviews \u001b[38;5;28;01mif\u001b[39;00m review[\u001b[38;5;124m'\u001b[39m\u001b[38;5;124mrating\u001b[39m\u001b[38;5;124m'\u001b[39m] \u001b[38;5;241m==\u001b[39m \u001b[38;5;241m1.0\u001b[39m]\n",
      "Cell \u001b[0;32mIn [104], line 3\u001b[0m, in \u001b[0;36m<listcomp>\u001b[0;34m(.0)\u001b[0m\n\u001b[1;32m      2\u001b[0m \u001b[38;5;28;01mdef\u001b[39;00m \u001b[38;5;21mget_negative_reviews\u001b[39m(all_reviews):\n\u001b[0;32m----> 3\u001b[0m     \u001b[38;5;28;01mreturn\u001b[39;00m [review \u001b[38;5;28;01mfor\u001b[39;00m review \u001b[38;5;129;01min\u001b[39;00m all_reviews \u001b[38;5;28;01mif\u001b[39;00m \u001b[43mreview\u001b[49m\u001b[43m[\u001b[49m\u001b[38;5;124;43m'\u001b[39;49m\u001b[38;5;124;43mrating\u001b[39;49m\u001b[38;5;124;43m'\u001b[39;49m\u001b[43m]\u001b[49m \u001b[38;5;241m==\u001b[39m \u001b[38;5;241m1.0\u001b[39m]\n",
      "\u001b[0;31mTypeError\u001b[0m: 'ellipsis' object is not subscriptable"
     ]
    }
   ],
   "source": [
    "# Run this cell without changes\n",
    "# You can run as many times as you want, to see different sample examples\n",
    "random.sample(get_negative_reviews(reviews), 3)"
   ]
  },
  {
   "cell_type": "markdown",
   "metadata": {},
   "source": [
    "Now, put that code into a function `get_negative_review_sample`. This function should take a list of reviews and the number of samples to select, and should return a sample of negative reviews.\n",
    "\n",
    "(You can assume that `num_samples` is a valid number. The number of samples must be less than or equal to the number of elements in the collection.)"
   ]
  },
  {
   "cell_type": "code",
   "execution_count": null,
   "metadata": {},
   "outputs": [],
   "source": [
    "def get_negative_review_sample(review_list, num_samples):\n",
    "    # Replace None with appropriate code\n",
    "    None\n",
    "    \n",
    "get_negative_review_sample(reviews, 4)"
   ]
  },
  {
   "cell_type": "markdown",
   "metadata": {},
   "source": [
    "Repeat the same process for positive reviews. That means we need:\n",
    "\n",
    "1. A helper function `is_positive` (this can't just be `not is_negative` since neutral reviews are neither)\n",
    "2. A function `get_positive_reviews` which returns a list of all positive reviews\n",
    "3. A function `get_positive_review_sample` which returns a sample of positive reviews with the specified length"
   ]
  },
  {
   "cell_type": "code",
   "execution_count": null,
   "metadata": {},
   "outputs": [],
   "source": [
    "# Your code here\n",
    "\n",
    "get_positive_review_sample(reviews, 4)"
   ]
  },
  {
   "cell_type": "markdown",
   "metadata": {},
   "source": [
    "## Individual Review Summary\n",
    "\n",
    "In addition to summarizing the dataset overall and sampling based on criteria, we want the user to be able to query any given record in order to view a summary. Before, we created a variable called `review_index` that the user could modify. Now, let's write some reusable code that doesn't require the user to write any Python at all!\n",
    "\n",
    "Recall that before, our final code looked something like this:"
   ]
  },
  {
   "cell_type": "code",
   "execution_count": null,
   "metadata": {},
   "outputs": [],
   "source": [
    "# Run this cell without changes\n",
    "\n",
    "review_index = 2\n",
    "\n",
    "# Extract review from list of reviews\n",
    "selected_review = reviews[review_index]\n",
    "\n",
    "# Extract title\n",
    "selected_review_title = selected_review[\"review_title\"]\n",
    "\n",
    "# Extract rating and format as positive, negative, or neutral\n",
    "selected_rating = selected_review[\"rating\"]\n",
    "if selected_rating >= 4:\n",
    "    selected_sentiment = \"positive\"\n",
    "elif selected_rating <= 2:\n",
    "    selected_sentiment = \"negative\"\n",
    "else:\n",
    "    selected_sentiment = \"neutral\"\n",
    "    \n",
    "# Extract author\n",
    "selected_author = selected_review[\"reviewer_name\"]\n",
    "\n",
    "# Extract year (doesn't need to be int for this use case)\n",
    "selected_year = selected_review[\"review_time\"][-4:]\n",
    "\n",
    "print(f'\"{selected_review_title}\": This was a {selected_sentiment} review written by {selected_author} in {selected_year}.')"
   ]
  },
  {
   "cell_type": "markdown",
   "metadata": {},
   "source": [
    "Rewrite that code as a function called `get_review_summary`, which takes a review dictionary as an argument, and returns a string that resembles the previous summary string, e.g.\n",
    "\n",
    "```\n",
    "\"Bialetti is the Best!\": This was a positive review written by Karen in 2017.\n",
    "```\n",
    "\n",
    "*Hint: look back at the functions you have previously written to see which ones might be useful to call within this function!*"
   ]
  },
  {
   "cell_type": "code",
   "execution_count": null,
   "metadata": {},
   "outputs": [],
   "source": [
    "# Your code here\n",
    "\n",
    "print(get_review_summary(reviews[2])) # \"Bialetti is the Best!\": This was a positive review written by Karen in 2017."
   ]
  },
  {
   "cell_type": "markdown",
   "metadata": {},
   "source": [
    "Now, instead of copying and pasting that every time, we can just call it repeatedly!\n",
    "\n",
    "Write a function that prompts the user to enter a review index, then prints the relevant review summary. The function should be called `review_summary_prompt`, it should take a list of reviews as an argument, and should print information but not return anything.\n",
    "\n",
    "Display the message `\"Please enter a review index: \"` when prompting for input. You can assume that the user will enter a valid index between 0 and 85.\n",
    "\n",
    "Hints:\n",
    "\n",
    " - Use the built-in `input()` function ([check the documentation here to see how to use it!](https://docs.python.org/3/library/functions.html#input))\n",
    " - Remember that this function always returns a string, so you will have to convert the user-supplied index into an integer, otherwise you'll get the error `TypeError: list indices must be integers or slices, not str`\n",
    " - If you're wondering about the type of a given variable, you can use the built-in `type()` function"
   ]
  },
  {
   "cell_type": "code",
   "execution_count": null,
   "metadata": {},
   "outputs": [],
   "source": [
    "def review_summary_prompt(list_of_reviews):\n",
    "    # Replace None with appropriate code\n",
    "    None"
   ]
  },
  {
   "cell_type": "markdown",
   "metadata": {},
   "source": [
    "Run this cell, and try entering 2, 4, 52 (examples of positive, negative, neutral reviews)\n",
    "\n",
    "You can also try any index you want, between 0 and 85!"
   ]
  },
  {
   "cell_type": "code",
   "execution_count": null,
   "metadata": {},
   "outputs": [],
   "source": [
    "# Run this cell without changes\n",
    "review_summary_prompt(reviews)"
   ]
  },
  {
   "cell_type": "markdown",
   "metadata": {},
   "source": [
    "## Putting It All Together\n",
    "\n",
    "In this section, we are just calling several of the previously-created functions to double-check that they are working as expected. You do not need to write any more code, although if you notice something wrong with one of your functions you can go back and fix it!  Just make sure that you re-run the cell declaring the function if you want the behavior of calling the function to change.\n",
    "\n",
    "### Data Summary"
   ]
  },
  {
   "cell_type": "code",
   "execution_count": null,
   "metadata": {},
   "outputs": [],
   "source": [
    "# Run this cell without changes\n",
    "\n",
    "print(f\"The coffee product review dataset contains {len(reviews)} reviews\")\n",
    "print()\n",
    "print(\"Review sentiment:\")\n",
    "for key, value in get_sentiment_counts(reviews).items():\n",
    "    print(f\"{value} {key} reviews\")\n",
    "print()\n",
    "print(\"Review years:\")\n",
    "print(get_years(reviews))"
   ]
  },
  {
   "cell_type": "markdown",
   "metadata": {},
   "source": [
    "### Subset Samples"
   ]
  },
  {
   "cell_type": "code",
   "execution_count": null,
   "metadata": {},
   "outputs": [],
   "source": [
    "# Run this cell without changes\n",
    "\n",
    "print(\"Examples of positive reviews:\")\n",
    "positive_samples = get_positive_review_sample(reviews, 5)\n",
    "for review in positive_samples:\n",
    "    print(get_review_summary(review))\n",
    "print()\n",
    "print(\"Examples of negative reviews:\")\n",
    "negative_samples = get_negative_review_sample(reviews, 5)\n",
    "for review in negative_samples:\n",
    "    print(get_review_summary(review))"
   ]
  },
  {
   "cell_type": "markdown",
   "metadata": {},
   "source": [
    "### Summary Prompt"
   ]
  },
  {
   "cell_type": "code",
   "execution_count": null,
   "metadata": {},
   "outputs": [],
   "source": [
    "# Run this cell without changes\n",
    "review_summary_prompt(reviews)"
   ]
  },
  {
   "cell_type": "markdown",
   "metadata": {},
   "source": [
    "## Conclusion\n",
    "\n",
    "Congratulations, you made it to the end of another cumulative lab! In this lab you practiced refactoring previously-written code to use functions, and using loops to avoid repetition and perform analyses of the whole dataset as well as certain subsets."
   ]
  }
 ],
 "metadata": {
  "kernelspec": {
   "display_name": "saturn (Python 3)",
   "language": "python",
   "name": "python3"
  },
  "language_info": {
   "codemirror_mode": {
    "name": "ipython",
    "version": 3
   },
   "file_extension": ".py",
   "mimetype": "text/x-python",
   "name": "python",
   "nbconvert_exporter": "python",
   "pygments_lexer": "ipython3",
   "version": "3.10.6"
  }
 },
 "nbformat": 4,
 "nbformat_minor": 4
}
