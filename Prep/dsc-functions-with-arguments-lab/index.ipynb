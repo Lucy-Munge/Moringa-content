{
 "cells": [
  {
   "cell_type": "markdown",
   "metadata": {},
   "source": [
    "# Functions With Arguments - Lab\n",
    "\n",
    "## Introduction\n",
    "In this lesson, we have decided to visit one of our travel destinations! This time we have chosen to visit Albuquerque, but we aren't very familiar with this city and are quite hungry after our long flight. We will be working with information we pulled from the Yelp database to help us find a restaurant where we can satisfy our hunger. While Yelp is great for learning about what to do in Albuquerque, it gives us back a lot of information. We'll use what we know about functions and dictionaries to format and read our data more easily. \n",
    "\n",
    "## Objectives\n",
    "\n",
    "You will be able to:\n",
    "\n",
    "* Declare and use a function with arguments\n",
    "\n",
    "## Exploring Two Restaurants in Albuquerque\n",
    "\n",
    "Let's take a quick look at the information Yelp provides for a single restaurant:"
   ]
  },
  {
   "cell_type": "code",
   "execution_count": null,
   "metadata": {},
   "outputs": [],
   "source": []
  },
  {
   "cell_type": "code",
   "execution_count": 1,
   "metadata": {},
   "outputs": [],
   "source": [
    "# Run this cell without changes\n",
    "fork_fig = {'categories': [{'alias': 'burgers', 'title': 'Burgers'},\n",
    "  {'alias': 'sandwiches', 'title': 'Sandwiches'},\n",
    "  {'alias': 'salad', 'title': 'Salad'}],\n",
    " 'coordinates': {'latitude': 35.10871, 'longitude': -106.56739},\n",
    " 'display_phone': '(505) 881-5293',\n",
    " 'distance': 3571.724649307866,\n",
    " 'id': 'fork-and-fig-albuquerque',\n",
    " 'image_url': 'https://s3-media1.fl.yelpcdn.com/bphoto/_-DpXKfS3jv6DyA47g6Fxg/o.jpg',\n",
    " 'is_closed': False,\n",
    " 'location': {'address1': '6904 Menaul Blvd NE',\n",
    "  'address2': 'Ste C',\n",
    "  'address3': '',\n",
    "  'city': 'Albuquerque',\n",
    "  'country': 'US',\n",
    "  'display_address': ['6904 Menaul Blvd NE', 'Ste C', 'Albuquerque, NM 87110'],\n",
    "  'state': 'NM',\n",
    "  'zip_code': '87110'},\n",
    " 'name': 'Fork & Fig',\n",
    " 'phone': '+15058815293',\n",
    " 'price': '$$',\n",
    " 'rating': 4.5,\n",
    " 'review_count': 604,\n",
    " 'transactions': [],\n",
    " 'url': 'https://www.yelp.com/biz/fork-and-fig-albuquerque?adjust_creative=SYc8R4Gowqru5h4SBKZXsQ&utm_campaign=yelp_api_v3&utm_medium=api_v3_business_search&utm_source=SYc8R4Gowqru5h4SBKZXsQ'}"
   ]
  },
  {
   "cell_type": "markdown",
   "metadata": {},
   "source": [
    "Above is the information provided about `Fork & Fig`, but all restaurants are provided with this information.  For example, here is the information provided by Yelp for another restaurant, `Frontier Restaurant`."
   ]
  },
  {
   "cell_type": "code",
   "execution_count": 2,
   "metadata": {},
   "outputs": [],
   "source": [
    "# Run this cell without changes\n",
    "frontier_restaurant = {'categories': [{'alias': 'mexican', 'title': 'Mexican'},\n",
    "  {'alias': 'diners', 'title': 'Diners'},\n",
    "  {'alias': 'tradamerican', 'title': 'American (Traditional)'}],\n",
    " 'coordinates': {'latitude': 35.0808088832532, 'longitude': -106.619402244687},\n",
    " 'display_phone': '(505) 266-0550',\n",
    " 'distance': 4033.6583235266075,\n",
    " 'id': 'frontier-restaurant-albuquerque-2',\n",
    " 'image_url': 'https://s3-media4.fl.yelpcdn.com/bphoto/M9L2z6-G0NobuDJ6YTh6VA/o.jpg',\n",
    " 'is_closed': False,\n",
    " 'location': {'address1': '2400 Central Ave SE',\n",
    "  'address2': '',\n",
    "  'address3': '',\n",
    "  'city': 'Albuquerque',\n",
    "  'country': 'US',\n",
    "  'display_address': ['2400 Central Ave SE', 'Albuquerque, NM 87106'],\n",
    "  'state': 'NM',\n",
    "  'zip_code': '87106'},\n",
    " 'name': 'Frontier Restaurant',\n",
    " 'phone': '+15052660550',\n",
    " 'price': '$',\n",
    " 'rating': 4.0,\n",
    " 'review_count': 1369,\n",
    " 'transactions': [],\n",
    " 'url': 'https://www.yelp.com/biz/frontier-restaurant-albuquerque-2?adjust_creative=SYc8R4Gowqru5h4SBKZXsQ&utm_campaign=yelp_api_v3&utm_medium=api_v3_business_search&utm_source=SYc8R4Gowqru5h4SBKZXsQ'}"
   ]
  },
  {
   "cell_type": "markdown",
   "metadata": {},
   "source": [
    "As we already know, one way to quickly view the attributes of a dictionary is to look at the keys of the dictionary."
   ]
  },
  {
   "cell_type": "code",
   "execution_count": 3,
   "metadata": {},
   "outputs": [
    {
     "data": {
      "text/plain": [
       "dict_keys(['categories', 'coordinates', 'display_phone', 'distance', 'id', 'image_url', 'is_closed', 'location', 'name', 'phone', 'price', 'rating', 'review_count', 'transactions', 'url'])"
      ]
     },
     "execution_count": 3,
     "metadata": {},
     "output_type": "execute_result"
    }
   ],
   "source": [
    "# Run this cell without changes\n",
    "fork_fig.keys()"
   ]
  },
  {
   "cell_type": "code",
   "execution_count": 4,
   "metadata": {},
   "outputs": [
    {
     "data": {
      "text/plain": [
       "dict_keys(['categories', 'coordinates', 'display_phone', 'distance', 'id', 'image_url', 'is_closed', 'location', 'name', 'phone', 'price', 'rating', 'review_count', 'transactions', 'url'])"
      ]
     },
     "execution_count": 4,
     "metadata": {},
     "output_type": "execute_result"
    }
   ],
   "source": [
    "# Run this cell without changes\n",
    "frontier_restaurant.keys()"
   ]
  },
  {
   "cell_type": "code",
   "execution_count": 5,
   "metadata": {},
   "outputs": [
    {
     "data": {
      "text/plain": [
       "True"
      ]
     },
     "execution_count": 5,
     "metadata": {},
     "output_type": "execute_result"
    }
   ],
   "source": [
    "# Run this cell without changes\n",
    "fork_fig.keys() == frontier_restaurant.keys()"
   ]
  },
  {
   "cell_type": "markdown",
   "metadata": {},
   "source": [
    "As we can see from our above comparison, Yelp provides us with the same information for both restaurants.  \n",
    "\n",
    "## Writing Functions to Extract Information\n",
    "\n",
    "Ok, now let's write our functions.\n",
    "\n",
    "Write a function called `restaurant_name()` that, provided a dictionary representing a restaurant like you saw above, returns that restaurant's name."
   ]
  },
  {
   "cell_type": "code",
   "execution_count": 6,
   "metadata": {},
   "outputs": [],
   "source": [
    "# accessing the key 'name' from the list of frontier_restaurant => dict['key'] or dictionary.get('key')\n",
    "def restaurant_name(restaurant):\n",
    "    for key,value in frontier_restaurant.items():\n",
    "        return restaurant['name']"
   ]
  },
  {
   "cell_type": "code",
   "execution_count": 7,
   "metadata": {},
   "outputs": [
    {
     "data": {
      "text/plain": [
       "'Frontier Restaurant'"
      ]
     },
     "execution_count": 7,
     "metadata": {},
     "output_type": "execute_result"
    }
   ],
   "source": [
    "# Run this cell without changes\n",
    "restaurant_name(frontier_restaurant) # 'Frontier Restaurant'"
   ]
  },
  {
   "cell_type": "code",
   "execution_count": 8,
   "metadata": {},
   "outputs": [
    {
     "data": {
      "text/plain": [
       "'Fork & Fig'"
      ]
     },
     "execution_count": 8,
     "metadata": {},
     "output_type": "execute_result"
    }
   ],
   "source": [
    "# Run this cell without changes\n",
    "restaurant_name(fork_fig) # 'Fork & Fig'"
   ]
  },
  {
   "cell_type": "markdown",
   "metadata": {},
   "source": [
    "Now write a function called `restaurant_rating()` that returns the rating of the provided restaurant."
   ]
  },
  {
   "cell_type": "code",
   "execution_count": 9,
   "metadata": {},
   "outputs": [],
   "source": [
    "def restaurant_rating(restaurant):\n",
    "    for key, value in frontier_restaurant.items():\n",
    "        return restaurant['rating']"
   ]
  },
  {
   "cell_type": "code",
   "execution_count": 10,
   "metadata": {},
   "outputs": [
    {
     "data": {
      "text/plain": [
       "4.0"
      ]
     },
     "execution_count": 10,
     "metadata": {},
     "output_type": "execute_result"
    }
   ],
   "source": [
    "# Run this cell without changes\n",
    "restaurant_rating(frontier_restaurant) # 4.0"
   ]
  },
  {
   "cell_type": "code",
   "execution_count": 11,
   "metadata": {},
   "outputs": [
    {
     "data": {
      "text/plain": [
       "4.5"
      ]
     },
     "execution_count": 11,
     "metadata": {},
     "output_type": "execute_result"
    }
   ],
   "source": [
    "# Run this cell without changes\n",
    "restaurant_rating(fork_fig) # 4.5"
   ]
  },
  {
   "cell_type": "markdown",
   "metadata": {},
   "source": [
    "## Comparing Restaurants\n",
    "\n",
    "Now let's write a function called `is_better()` that returns `True` if a restaurant has a higher rating than an alternative restaurant.  The first argument should be called `restaurant` and the second argument should be called `alternative`.  The function returns `False` if the two ratings are equal.\n",
    "\n",
    "This function should *call* (AKA *invoke*) your existing `restaurant_rating` function. "
   ]
  },
  {
   "cell_type": "code",
   "execution_count": 12,
   "metadata": {},
   "outputs": [],
   "source": [
    "def is_better(restaurant, alternative):\n",
    "    restaurant_rating_1 = restaurant_rating(restaurant)\n",
    "    restaurant_rating_2 = restaurant_rating(alternative)\n",
    "    if restaurant_rating_1 > restaurant_rating_2:\n",
    "        return True\n",
    "    if restaurant_rating_1 == restaurant_rating_2:\n",
    "            return False"
   ]
  },
  {
   "cell_type": "code",
   "execution_count": 13,
   "metadata": {},
   "outputs": [],
   "source": [
    "# Run this cell without changes\n",
    "is_better(frontier_restaurant, fork_fig) # False"
   ]
  },
  {
   "cell_type": "code",
   "execution_count": 14,
   "metadata": {},
   "outputs": [
    {
     "data": {
      "text/plain": [
       "True"
      ]
     },
     "execution_count": 14,
     "metadata": {},
     "output_type": "execute_result"
    }
   ],
   "source": [
    "# Run this cell without changes\n",
    "is_better(fork_fig, frontier_restaurant) # True"
   ]
  },
  {
   "cell_type": "code",
   "execution_count": 15,
   "metadata": {},
   "outputs": [
    {
     "data": {
      "text/plain": [
       "False"
      ]
     },
     "execution_count": 15,
     "metadata": {},
     "output_type": "execute_result"
    }
   ],
   "source": [
    "# Run this cell without changes\n",
    "is_better(fork_fig, fork_fig) # False"
   ]
  },
  {
   "cell_type": "markdown",
   "metadata": {},
   "source": [
    "Now let's write a function called `is_cheaper()` that returns `True` if a restaurant has a lower price, that is the restaurant has fewer `'$'` signs, than an alternative restaurant. The first argument should be called `restaurant` and the second argument should be called `alternative`. The function returns `False` if the two prices are equal.\n",
    "\n",
    "> **Hint:** *Strings in Python respond to then `len` function.*"
   ]
  },
  {
   "cell_type": "code",
   "execution_count": 16,
   "metadata": {},
   "outputs": [],
   "source": [
    "def is_cheaper(restaurant, alternative):\n",
    "    # Replace None with appropriate code\n",
    "    if len (restaurant['price']) < len(alternative['price']):\n",
    "        return True\n",
    "    if len (restaurant['price']) == len(alternative['price']):\n",
    "        return False\n",
    "    if len (restaurant['price']) > len(alternative['price']):\n",
    "        return False"
   ]
  },
  {
   "cell_type": "code",
   "execution_count": 17,
   "metadata": {},
   "outputs": [
    {
     "data": {
      "text/plain": [
       "False"
      ]
     },
     "execution_count": 17,
     "metadata": {},
     "output_type": "execute_result"
    }
   ],
   "source": [
    "# Run this cell without changes\n",
    "is_cheaper(fork_fig, frontier_restaurant) # False"
   ]
  },
  {
   "cell_type": "code",
   "execution_count": 18,
   "metadata": {},
   "outputs": [
    {
     "data": {
      "text/plain": [
       "True"
      ]
     },
     "execution_count": 18,
     "metadata": {},
     "output_type": "execute_result"
    }
   ],
   "source": [
    "# Run this cell without changes\n",
    "is_cheaper(frontier_restaurant, fork_fig) # True"
   ]
  },
  {
   "cell_type": "code",
   "execution_count": 19,
   "metadata": {},
   "outputs": [
    {
     "data": {
      "text/plain": [
       "False"
      ]
     },
     "execution_count": 19,
     "metadata": {},
     "output_type": "execute_result"
    }
   ],
   "source": [
    "# Run this cell without changes\n",
    "is_cheaper(fork_fig, fork_fig) # False"
   ]
  },
  {
   "cell_type": "markdown",
   "metadata": {},
   "source": [
    "Now write a function called `high_rating()` that takes a `restaurant` as a first argument and a rating (in the form of a number) as the second argument and returns `True` if the given restaurant's rating is greater than or equal to the provided rating and returns `False` otherwise."
   ]
  },
  {
   "cell_type": "code",
   "execution_count": 20,
   "metadata": {},
   "outputs": [],
   "source": [
    "def high_rating(restaurant, rating):\n",
    "    # Replace None with appropriate code\n",
    "    for key, value in restaurant.items():\n",
    "        if rating == int(restaurant['rating']):\n",
    "            return True\n",
    "        else:\n",
    "            return False"
   ]
  },
  {
   "cell_type": "code",
   "execution_count": 21,
   "metadata": {},
   "outputs": [
    {
     "data": {
      "text/plain": [
       "True"
      ]
     },
     "execution_count": 21,
     "metadata": {},
     "output_type": "execute_result"
    }
   ],
   "source": [
    "# Run this cell without changes\n",
    "high_rating(fork_fig, 4) # True"
   ]
  },
  {
   "cell_type": "code",
   "execution_count": 22,
   "metadata": {},
   "outputs": [
    {
     "data": {
      "text/plain": [
       "False"
      ]
     },
     "execution_count": 22,
     "metadata": {},
     "output_type": "execute_result"
    }
   ],
   "source": [
    "# Run this cell without changes\n",
    "high_rating(fork_fig, 5) # False"
   ]
  },
  {
   "cell_type": "code",
   "execution_count": 23,
   "metadata": {},
   "outputs": [
    {
     "data": {
      "text/plain": [
       "True"
      ]
     },
     "execution_count": 23,
     "metadata": {},
     "output_type": "execute_result"
    }
   ],
   "source": [
    "# Run this cell without changes\n",
    "high_rating(frontier_restaurant, 4) # True"
   ]
  },
  {
   "cell_type": "markdown",
   "metadata": {},
   "source": [
    "Awesome! We have built out some pretty cool functions so far. Let's now think about a case where we have more than just two data points to operate on. We have added some more restaurant dictionaries below and are going to add them to our list of restaurants. Don't worry that they have a slightly different amount of data. \n",
    "\n",
    "We are going to need a function `mean_review_count()` to give us an idea what the typical value for `review_count` is. This function should take in a list of restaurant dictionaries and return the mean of the review counts for the collection of restaurant dictionaries. "
   ]
  },
  {
   "cell_type": "code",
   "execution_count": 24,
   "metadata": {},
   "outputs": [],
   "source": [
    "# Run this cell without changes\n",
    "dennys = {'categories': [{'alias': 'breakfast', 'title': 'Breakfast'},\n",
    "  {'alias': 'diners', 'title': 'Diners'},\n",
    "  {'alias': 'tradamerican', 'title': 'American (Traditional)'}],\n",
    " 'is_closed': False,\n",
    " 'name': \"Denny's\",\n",
    " 'price': '$',\n",
    " 'rating': 3.0,\n",
    " 'review_count': 1200}\n",
    "\n",
    "ihop = {'categories': [{'alias': 'breakfast', 'title': 'Breakfast'},\n",
    "  {'alias': 'diners', 'title': 'Diners'},\n",
    "  {'alias': 'tradamerican', 'title': 'American (Traditional)'}],\n",
    " 'is_closed': False,\n",
    " 'name': \"IHOP: International House of Pancakes\",\n",
    " 'price': '$',\n",
    " 'rating': 3.45,\n",
    " 'review_count': 1588}\n",
    "\n",
    "mcdonalds = {'categories': [{'alias': 'breakfast', 'title': 'Breakfast'},\n",
    "  {'alias': 'burgers', 'title': 'Burgers'},\n",
    "  {'alias': 'fast food', 'title': 'Good Food Fast'}],\n",
    " 'is_closed': False,\n",
    " 'name': \"McDonalds\",\n",
    " 'price': '$',\n",
    " 'rating': 3.45,\n",
    " 'review_count': 2455}\n",
    "\n",
    "pearl_street_oyster_bar = {'categories': [{'alias': 'seafood', 'title': 'Seafood'},\n",
    "  {'alias': 'gourmet', 'title': 'Gourmet'},\n",
    "  {'alias': 'Shellfish', 'title': 'Shellfish'}],\n",
    " 'is_closed': False,\n",
    " 'name': \"Pear Street Oyster Bar\",\n",
    " 'price': '$$$',\n",
    " 'rating': 4.75,\n",
    " 'review_count': 350}"
   ]
  },
  {
   "cell_type": "code",
   "execution_count": 25,
   "metadata": {},
   "outputs": [],
   "source": [
    "# Run this cell without changes\n",
    "restaurant_list = [pearl_street_oyster_bar, mcdonalds, ihop, dennys, fork_fig, frontier_restaurant]"
   ]
  },
  {
   "cell_type": "code",
   "execution_count": 26,
   "metadata": {},
   "outputs": [],
   "source": [
    "def mean_review_count(list_of_restaurants):\n",
    "    # Replace None with appropriate code\n",
    "    restaurant_reviews =[]\n",
    "    for restaurant in list_of_restaurants:\n",
    "        restaurant_reviews.append(restaurant['review_count'])\n",
    "            \n",
    "        \n",
    "    return sum(restaurant_reviews) / len(restaurant_reviews)"
   ]
  },
  {
   "cell_type": "code",
   "execution_count": 27,
   "metadata": {},
   "outputs": [
    {
     "data": {
      "text/plain": [
       "1261.0"
      ]
     },
     "execution_count": 27,
     "metadata": {},
     "output_type": "execute_result"
    }
   ],
   "source": [
    "# Run this cell without changes\n",
    "mean_review_count(restaurant_list) #1261.0"
   ]
  },
  {
   "cell_type": "markdown",
   "metadata": {},
   "source": [
    "Now we have an idea of how many reviews a typical restaurant has, but none of these restaurants have exactly that number of reviews.\n",
    "\n",
    "Which restaurants have a `review_count` within 150 of the average? (\"within 150\" meaning exactly average, <= 150 fewer reviews than the average, or <= 150 more reviews than the average)\n",
    "\n",
    "Return a list of the restaurant names."
   ]
  },
  {
   "cell_type": "code",
   "execution_count": 40,
   "metadata": {},
   "outputs": [],
   "source": [
    "def near_average_review_count(list_of_restaurants):\n",
    "    \n",
    "    mean = mean_review_count(list_of_restaurants)\n",
    "    # Replace None with appropriate code\n",
    "    \n",
    "    restaurant_reviews =[]\n",
    "    for restaurant in list_of_restaurants:\n",
    "        if restaurant['review_count'] >= 1261 - 150 and restaurant['review_count'] <= 1261 + 150:  \n",
    "            restaurant_reviews.append(restaurant['name'])\n",
    "    return restaurant_reviews  \n",
    "               "
   ]
  },
  {
   "cell_type": "code",
   "execution_count": 41,
   "metadata": {},
   "outputs": [
    {
     "data": {
      "text/plain": [
       "[\"Denny's\", 'Frontier Restaurant']"
      ]
     },
     "execution_count": 41,
     "metadata": {},
     "output_type": "execute_result"
    }
   ],
   "source": [
    "# Run this cell without changes\n",
    "near_average_review_count(restaurant_list) # [\"Denny's\", 'Frontier Restaurant']"
   ]
  },
  {
   "cell_type": "markdown",
   "metadata": {},
   "source": [
    "## Summary\n",
    "\n",
    "Great! In this lab we saw how to pass both single and multiple arguments to functions. Function arguments can make functions more flexible and reusable!"
   ]
  },
  {
   "cell_type": "code",
   "execution_count": null,
   "metadata": {},
   "outputs": [],
   "source": []
  }
 ],
 "metadata": {
  "kernelspec": {
   "display_name": "saturn (Python 3)",
   "language": "python",
   "name": "python3"
  },
  "language_info": {
   "codemirror_mode": {
    "name": "ipython",
    "version": 3
   },
   "file_extension": ".py",
   "mimetype": "text/x-python",
   "name": "python",
   "nbconvert_exporter": "python",
   "pygments_lexer": "ipython3",
   "version": "3.10.6"
  },
  "toc": {
   "base_numbering": 1,
   "nav_menu": {},
   "number_sections": true,
   "sideBar": true,
   "skip_h1_title": false,
   "title_cell": "Table of Contents",
   "title_sidebar": "Contents",
   "toc_cell": false,
   "toc_position": {},
   "toc_section_display": true,
   "toc_window_display": false
  }
 },
 "nbformat": 4,
 "nbformat_minor": 2
}
