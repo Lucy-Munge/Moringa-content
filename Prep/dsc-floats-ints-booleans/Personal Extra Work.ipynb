{
 "cells": [
  {
   "cell_type": "code",
   "execution_count": 1,
   "id": "89b2f352",
   "metadata": {},
   "outputs": [
    {
     "data": {
      "text/plain": [
       "202"
      ]
     },
     "execution_count": 1,
     "metadata": {},
     "output_type": "execute_result"
    }
   ],
   "source": [
    "101+101"
   ]
  },
  {
   "cell_type": "code",
   "execution_count": 2,
   "id": "63a44a73",
   "metadata": {},
   "outputs": [
    {
     "data": {
      "text/plain": [
       "675"
      ]
     },
     "execution_count": 2,
     "metadata": {},
     "output_type": "execute_result"
    }
   ],
   "source": [
    "15*45"
   ]
  },
  {
   "cell_type": "code",
   "execution_count": 3,
   "id": "479309a0",
   "metadata": {},
   "outputs": [
    {
     "data": {
      "text/plain": [
       "int"
      ]
     },
     "execution_count": 3,
     "metadata": {},
     "output_type": "execute_result"
    }
   ],
   "source": [
    "type(675)"
   ]
  },
  {
   "cell_type": "code",
   "execution_count": 4,
   "id": "a0e2f622",
   "metadata": {},
   "outputs": [
    {
     "data": {
      "text/plain": [
       "float"
      ]
     },
     "execution_count": 4,
     "metadata": {},
     "output_type": "execute_result"
    }
   ],
   "source": [
    "type(45.2)"
   ]
  },
  {
   "cell_type": "code",
   "execution_count": 6,
   "id": "681c26a4",
   "metadata": {},
   "outputs": [
    {
     "data": {
      "text/plain": [
       "120.5"
      ]
     },
     "execution_count": 6,
     "metadata": {},
     "output_type": "execute_result"
    }
   ],
   "source": [
    "75+45.5"
   ]
  },
  {
   "cell_type": "markdown",
   "id": "7bc4e911",
   "metadata": {},
   "source": [
    "#### Numeric data types include: Floats and Integers.\n",
    "Floats are numbers with decimal points i.e 42.5\n",
    "Integers are whole numbers i.e 675\n",
    "\n",
    "A float combined with an integer returns a number that is a float."
   ]
  },
  {
   "cell_type": "code",
   "execution_count": 8,
   "id": "b04c5c81",
   "metadata": {},
   "outputs": [
    {
     "data": {
      "text/plain": [
       "bool"
      ]
     },
     "execution_count": 8,
     "metadata": {},
     "output_type": "execute_result"
    }
   ],
   "source": [
    "type(True)"
   ]
  },
  {
   "cell_type": "code",
   "execution_count": 9,
   "id": "f91e773c",
   "metadata": {},
   "outputs": [
    {
     "data": {
      "text/plain": [
       "True"
      ]
     },
     "execution_count": 9,
     "metadata": {},
     "output_type": "execute_result"
    }
   ],
   "source": [
    "\"Lucy Munge\".endswith(\"Munge\")"
   ]
  },
  {
   "cell_type": "code",
   "execution_count": 12,
   "id": "92a794d6",
   "metadata": {},
   "outputs": [
    {
     "data": {
      "text/plain": [
       "False"
      ]
     },
     "execution_count": 12,
     "metadata": {},
     "output_type": "execute_result"
    }
   ],
   "source": [
    "\"Lucy Munge\".endswith(\"Lucy\")"
   ]
  },
  {
   "cell_type": "code",
   "execution_count": 13,
   "id": "7135ba04",
   "metadata": {},
   "outputs": [
    {
     "data": {
      "text/plain": [
       "True"
      ]
     },
     "execution_count": 13,
     "metadata": {},
     "output_type": "execute_result"
    }
   ],
   "source": [
    "\"Lucy Munge\".startswith(\"Lucy\")"
   ]
  },
  {
   "cell_type": "code",
   "execution_count": 14,
   "id": "5a3aa3c4",
   "metadata": {},
   "outputs": [
    {
     "data": {
      "text/plain": [
       "False"
      ]
     },
     "execution_count": 14,
     "metadata": {},
     "output_type": "execute_result"
    }
   ],
   "source": [
    "100/20>10"
   ]
  },
  {
   "cell_type": "code",
   "execution_count": 16,
   "id": "27edefb5",
   "metadata": {},
   "outputs": [
    {
     "data": {
      "text/plain": [
       "True"
      ]
     },
     "execution_count": 16,
     "metadata": {},
     "output_type": "execute_result"
    }
   ],
   "source": [
    "50*2<200"
   ]
  },
  {
   "cell_type": "markdown",
   "id": "7daccaeb",
   "metadata": {},
   "source": [
    "## Data types as a choice"
   ]
  },
  {
   "cell_type": "code",
   "execution_count": 17,
   "id": "2f53b5bd",
   "metadata": {},
   "outputs": [
    {
     "data": {
      "text/plain": [
       "'34Th Street'"
      ]
     },
     "execution_count": 17,
     "metadata": {},
     "output_type": "execute_result"
    }
   ],
   "source": [
    "\"34th street\".title()"
   ]
  },
  {
   "cell_type": "code",
   "execution_count": 18,
   "id": "e26baf0e",
   "metadata": {
    "scrolled": true
   },
   "outputs": [
    {
     "ename": "TypeError",
     "evalue": "'<' not supported between instances of 'str' and 'int'",
     "output_type": "error",
     "traceback": [
      "\u001b[0;31m---------------------------------------------------------------------------\u001b[0m",
      "\u001b[0;31mTypeError\u001b[0m                                 Traceback (most recent call last)",
      "Cell \u001b[0;32mIn [18], line 1\u001b[0m\n\u001b[0;32m----> 1\u001b[0m \u001b[38;5;124;43m\"\u001b[39;49m\u001b[38;5;124;43m34th Street\u001b[39;49m\u001b[38;5;124;43m\"\u001b[39;49m\u001b[38;5;241;43m<\u001b[39;49m\u001b[38;5;241;43m22\u001b[39;49m\n",
      "\u001b[0;31mTypeError\u001b[0m: '<' not supported between instances of 'str' and 'int'"
     ]
    }
   ],
   "source": [
    "\"34th Street\"<22"
   ]
  },
  {
   "cell_type": "markdown",
   "id": "400e63fc",
   "metadata": {},
   "source": [
    "#### < does not work with str and int\n",
    "We can go from an int to a string. Simply write the name of the type followed by parentheses and the data on which we we want to operate"
   ]
  },
  {
   "cell_type": "code",
   "execution_count": 19,
   "id": "4f0ada35",
   "metadata": {},
   "outputs": [
    {
     "data": {
      "text/plain": [
       "'34th street'"
      ]
     },
     "execution_count": 19,
     "metadata": {},
     "output_type": "execute_result"
    }
   ],
   "source": [
    "str(34)+'th street'"
   ]
  },
  {
   "cell_type": "code",
   "execution_count": 20,
   "id": "5583da65",
   "metadata": {},
   "outputs": [
    {
     "data": {
      "text/plain": [
       "str"
      ]
     },
     "execution_count": 20,
     "metadata": {},
     "output_type": "execute_result"
    }
   ],
   "source": [
    "type(\"34th street\")"
   ]
  },
  {
   "cell_type": "markdown",
   "id": "77582e0f",
   "metadata": {},
   "source": [
    "### STRINGS & NUMERIC TYPES"
   ]
  },
  {
   "cell_type": "code",
   "execution_count": 21,
   "id": "3a7ccc67",
   "metadata": {},
   "outputs": [
    {
     "data": {
      "text/plain": [
       "'ART VANDERLAY'"
      ]
     },
     "execution_count": 21,
     "metadata": {},
     "output_type": "execute_result"
    }
   ],
   "source": [
    "\"art vanderlay\".upper() #'ART VANDERLAY'"
   ]
  },
  {
   "cell_type": "code",
   "execution_count": 22,
   "id": "6419ce27",
   "metadata": {},
   "outputs": [
    {
     "data": {
      "text/plain": [
       "'Art Vanderlay'"
      ]
     },
     "execution_count": 22,
     "metadata": {},
     "output_type": "execute_result"
    }
   ],
   "source": [
    "\"art vanderlay\".title() #'Art Vanderlay'"
   ]
  },
  {
   "cell_type": "code",
   "execution_count": 24,
   "id": "65966d47",
   "metadata": {},
   "outputs": [
    {
     "data": {
      "text/plain": [
       "'CEO'"
      ]
     },
     "execution_count": 24,
     "metadata": {},
     "output_type": "execute_result"
    }
   ],
   "source": [
    "\"ceo\".upper() #'CEO'"
   ]
  },
  {
   "cell_type": "code",
   "execution_count": 26,
   "id": "bc59b694",
   "metadata": {},
   "outputs": [
    {
     "data": {
      "text/plain": [
       "True"
      ]
     },
     "execution_count": 26,
     "metadata": {},
     "output_type": "execute_result"
    }
   ],
   "source": [
    "\"art.vanderlay@vanderlay.com\".endswith(\"com\")"
   ]
  },
  {
   "cell_type": "code",
   "execution_count": 27,
   "id": "f586b222",
   "metadata": {},
   "outputs": [
    {
     "data": {
      "text/plain": [
       "False"
      ]
     },
     "execution_count": 27,
     "metadata": {},
     "output_type": "execute_result"
    }
   ],
   "source": [
    "\"art.vanderlay@vanderlay.co\".endswith(\"com\")"
   ]
  },
  {
   "cell_type": "code",
   "execution_count": 28,
   "id": "9800e637",
   "metadata": {},
   "outputs": [
    {
     "name": "stdout",
     "output_type": "stream",
     "text": [
      "Python is awesome\n"
     ]
    }
   ],
   "source": [
    "x = \"Python is \"\n",
    "y = \"awesome\"\n",
    "z =  x + y\n",
    "print(z)"
   ]
  },
  {
   "cell_type": "markdown",
   "id": "fd36fd5e",
   "metadata": {},
   "source": [
    "\"vandelay.com\" is not preceded by \"www.\". We can perform what is called string concatenation to fix this! Use the plus sign, '+', to change the website 'vandelay.com' to the string 'www.vandelay.com' by prepending 'www.'."
   ]
  },
  {
   "cell_type": "code",
   "execution_count": 30,
   "id": "9f9ee66a",
   "metadata": {},
   "outputs": [
    {
     "name": "stdout",
     "output_type": "stream",
     "text": [
      "www.vanderlay.com\n"
     ]
    }
   ],
   "source": [
    "x=\"vanderlay.com\"\n",
    "y=\"www.\"\n",
    "z=y+x\n",
    "print(z)"
   ]
  },
  {
   "cell_type": "code",
   "execution_count": 31,
   "id": "ae80743c",
   "metadata": {},
   "outputs": [
    {
     "name": "stdout",
     "output_type": "stream",
     "text": [
      "HelloWorld\n"
     ]
    }
   ],
   "source": [
    "a = \"Hello\"\n",
    "b = \"World\"\n",
    "c = a + b\n",
    "print(c)"
   ]
  },
  {
   "cell_type": "markdown",
   "id": "0234bc16",
   "metadata": {},
   "source": [
    "To add a space between them, add a \" \":"
   ]
  },
  {
   "cell_type": "code",
   "execution_count": 37,
   "id": "3b2cc037",
   "metadata": {},
   "outputs": [
    {
     "name": "stdout",
     "output_type": "stream",
     "text": [
      "Hello World\n"
     ]
    }
   ],
   "source": [
    "a = \"Hello\"\n",
    "b = \"World\"\n",
    "c = a +\" \"+ b\n",
    "print(c)"
   ]
  },
  {
   "cell_type": "markdown",
   "id": "0a4d4996",
   "metadata": {},
   "source": [
    "## nb\n",
    "For numbers, the + character works as a mathematical operator:"
   ]
  },
  {
   "cell_type": "code",
   "execution_count": 33,
   "id": "010c29b1",
   "metadata": {},
   "outputs": [
    {
     "name": "stdout",
     "output_type": "stream",
     "text": [
      "15\n"
     ]
    }
   ],
   "source": [
    "x = 5\n",
    "y = 10\n",
    "print(x + y)"
   ]
  },
  {
   "cell_type": "markdown",
   "id": "48e447af",
   "metadata": {},
   "source": [
    "If you try to combine a string and a number, Python will give you an error:"
   ]
  },
  {
   "cell_type": "code",
   "execution_count": 34,
   "id": "64922c13",
   "metadata": {},
   "outputs": [
    {
     "ename": "TypeError",
     "evalue": "unsupported operand type(s) for +: 'int' and 'str'",
     "output_type": "error",
     "traceback": [
      "\u001b[0;31m---------------------------------------------------------------------------\u001b[0m",
      "\u001b[0;31mTypeError\u001b[0m                                 Traceback (most recent call last)",
      "Cell \u001b[0;32mIn [34], line 3\u001b[0m\n\u001b[1;32m      1\u001b[0m x \u001b[38;5;241m=\u001b[39m \u001b[38;5;241m5\u001b[39m\n\u001b[1;32m      2\u001b[0m y \u001b[38;5;241m=\u001b[39m \u001b[38;5;124m\"\u001b[39m\u001b[38;5;124mJohn\u001b[39m\u001b[38;5;124m\"\u001b[39m\n\u001b[0;32m----> 3\u001b[0m \u001b[38;5;28mprint\u001b[39m(\u001b[43mx\u001b[49m\u001b[43m \u001b[49m\u001b[38;5;241;43m+\u001b[39;49m\u001b[43m \u001b[49m\u001b[43my\u001b[49m)\n",
      "\u001b[0;31mTypeError\u001b[0m: unsupported operand type(s) for +: 'int' and 'str'"
     ]
    }
   ],
   "source": [
    "x = 5\n",
    "y = \"John\"\n",
    "print(x + y)"
   ]
  },
  {
   "cell_type": "code",
   "execution_count": 38,
   "id": "a5c11f57",
   "metadata": {},
   "outputs": [
    {
     "name": "stdout",
     "output_type": "stream",
     "text": [
      "LucyMuthoniMunge\n"
     ]
    }
   ],
   "source": [
    "a=\"Lucy\"\n",
    "b=\"Muthoni\"\n",
    "c=\"Munge\"\n",
    "print(a+b+c)"
   ]
  },
  {
   "cell_type": "code",
   "execution_count": 40,
   "id": "7e33e5c3",
   "metadata": {},
   "outputs": [
    {
     "name": "stdout",
     "output_type": "stream",
     "text": [
      "Lucy Muthoni Munge\n"
     ]
    }
   ],
   "source": [
    "a=\"Lucy\"\n",
    "b=\"Muthoni\"\n",
    "c=\"Munge\"\n",
    "print(a+\" \"+b+\" \"+c)"
   ]
  },
  {
   "cell_type": "code",
   "execution_count": null,
   "id": "acb112d1",
   "metadata": {},
   "outputs": [],
   "source": []
  }
 ],
 "metadata": {
  "kernelspec": {
   "display_name": "saturn (Python 3)",
   "language": "python",
   "name": "python3"
  },
  "language_info": {
   "codemirror_mode": {
    "name": "ipython",
    "version": 3
   },
   "file_extension": ".py",
   "mimetype": "text/x-python",
   "name": "python",
   "nbconvert_exporter": "python",
   "pygments_lexer": "ipython3",
   "version": "3.10.6"
  }
 },
 "nbformat": 4,
 "nbformat_minor": 5
}
