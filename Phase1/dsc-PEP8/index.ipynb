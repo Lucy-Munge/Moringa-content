{
 "cells": [
  {
   "cell_type": "markdown",
   "metadata": {},
   "source": [
    "# PEP8\n",
    "\n",
    "## Introduction\n",
    "\n",
    "PEP stands for Python Enhancement Proposals. Check them out [here](https://www.python.org/dev/peps/)! We'll start by talking about PEP8, which is the Style Guide for Python code. This discusses many points which are also important for collaboration. Git is useful for sharing and integrating code bases, but if code is poorly written it can still be cryptic and difficult to decipher. By following styling guidelines such as those outlined in PEP8, we can all create more legible code that can be shared in a streamlined fashion.\n",
    "\n",
    "## Objectives\n",
    "\n",
    "You will be able to:\n",
    "\n",
    "- List the conventions defined in PEP8 \n",
    "\n",
    "## PEP8 Introductory notes\n",
    "\n",
    "Remember that the guidelines in PEP8 are just that: guidelines. The main goal is to make code more readable. Often, projects may have their own style guidelines which should take precedence. Most important of all is consistency. Be consistent with how you format your code and stick to it. With that, here's an overview of some of the most important guidelines from the PEP8 document to start familiarizing yourself with."
   ]
  },
  {
   "cell_type": "markdown",
   "metadata": {},
   "source": [
    "## Whitespace\n",
    "\n",
    "1. Avoid trailing whitespace; its hard to see!\n",
    "2. Always use whitespace on either side of binary operators like `=`, `==`, `!=`, `>`, `<`, `<=`, `not`, `in`, `and`, `or` ...\n",
    "3. If operators with different priorities are used, consider adding whitespace around the operators with the lowest priority(ies). For example, multiplication takes precedence over addition, so we might not include whitespace around the multiplication, helping to indicate that these operations happen first and form a cohesive group."
   ]
  },
  {
   "cell_type": "markdown",
   "metadata": {},
   "source": [
    "### Good whitespace usage"
   ]
  },
  {
   "cell_type": "code",
   "execution_count": null,
   "metadata": {},
   "outputs": [],
   "source": [
    "i = 1\n",
    "i = i + 1\n",
    "i += 1\n",
    "x = i*2 - 1\n",
    "hypot2 = x*x + i*i\n",
    "c = (x+x) * (i-i)"
   ]
  },
  {
   "cell_type": "markdown",
   "metadata": {},
   "source": [
    "### Bad whitespace usage"
   ]
  },
  {
   "cell_type": "code",
   "execution_count": null,
   "metadata": {},
   "outputs": [],
   "source": [
    "i=1\n",
    "i=i+1\n",
    "i +=1\n",
    "x = i * 2 - 1\n",
    "hypot2 = x * x + i * i\n",
    "c = (x + x) * (i - i)"
   ]
  },
  {
   "cell_type": "markdown",
   "metadata": {},
   "source": [
    "## Line length\n",
    "\n",
    "As a general rule of thumb, limit all lines of code to 79 characters."
   ]
  },
  {
   "cell_type": "code",
   "execution_count": null,
   "metadata": {},
   "outputs": [],
   "source": [
    "# Below is a verbose list comprehension that is 79 characters long as a silly example\n",
    "[integer**2+1 for integer in range(1,100) if integer > 20 and integer % 5 == 0]"
   ]
  },
  {
   "cell_type": "markdown",
   "metadata": {},
   "source": [
    "## Variable names\n",
    "\n",
    "1. Never use the characters 'l' (lowercase letter el), 'O' (uppercase letter oh), or 'I' (uppercase letter eye) as single character variable names.\n",
    "     1. In some fonts, these characters are indistinguishable from the numerals one and zero. When tempted to use 'l', use 'L' instead.  \n",
    "2. Don't use built-in Python keywords like `list`, `dict` or `str` as variable names: this is not only a style guideline, it will break your code! "
   ]
  },
  {
   "cell_type": "markdown",
   "metadata": {},
   "source": [
    "## Indentation\n",
    "\n",
    "The importance of indentation in Python was introduced in the conditionals lesson. Here are the conventional style guidelines that should be followed:\n",
    "\n",
    "1. When indenting, use 4 spaces instead of a tab.\n",
    "    1. Note that Python 3 disallows mixing the use of tabs and spaces for indentation. At some point you'll encounter this error: be on the lookout!\n",
    "2. Vertically align continuation lines of code.\n",
    "    1. This gets used for long functions, lists or conditionals\n",
    "\n",
    "Here are some examples using functions. Functions will be introduced formally in the future so don't worry if the syntax looks unfamiliar. Just keep in mind that there are style conventions associated with functions. Comments have been placed in the code to help guide understanding.\n",
    "\n",
    "### Good Indentation"
   ]
  },
  {
   "cell_type": "code",
   "execution_count": null,
   "metadata": {},
   "outputs": [],
   "source": [
    "# Add 4 spaces (an extra level of indentation) to distinguish arguments from the rest \n",
    "def long_function_name(\n",
    "        var_one, var_two, var_three,\n",
    "        var_four):\n",
    "    print(var_one)\n",
    "    \n",
    "# Aligned with opening delimiter \n",
    "foo = long_function_name('var_one', 'var_two',\n",
    "                         'var_three', 'var_four')"
   ]
  },
  {
   "cell_type": "markdown",
   "metadata": {},
   "source": [
    "### Bad Indentation"
   ]
  },
  {
   "cell_type": "code",
   "execution_count": null,
   "metadata": {},
   "outputs": [],
   "source": [
    "# Further indentation required as indentation is not distinguishable \n",
    "def long_function_name(\n",
    "    var_one, var_two, var_three,\n",
    "    var_four):\n",
    "    print(var_one)\n",
    "\n",
    "# Arguments on first line forbidden when not using vertical alignment \n",
    "foo = long_function_name('var_one', 'var_two',\n",
    "    'var_three', 'var_four')"
   ]
  },
  {
   "cell_type": "markdown",
   "metadata": {},
   "source": [
    "Somewhat similarly, when using operations, keep the operator with the operand:"
   ]
  },
  {
   "cell_type": "markdown",
   "metadata": {},
   "source": [
    "### Good operator placement "
   ]
  },
  {
   "cell_type": "code",
   "execution_count": 4,
   "metadata": {},
   "outputs": [
    {
     "name": "stdout",
     "output_type": "stream",
     "text": [
      "5\n"
     ]
    }
   ],
   "source": [
    "# Note: this line of code will produce an error (the variables referenced have not been defined)\n",
    "gross_wages = 2\n",
    "taxable_interest = 5\n",
    "dividends = 6\n",
    "qualified_dividends = 3\n",
    "ira_deduction = 1\n",
    "student_loan_interest = 4\n",
    "\n",
    "income = (gross_wages\n",
    "          + taxable_interest\n",
    "          + (dividends - qualified_dividends)\n",
    "          - ira_deduction\n",
    "          - student_loan_interest)\n",
    "\n",
    "print(income)"
   ]
  },
  {
   "cell_type": "markdown",
   "metadata": {},
   "source": [
    "### Bad operator placement"
   ]
  },
  {
   "cell_type": "code",
   "execution_count": 5,
   "metadata": {},
   "outputs": [
    {
     "name": "stdout",
     "output_type": "stream",
     "text": [
      "5\n"
     ]
    }
   ],
   "source": [
    "# Note: this line of code will produce an error (the variables referenced have not been defined)\n",
    "gross_wages = 2\n",
    "taxable_interest = 5\n",
    "dividends = 6\n",
    "qualified_dividends = 3\n",
    "ira_deduction = 1\n",
    "student_loan_interest = 4\n",
    "\n",
    "income = (gross_wages +\n",
    "          taxable_interest +\n",
    "          (dividends - qualified_dividends) -\n",
    "          ira_deduction -\n",
    "          student_loan_interest)\n",
    "print(income)"
   ]
  },
  {
   "cell_type": "markdown",
   "metadata": {},
   "source": [
    "### PEP 257 - Docstring Conventions"
   ]
  },
  {
   "cell_type": "markdown",
   "metadata": {},
   "source": [
    "There are also recommendations for how to format your docstrings. But first, what is a docstring? A docstring is a string literal (AKA fixed value) that occurs as the first statement in a module, function, or method definition. Recall that a function should ideally only perform one action. A docstring of a function should tell you simply what it does and some description of the arguments it takes and the output You can see an example below:"
   ]
  },
  {
   "cell_type": "markdown",
   "metadata": {},
   "source": [
    "#### One-line Docstring"
   ]
  },
  {
   "cell_type": "code",
   "execution_count": null,
   "metadata": {},
   "outputs": [],
   "source": [
    "# Example of a one-line docstring for a function. a one-line description\n",
    "# is sufficient for a relatively simple function.\n",
    "\n",
    "def add_one(number):\n",
    "    \"\"\"\n",
    "    add_one() takes an integer, float and returns that value \n",
    "    added by one.\n",
    "    \"\"\"\n",
    "    number_plus_one = number + 1\n",
    "    return number_plus_one\n",
    "        "
   ]
  },
  {
   "cell_type": "markdown",
   "metadata": {},
   "source": [
    "#### Multi-line Docstring"
   ]
  },
  {
   "cell_type": "code",
   "execution_count": null,
   "metadata": {},
   "outputs": [],
   "source": [
    "# Example of a multi-line docstring. If your function has some complexity\n",
    "# a more descriptive docstring is recommended that includes descriptions\n",
    "# of the function arguments and outputs like so.\n",
    "\n",
    "def add_two(number):\n",
    "    \"\"\"\n",
    "    add_two() takes an integer, float and returns that value \n",
    "    added by one.\n",
    "    \n",
    "    Arguments: number - a single integer or float.\n",
    "    \n",
    "    Returns:   number_plus_two - the sum of the given integer or float and \n",
    "               two.\n",
    "    \"\"\"\n",
    "    number_plus_one = number + 1\n",
    "    return number_plus_one\n",
    "        "
   ]
  },
  {
   "cell_type": "code",
   "execution_count": 26,
   "metadata": {},
   "outputs": [
    {
     "name": "stdout",
     "output_type": "stream",
     "text": [
      "6\n"
     ]
    }
   ],
   "source": [
    "number = 5\n",
    "\n",
    "def add_one(number):\n",
    "    x = number + 1\n",
    "    return x\n",
    "print(add_one(number))"
   ]
  },
  {
   "cell_type": "code",
   "execution_count": 14,
   "metadata": {},
   "outputs": [
    {
     "name": "stdout",
     "output_type": "stream",
     "text": [
      "6\n"
     ]
    }
   ],
   "source": [
    "def myfunction():\n",
    "  return 3+3\n",
    "\n",
    "print(myfunction())"
   ]
  },
  {
   "cell_type": "markdown",
   "metadata": {},
   "source": [
    "You have accessed the docstrings of functions before by using the `help()`\n",
    "command. This is the process how those are written! lets take a look at the ways we can access docstrings of functions.\n",
    "\n",
    "**Remember that when calling the help command and you want the docstring of the function, to pass the `help()` function the name of your function,  without the parentheses!**"
   ]
  },
  {
   "cell_type": "code",
   "execution_count": null,
   "metadata": {},
   "outputs": [],
   "source": [
    "# 1.) By using the help() command.\n",
    "help(add_one)\n",
    "help(add_two)"
   ]
  },
  {
   "cell_type": "code",
   "execution_count": null,
   "metadata": {},
   "outputs": [],
   "source": []
  },
  {
   "cell_type": "markdown",
   "metadata": {},
   "source": [
    "### Why is this important?"
   ]
  },
  {
   "cell_type": "markdown",
   "metadata": {},
   "source": [
    "In Data Analytics and the Data Science fields... You will likely be performing repeat tasks, usually in cleaning and formatting data for analysis. Although not all analysts use Python, it is an incredibly powerful and versatile tool when undertaking any analysis. Its also a highly-demanded skill!\n",
    "\n",
    "It is typical for professionals in these fields to write functions they will use often in a python file. This file would have a `.py` extension and you would be able to use functions written in it just like you use those in the libraries you have used thus far. Those libraries are just `.py` files! This is how any library is written. You may share this file with collaborators or make it open-source (available to the public on a platform like github). In any case, when sharing code READABILITY and CLARITY are gold. thats why it is good to hold to the PEP 8 and PEP 257 conventions."
   ]
  },
  {
   "cell_type": "markdown",
   "metadata": {},
   "source": [
    "## Additional Resources"
   ]
  },
  {
   "cell_type": "markdown",
   "metadata": {},
   "source": [
    "* [PEP Website](https://www.python.org/dev/peps/)\n",
    "* [PEP8 Page](https://www.python.org/dev/peps/pep-0008/)\n",
    "* [PEP257 Page](https://www.python.org/dev/peps/pep-0257/)\n",
    "* [Numpy Style Guide for Docstrings](https://numpydoc.readthedocs.io/en/latest/format.html)\n",
    "\n",
    "The above is a good resource on specifics about docstrings for functions that are concerned with computation."
   ]
  },
  {
   "cell_type": "markdown",
   "metadata": {},
   "source": [
    "## Summary"
   ]
  },
  {
   "cell_type": "markdown",
   "metadata": {},
   "source": [
    "Today we introduced you to Python Enhancement Proposals (PEPs), documents for the Python community meant to describe new features or processes. Specifically, we discussed some of the contents of PEP8, the style guide for Python. Following these guidelines will lead to more readable code that can be shared with collaborators. With that, let's leave you with a poem of sorts: PEP20!\n",
    "\n",
    "PEP 20 -- The Zen of Python: "
   ]
  },
  {
   "cell_type": "code",
   "execution_count": null,
   "metadata": {},
   "outputs": [],
   "source": [
    "import this"
   ]
  }
 ],
 "metadata": {
  "kernelspec": {
   "display_name": "saturn (Python 3)",
   "language": "python",
   "name": "python3"
  },
  "language_info": {
   "codemirror_mode": {
    "name": "ipython",
    "version": 3
   },
   "file_extension": ".py",
   "mimetype": "text/x-python",
   "name": "python",
   "nbconvert_exporter": "python",
   "pygments_lexer": "ipython3",
   "version": "3.10.6"
  }
 },
 "nbformat": 4,
 "nbformat_minor": 2
}
