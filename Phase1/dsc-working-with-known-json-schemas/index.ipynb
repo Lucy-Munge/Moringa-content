{
 "cells": [
  {
   "cell_type": "markdown",
   "metadata": {},
   "source": [
    "# Working with Known JSON Schemas\n",
    "\n",
    "## Introduction\n",
    "You've started taking a look at JSON files and you'll continue to explore how to navigate and traverse these files. One common use case of JSON files will be when you are connecting to various websites through their established APIs to retrieve data from them. With these, you are typically given a schema for how the data is structured and then will use this knowledge to retrieve pertinent information.\n",
    "\n",
    "## Objectives\n",
    "\n",
    "You will be able to:\n",
    "\n",
    "* Use the JSON module to load and parse JSON documents\n",
    "* Extract data using predefined JSON schemas\n",
    "* Convert JSON to a pandas dataframe\n",
    "\n",
    "## Reading a JSON Schema\n",
    "\n",
    "In this lesson, you'll take a look at the response from the New York Times API. (We cover APIs in more depth in other lessons, but the general idea is that the New York Times makes some of its data available over the web, and it uses the JSON format to do so.)\n",
    "\n",
    "Here's the JSON schema provided for a section of the NY Times API:\n",
    "<img src=\"images/schema_overview.png\" width=\"400\">\n",
    "\n",
    "or a more detailed view (truncated):\n",
    "\n",
    "<img src=\"images/schema_detailed.png\" width=\"500\">"
   ]
  },
  {
   "cell_type": "markdown",
   "metadata": {},
   "source": [
    "You can see that the master structure is a dictionary and has a key named `'response'`. The value associated with the `'response'` key is also a dictionary and has two keys: `'docs'` and `'meta'`. As you continue to examine the schema hierarchy, you'll notice the vast majority of the elements comprising this data structure, in this case, are dictionaries. "
   ]
  },
  {
   "cell_type": "markdown",
   "metadata": {},
   "source": [
    "## Loading the Data File\n",
    "\n",
    "As we have done in previous lessons, let's start by importing this data from the file. The code below uses the `json` module ([documentation here](https://docs.python.org/3/library/json.html)) and built-in `open` function to load the data from a JSON file into a Python object called `data`."
   ]
  },
  {
   "cell_type": "code",
   "execution_count": 5,
   "metadata": {},
   "outputs": [],
   "source": [
    "import json"
   ]
  },
  {
   "cell_type": "code",
   "execution_count": 6,
   "metadata": {},
   "outputs": [],
   "source": [
    "with open('ny_times_response.json', 'r') as f:\n",
    "    data = json.load(f)"
   ]
  },
  {
   "cell_type": "code",
   "execution_count": 7,
   "metadata": {},
   "outputs": [
    {
     "name": "stdout",
     "output_type": "stream",
     "text": [
      "<class 'dict'>\n",
      "dict_keys(['status', 'copyright', 'response'])\n"
     ]
    }
   ],
   "source": [
    "print(type(data))\n",
    "print(data.keys())"
   ]
  },
  {
   "cell_type": "markdown",
   "metadata": {},
   "source": [
    "You should see that there are two additional keys `'status'` and `'copyright'` which were not shown in the schema documentation. As with most forms of documentation, it's important to be aware that published schemas may differ somewhat from the actual data, and your code should be able to handle these unexpected differences, within reason."
   ]
  },
  {
   "cell_type": "markdown",
   "metadata": {},
   "source": [
    "## Loading Specific Data\n",
    "\n",
    "Looking at the schema, you might be interested in retrieving a specific piece of data, such as the articles' headlines. Notice that this is a key under `'docs'`, which is under `'response'`. So the schema is roughly: data --> 'response' --> 'docs' --> 'headline', something like `data['response']['docs']['headline']`.\n",
    "\n",
    "Let's see what happens if we try that:"
   ]
  },
  {
   "cell_type": "code",
   "execution_count": 8,
   "metadata": {},
   "outputs": [
    {
     "ename": "TypeError",
     "evalue": "list indices must be integers or slices, not str",
     "output_type": "error",
     "traceback": [
      "\u001b[0;31m---------------------------------------------------------------------------\u001b[0m",
      "\u001b[0;31mTypeError\u001b[0m                                 Traceback (most recent call last)",
      "Cell \u001b[0;32mIn [8], line 1\u001b[0m\n\u001b[0;32m----> 1\u001b[0m \u001b[43mdata\u001b[49m\u001b[43m[\u001b[49m\u001b[38;5;124;43m'\u001b[39;49m\u001b[38;5;124;43mresponse\u001b[39;49m\u001b[38;5;124;43m'\u001b[39;49m\u001b[43m]\u001b[49m\u001b[43m[\u001b[49m\u001b[38;5;124;43m'\u001b[39;49m\u001b[38;5;124;43mdocs\u001b[39;49m\u001b[38;5;124;43m'\u001b[39;49m\u001b[43m]\u001b[49m\u001b[43m[\u001b[49m\u001b[38;5;124;43m'\u001b[39;49m\u001b[38;5;124;43mheadline\u001b[39;49m\u001b[38;5;124;43m'\u001b[39;49m\u001b[43m]\u001b[49m\n",
      "\u001b[0;31mTypeError\u001b[0m: list indices must be integers or slices, not str"
     ]
    }
   ],
   "source": [
    "data['response']['docs']['headline']"
   ]
  },
  {
   "cell_type": "markdown",
   "metadata": {},
   "source": [
    "Ok, this error message is saying that somewhere along the way, **we treated something like a dictionary when it was actually a list**. Let's break down that chain of commands to figure out what went wrong.\n",
    "\n",
    "We are pretty sure that `data['response']` will not cause an error, since we already checked that `data` is type `dict`, and that `'response'` is one of the keys. But what is the type of `data['response']`?"
   ]
  },
  {
   "cell_type": "code",
   "execution_count": 9,
   "metadata": {},
   "outputs": [
    {
     "data": {
      "text/plain": [
       "dict"
      ]
     },
     "execution_count": 9,
     "metadata": {},
     "output_type": "execute_result"
    }
   ],
   "source": [
    "type(data['response'])"
   ]
  },
  {
   "cell_type": "markdown",
   "metadata": {},
   "source": [
    "Ok, that's a dictionary, too. How about `data['response']['docs']`?"
   ]
  },
  {
   "cell_type": "code",
   "execution_count": 10,
   "metadata": {},
   "outputs": [
    {
     "data": {
      "text/plain": [
       "list"
      ]
     },
     "execution_count": 10,
     "metadata": {},
     "output_type": "execute_result"
    }
   ],
   "source": [
    "type(data['response']['docs'])"
   ]
  },
  {
   "cell_type": "markdown",
   "metadata": {},
   "source": [
    "So, that is the source of the error. We tried to treat this as a dictionary (accessing the value associated with the key `'headline'`) but it's a list!\n",
    "\n",
    "If you scroll back up to the schema pictured above, this makes sense. The value associated with the `'docs'` key is shown surrounded by `[` and `]`, right before the `{` and `}`, indicating that this is a *list* of dictionaries, not just a dictionary.\n",
    "\n",
    "You'll run into this kind of distinction repeatedly when working with JSON data. Sometimes values will be nested in unexpected ways, or you'll miss a key detail when you're skimming the schema. What's most important is that you're able to keep going and figure out what went wrong, not that you get it right on the first try!\n",
    "\n",
    "Now that we know that this is a list, let's extract it and print out some more information about it:"
   ]
  },
  {
   "cell_type": "code",
   "execution_count": 11,
   "metadata": {},
   "outputs": [
    {
     "name": "stdout",
     "output_type": "stream",
     "text": [
      "`docs` is a data structure of type <class 'list'>\n",
      "It contains 9 elements\n",
      "The first element is type <class 'dict'>\n"
     ]
    }
   ],
   "source": [
    "docs = data['response']['docs']\n",
    "\n",
    "print(\"`docs` is a data structure of type\", type(docs))\n",
    "print(\"It contains\", len(docs), \"elements\")\n",
    "print(\"The first element is type\", type(docs[0]))"
   ]
  },
  {
   "cell_type": "markdown",
   "metadata": {},
   "source": [
    "This confirms what we expected. Now we can loop over that list of dictionaries and print the values associated with the `'headline'` keys:"
   ]
  },
  {
   "cell_type": "code",
   "execution_count": 12,
   "metadata": {},
   "outputs": [
    {
     "name": "stdout",
     "output_type": "stream",
     "text": [
      "{'main': \"HIGGINS, SPENT $22,189.53.; Governor-Elect's Election Expenses -- Harrison $9,220.28.\", 'kicker': None, 'content_kicker': None, 'print_headline': None, 'name': None, 'seo': None, 'sub': None}\n",
      "{'main': 'GARDEN BOUTS CANCELED; Mauriello Says He Could Not Be Ready on Nov. 3', 'kicker': '1', 'content_kicker': None, 'print_headline': None, 'name': None, 'seo': None, 'sub': None}\n",
      "{'main': 'Stock Drop Is Biggest in 2 Months--Margin Rise Held Factor in Lightest Trading of 1955', 'kicker': '1', 'content_kicker': None, 'print_headline': None, 'name': None, 'seo': None, 'sub': None}\n",
      "{'main': 'MUSIC OF THE WEEK', 'kicker': None, 'content_kicker': None, 'print_headline': None, 'name': None, 'seo': None, 'sub': None}\n",
      "{'main': 'Anacomp Inc. reports earnings for Qtr to March 31', 'kicker': None, 'content_kicker': None, 'print_headline': None, 'name': None, 'seo': None, 'sub': None}\n",
      "{'main': 'Brooklyn Routs Yeshiva', 'kicker': '1', 'content_kicker': None, 'print_headline': None, 'name': None, 'seo': None, 'sub': None}\n",
      "{'main': 'Albuquerque Program Gives Drinkers a Lift', 'kicker': '1', 'content_kicker': None, 'print_headline': None, 'name': None, 'seo': None, 'sub': None}\n",
      "{'main': 'Front Page 7 -- No Title', 'kicker': '1', 'content_kicker': None, 'print_headline': None, 'name': None, 'seo': None, 'sub': None}\n",
      "{'main': 'UNIONS AND BUILDERS READY FOR LONG FIGHT; None of the Strikers Back - Lock-Out Soon in Effect. 23,000 ALREADY INVOLVED Orders Sent to Every Building Employer Within Twenty-five Miles -- House-smiths Vote Not to Strike.', 'kicker': None, 'content_kicker': None, 'print_headline': None, 'name': None, 'seo': None, 'sub': None}\n"
     ]
    }
   ],
   "source": [
    "for doc in docs:\n",
    "    print(doc['headline'])"
   ]
  },
  {
   "cell_type": "markdown",
   "metadata": {},
   "source": [
    "Or if you want to just print the main headlines themselves:"
   ]
  },
  {
   "cell_type": "code",
   "execution_count": 13,
   "metadata": {},
   "outputs": [
    {
     "name": "stdout",
     "output_type": "stream",
     "text": [
      "HIGGINS, SPENT $22,189.53.; Governor-Elect's Election Expenses -- Harrison $9,220.28.\n",
      "GARDEN BOUTS CANCELED; Mauriello Says He Could Not Be Ready on Nov. 3\n",
      "Stock Drop Is Biggest in 2 Months--Margin Rise Held Factor in Lightest Trading of 1955\n",
      "MUSIC OF THE WEEK\n",
      "Anacomp Inc. reports earnings for Qtr to March 31\n",
      "Brooklyn Routs Yeshiva\n",
      "Albuquerque Program Gives Drinkers a Lift\n",
      "Front Page 7 -- No Title\n",
      "UNIONS AND BUILDERS READY FOR LONG FIGHT; None of the Strikers Back - Lock-Out Soon in Effect. 23,000 ALREADY INVOLVED Orders Sent to Every Building Employer Within Twenty-five Miles -- House-smiths Vote Not to Strike.\n"
     ]
    }
   ],
   "source": [
    "for doc in docs:\n",
    "    print(doc['headline']['main'])"
   ]
  },
  {
   "cell_type": "markdown",
   "metadata": {},
   "source": [
    "## Flattening Data (i.e. Breaking Out Nested Data)\n",
    "\n",
    "Let's say we want to create a list of dictionaries containing information about the documents contained in this JSON. It should contain the publication date (value associated with `pub_date` key), word count (value associated with `word_count` key), and both the `'main'` and `'kicker'` associated with the `headline` key. This list should be called `doc_info_list` and should look something like this:\n",
    "\n",
    "```python\n",
    "[\n",
    "    {\n",
    "        'headline_main': \"HIGGINS, SPENT $22,189.53.; Governor-Elect's Election Expenses -- Harrison $9,220.28.\",\n",
    "        'headline_kicker': None,\n",
    "        'pub_date': '1904-11-17T00:00:00Z',\n",
    "        'word_count': 213\n",
    "    },\n",
    "    {\n",
    "        'headline_main': 'GARDEN BOUTS CANCELED; Mauriello Says He Could Not Be Ready on Nov. 3',\n",
    "        'headline_kicker': '1',\n",
    "        'pub_date': '1944-10-23T00:00:00Z',\n",
    "        'word_count': 149\n",
    "    },\n",
    "    ...\n",
    "]\n",
    "```\n",
    "\n",
    "The tricky part is, each dictionary needs to be \"flat\", meaning that each key is associated with a single string or number value, not a deeper data structure. So we need to flatten the nested `headline` dictionary.\n",
    "\n",
    "It's also conventional when flattening data to make a compound name for the newly-created keys. So, let's call the new keys `headline_main` and `headline_kicker`.\n",
    "\n",
    "Recall the structure of a `headline` dictionary:"
   ]
  },
  {
   "cell_type": "code",
   "execution_count": 14,
   "metadata": {},
   "outputs": [
    {
     "data": {
      "text/plain": [
       "{'main': 'Stock Drop Is Biggest in 2 Months--Margin Rise Held Factor in Lightest Trading of 1955',\n",
       " 'kicker': '1',\n",
       " 'content_kicker': None,\n",
       " 'print_headline': None,\n",
       " 'name': None,\n",
       " 'seo': None,\n",
       " 'sub': None}"
      ]
     },
     "execution_count": 14,
     "metadata": {},
     "output_type": "execute_result"
    }
   ],
   "source": [
    "docs[2]['headline']"
   ]
  },
  {
   "cell_type": "markdown",
   "metadata": {},
   "source": [
    "So, first let's write a function that takes in that complete dictionary, and returns a copy with only the `'main'` and `'kicker'` keys and values, now labeled `'headline_main'` and `'headline_kicker'`:"
   ]
  },
  {
   "cell_type": "code",
   "execution_count": 15,
   "metadata": {},
   "outputs": [],
   "source": [
    "def extract_headline_info(headline_dict):\n",
    "    result = {}\n",
    "    result['headline_main'] = headline_dict['main']\n",
    "    result['headline_kicker'] = headline_dict['kicker']\n",
    "    return result"
   ]
  },
  {
   "cell_type": "markdown",
   "metadata": {},
   "source": [
    "Then we test it out:"
   ]
  },
  {
   "cell_type": "code",
   "execution_count": 16,
   "metadata": {},
   "outputs": [
    {
     "data": {
      "text/plain": [
       "{'headline_main': 'Stock Drop Is Biggest in 2 Months--Margin Rise Held Factor in Lightest Trading of 1955',\n",
       " 'headline_kicker': '1'}"
      ]
     },
     "execution_count": 16,
     "metadata": {},
     "output_type": "execute_result"
    }
   ],
   "source": [
    "extract_headline_info(docs[2]['headline'])"
   ]
  },
  {
   "cell_type": "code",
   "execution_count": 17,
   "metadata": {},
   "outputs": [
    {
     "data": {
      "text/plain": [
       "{'headline_main': \"HIGGINS, SPENT $22,189.53.; Governor-Elect's Election Expenses -- Harrison $9,220.28.\",\n",
       " 'headline_kicker': None}"
      ]
     },
     "execution_count": 17,
     "metadata": {},
     "output_type": "execute_result"
    }
   ],
   "source": [
    "extract_headline_info(docs[0]['headline'])"
   ]
  },
  {
   "cell_type": "markdown",
   "metadata": {},
   "source": [
    "Now let's write another function that calls that function, then adds the `pub_date` and `word_count` keys and values:"
   ]
  },
  {
   "cell_type": "code",
   "execution_count": 18,
   "metadata": {},
   "outputs": [],
   "source": [
    "def extract_doc_info(doc):\n",
    "    info = extract_headline_info(doc['headline'])\n",
    "    info['pub_date'] = doc['pub_date']\n",
    "    info['word_count'] = doc['word_count']\n",
    "    return info"
   ]
  },
  {
   "cell_type": "markdown",
   "metadata": {},
   "source": [
    "Again, testing it out on a couple examples:"
   ]
  },
  {
   "cell_type": "code",
   "execution_count": 19,
   "metadata": {},
   "outputs": [
    {
     "data": {
      "text/plain": [
       "{'headline_main': 'Stock Drop Is Biggest in 2 Months--Margin Rise Held Factor in Lightest Trading of 1955',\n",
       " 'headline_kicker': '1',\n",
       " 'pub_date': '1955-05-15T00:00:00Z',\n",
       " 'word_count': 823}"
      ]
     },
     "execution_count": 19,
     "metadata": {},
     "output_type": "execute_result"
    }
   ],
   "source": [
    "extract_doc_info(docs[2])"
   ]
  },
  {
   "cell_type": "code",
   "execution_count": 20,
   "metadata": {},
   "outputs": [
    {
     "data": {
      "text/plain": [
       "{'headline_main': \"HIGGINS, SPENT $22,189.53.; Governor-Elect's Election Expenses -- Harrison $9,220.28.\",\n",
       " 'headline_kicker': None,\n",
       " 'pub_date': '1904-11-17T00:00:00Z',\n",
       " 'word_count': 213}"
      ]
     },
     "execution_count": 20,
     "metadata": {},
     "output_type": "execute_result"
    }
   ],
   "source": [
    "extract_doc_info(docs[0])"
   ]
  },
  {
   "cell_type": "markdown",
   "metadata": {},
   "source": [
    "Now we can loop over the full list and create `doc_info_list`:"
   ]
  },
  {
   "cell_type": "code",
   "execution_count": 21,
   "metadata": {},
   "outputs": [
    {
     "data": {
      "text/plain": [
       "[{'headline_main': \"HIGGINS, SPENT $22,189.53.; Governor-Elect's Election Expenses -- Harrison $9,220.28.\",\n",
       "  'headline_kicker': None,\n",
       "  'pub_date': '1904-11-17T00:00:00Z',\n",
       "  'word_count': 213},\n",
       " {'headline_main': 'GARDEN BOUTS CANCELED; Mauriello Says He Could Not Be Ready on Nov. 3',\n",
       "  'headline_kicker': '1',\n",
       "  'pub_date': '1944-10-23T00:00:00Z',\n",
       "  'word_count': 149},\n",
       " {'headline_main': 'Stock Drop Is Biggest in 2 Months--Margin Rise Held Factor in Lightest Trading of 1955',\n",
       "  'headline_kicker': '1',\n",
       "  'pub_date': '1955-05-15T00:00:00Z',\n",
       "  'word_count': 823},\n",
       " {'headline_main': 'MUSIC OF THE WEEK',\n",
       "  'headline_kicker': None,\n",
       "  'pub_date': '1904-11-06T00:00:00Z',\n",
       "  'word_count': 2609},\n",
       " {'headline_main': 'Anacomp Inc. reports earnings for Qtr to March 31',\n",
       "  'headline_kicker': None,\n",
       "  'pub_date': '1992-05-06T00:00:00Z',\n",
       "  'word_count': 129},\n",
       " {'headline_main': 'Brooklyn Routs Yeshiva',\n",
       "  'headline_kicker': '1',\n",
       "  'pub_date': '1972-12-24T00:00:00Z',\n",
       "  'word_count': 144},\n",
       " {'headline_main': 'Albuquerque Program Gives Drinkers a Lift',\n",
       "  'headline_kicker': '1',\n",
       "  'pub_date': '1972-12-25T00:00:00Z',\n",
       "  'word_count': 151},\n",
       " {'headline_main': 'Front Page 7 -- No Title',\n",
       "  'headline_kicker': '1',\n",
       "  'pub_date': '1944-10-24T00:00:00Z',\n",
       "  'word_count': 29},\n",
       " {'headline_main': 'UNIONS AND BUILDERS READY FOR LONG FIGHT; None of the Strikers Back - Lock-Out Soon in Effect. 23,000 ALREADY INVOLVED Orders Sent to Every Building Employer Within Twenty-five Miles -- House-smiths Vote Not to Strike.',\n",
       "  'headline_kicker': None,\n",
       "  'pub_date': '1904-08-06T00:00:00Z',\n",
       "  'word_count': 883}]"
      ]
     },
     "execution_count": 21,
     "metadata": {},
     "output_type": "execute_result"
    }
   ],
   "source": [
    "doc_info_list = [extract_doc_info(doc) for doc in docs]\n",
    "doc_info_list"
   ]
  },
  {
   "cell_type": "markdown",
   "metadata": {},
   "source": [
    "Thus we have successfully flattened the required data!"
   ]
  },
  {
   "cell_type": "markdown",
   "metadata": {},
   "source": [
    "## Transforming JSON to Alternative Formats\n",
    "\n",
    "### Viewing the Raw Dataset in Pandas\n",
    "\n",
    "You've also previously started to take a look at how to transform JSON to DataFrames. Investigating the schema, a good option for this could again be the value associated with the `'docs'` key. While this still has nested data itself, it's often easier to load the entire contents as a DataFrame for viewing and then use additional functions to break apart the internally nested data from there.\n",
    "\n",
    "So, first we will display the full information associated with the `'docs'` key:"
   ]
  },
  {
   "cell_type": "code",
   "execution_count": 22,
   "metadata": {},
   "outputs": [
    {
     "data": {
      "text/html": [
       "<div>\n",
       "<style scoped>\n",
       "    .dataframe tbody tr th:only-of-type {\n",
       "        vertical-align: middle;\n",
       "    }\n",
       "\n",
       "    .dataframe tbody tr th {\n",
       "        vertical-align: top;\n",
       "    }\n",
       "\n",
       "    .dataframe thead th {\n",
       "        text-align: right;\n",
       "    }\n",
       "</style>\n",
       "<table border=\"1\" class=\"dataframe\">\n",
       "  <thead>\n",
       "    <tr style=\"text-align: right;\">\n",
       "      <th></th>\n",
       "      <th>web_url</th>\n",
       "      <th>snippet</th>\n",
       "      <th>abstract</th>\n",
       "      <th>print_page</th>\n",
       "      <th>blog</th>\n",
       "      <th>source</th>\n",
       "      <th>multimedia</th>\n",
       "      <th>headline</th>\n",
       "      <th>keywords</th>\n",
       "      <th>pub_date</th>\n",
       "      <th>document_type</th>\n",
       "      <th>type_of_material</th>\n",
       "      <th>_id</th>\n",
       "      <th>word_count</th>\n",
       "      <th>score</th>\n",
       "      <th>byline</th>\n",
       "      <th>news_desk</th>\n",
       "    </tr>\n",
       "  </thead>\n",
       "  <tbody>\n",
       "    <tr>\n",
       "      <th>0</th>\n",
       "      <td>https://query.nytimes.com/gst/abstract.html?re...</td>\n",
       "      <td>Spent $22,200</td>\n",
       "      <td>Spent $22,200</td>\n",
       "      <td>2</td>\n",
       "      <td>{}</td>\n",
       "      <td>The New York Times</td>\n",
       "      <td>[]</td>\n",
       "      <td>{'main': 'HIGGINS, SPENT $22,189.53.; Governor...</td>\n",
       "      <td>[{'name': 'persons', 'value': 'HIGGINS, LT. GO...</td>\n",
       "      <td>1904-11-17T00:00:00Z</td>\n",
       "      <td>article</td>\n",
       "      <td>Article</td>\n",
       "      <td>4fc04eb745c1498b0d23da00</td>\n",
       "      <td>213</td>\n",
       "      <td>1</td>\n",
       "      <td>NaN</td>\n",
       "      <td>NaN</td>\n",
       "    </tr>\n",
       "    <tr>\n",
       "      <th>1</th>\n",
       "      <td>https://query.nytimes.com/gst/abstract.html?re...</td>\n",
       "      <td></td>\n",
       "      <td>NaN</td>\n",
       "      <td>15</td>\n",
       "      <td>{}</td>\n",
       "      <td>The New York Times</td>\n",
       "      <td>[]</td>\n",
       "      <td>{'main': 'GARDEN BOUTS CANCELED; Mauriello Say...</td>\n",
       "      <td>[]</td>\n",
       "      <td>1944-10-23T00:00:00Z</td>\n",
       "      <td>article</td>\n",
       "      <td>Article</td>\n",
       "      <td>4fc21ebf45c1498b0d612b22</td>\n",
       "      <td>149</td>\n",
       "      <td>1</td>\n",
       "      <td>NaN</td>\n",
       "      <td>NaN</td>\n",
       "    </tr>\n",
       "    <tr>\n",
       "      <th>2</th>\n",
       "      <td>https://query.nytimes.com/gst/abstract.html?re...</td>\n",
       "      <td>Stock prices last week, on the lightest volume...</td>\n",
       "      <td>NaN</td>\n",
       "      <td>F1</td>\n",
       "      <td>{}</td>\n",
       "      <td>The New York Times</td>\n",
       "      <td>[]</td>\n",
       "      <td>{'main': 'Stock Drop Is Biggest in 2 Months--M...</td>\n",
       "      <td>[]</td>\n",
       "      <td>1955-05-15T00:00:00Z</td>\n",
       "      <td>article</td>\n",
       "      <td>Article</td>\n",
       "      <td>4fc3b41d45c1498b0d7fd41e</td>\n",
       "      <td>823</td>\n",
       "      <td>1</td>\n",
       "      <td>{'original': 'By JOHN G. FORREST', 'person': [...</td>\n",
       "      <td>NaN</td>\n",
       "    </tr>\n",
       "    <tr>\n",
       "      <th>3</th>\n",
       "      <td>https://query.nytimes.com/gst/abstract.html?re...</td>\n",
       "      <td>The first public rehearsal and concert of the ...</td>\n",
       "      <td>Healy, Michael, will suit</td>\n",
       "      <td>20</td>\n",
       "      <td>{}</td>\n",
       "      <td>The New York Times</td>\n",
       "      <td>[]</td>\n",
       "      <td>{'main': 'MUSIC OF THE WEEK', 'kicker': None, ...</td>\n",
       "      <td>[{'name': 'persons', 'value': 'HEALY, MICHAEL'...</td>\n",
       "      <td>1904-11-06T00:00:00Z</td>\n",
       "      <td>article</td>\n",
       "      <td>Article</td>\n",
       "      <td>4fc04eb745c1498b0d23da12</td>\n",
       "      <td>2609</td>\n",
       "      <td>1</td>\n",
       "      <td>NaN</td>\n",
       "      <td>NaN</td>\n",
       "    </tr>\n",
       "    <tr>\n",
       "      <th>4</th>\n",
       "      <td>https://www.nytimes.com/1992/05/06/business/an...</td>\n",
       "      <td></td>\n",
       "      <td>NaN</td>\n",
       "      <td>20</td>\n",
       "      <td>{}</td>\n",
       "      <td>The New York Times</td>\n",
       "      <td>[]</td>\n",
       "      <td>{'main': 'Anacomp Inc. reports earnings for Qt...</td>\n",
       "      <td>[{'name': 'subject', 'value': 'COMPANY EARNING...</td>\n",
       "      <td>1992-05-06T00:00:00Z</td>\n",
       "      <td>article</td>\n",
       "      <td>Statistics</td>\n",
       "      <td>4fd1b3018eb7c8105d6d690a</td>\n",
       "      <td>129</td>\n",
       "      <td>1</td>\n",
       "      <td>NaN</td>\n",
       "      <td>Financial Desk</td>\n",
       "    </tr>\n",
       "    <tr>\n",
       "      <th>5</th>\n",
       "      <td>https://query.nytimes.com/gst/abstract.html?re...</td>\n",
       "      <td></td>\n",
       "      <td>NaN</td>\n",
       "      <td>S9</td>\n",
       "      <td>{}</td>\n",
       "      <td>The New York Times</td>\n",
       "      <td>[]</td>\n",
       "      <td>{'main': 'Brooklyn Routs Yeshiva', 'kicker': '...</td>\n",
       "      <td>[]</td>\n",
       "      <td>1972-12-24T00:00:00Z</td>\n",
       "      <td>article</td>\n",
       "      <td>Article</td>\n",
       "      <td>4fc47bb045c1498b0da03363</td>\n",
       "      <td>144</td>\n",
       "      <td>1</td>\n",
       "      <td>NaN</td>\n",
       "      <td>NaN</td>\n",
       "    </tr>\n",
       "    <tr>\n",
       "      <th>6</th>\n",
       "      <td>https://query.nytimes.com/gst/abstract.html?re...</td>\n",
       "      <td>ALBUQUERQUE, N. M., Dec. 24 -- Holiday drinker...</td>\n",
       "      <td>NaN</td>\n",
       "      <td>11</td>\n",
       "      <td>{}</td>\n",
       "      <td>The New York Times</td>\n",
       "      <td>[]</td>\n",
       "      <td>{'main': 'Albuquerque Program Gives Drinkers a...</td>\n",
       "      <td>[]</td>\n",
       "      <td>1972-12-25T00:00:00Z</td>\n",
       "      <td>article</td>\n",
       "      <td>Article</td>\n",
       "      <td>4fc47bb045c1498b0da03367</td>\n",
       "      <td>151</td>\n",
       "      <td>1</td>\n",
       "      <td>{'original': 'Special to The New York Times', ...</td>\n",
       "      <td>NaN</td>\n",
       "    </tr>\n",
       "    <tr>\n",
       "      <th>7</th>\n",
       "      <td>https://query.nytimes.com/gst/abstract.html?re...</td>\n",
       "      <td></td>\n",
       "      <td>NaN</td>\n",
       "      <td>1</td>\n",
       "      <td>{}</td>\n",
       "      <td>The New York Times</td>\n",
       "      <td>[]</td>\n",
       "      <td>{'main': 'Front Page 7 -- No Title', 'kicker':...</td>\n",
       "      <td>[]</td>\n",
       "      <td>1944-10-24T00:00:00Z</td>\n",
       "      <td>article</td>\n",
       "      <td>Front Page</td>\n",
       "      <td>4fc21ebf45c1498b0d612b3c</td>\n",
       "      <td>29</td>\n",
       "      <td>1</td>\n",
       "      <td>NaN</td>\n",
       "      <td>NaN</td>\n",
       "    </tr>\n",
       "    <tr>\n",
       "      <th>8</th>\n",
       "      <td>https://query.nytimes.com/gst/abstract.html?re...</td>\n",
       "      <td>The employers and the unions have lined up in ...</td>\n",
       "      <td>housesmiths won't strike</td>\n",
       "      <td>1</td>\n",
       "      <td>{}</td>\n",
       "      <td>The New York Times</td>\n",
       "      <td>[]</td>\n",
       "      <td>{'main': 'UNIONS AND BUILDERS READY FOR LONG F...</td>\n",
       "      <td>[{'name': 'glocations', 'value': 'NEW YORK CIT...</td>\n",
       "      <td>1904-08-06T00:00:00Z</td>\n",
       "      <td>article</td>\n",
       "      <td>Front Page</td>\n",
       "      <td>4fc04eb745c1498b0d23da17</td>\n",
       "      <td>883</td>\n",
       "      <td>1</td>\n",
       "      <td>NaN</td>\n",
       "      <td>NaN</td>\n",
       "    </tr>\n",
       "  </tbody>\n",
       "</table>\n",
       "</div>"
      ],
      "text/plain": [
       "                                             web_url  \\\n",
       "0  https://query.nytimes.com/gst/abstract.html?re...   \n",
       "1  https://query.nytimes.com/gst/abstract.html?re...   \n",
       "2  https://query.nytimes.com/gst/abstract.html?re...   \n",
       "3  https://query.nytimes.com/gst/abstract.html?re...   \n",
       "4  https://www.nytimes.com/1992/05/06/business/an...   \n",
       "5  https://query.nytimes.com/gst/abstract.html?re...   \n",
       "6  https://query.nytimes.com/gst/abstract.html?re...   \n",
       "7  https://query.nytimes.com/gst/abstract.html?re...   \n",
       "8  https://query.nytimes.com/gst/abstract.html?re...   \n",
       "\n",
       "                                             snippet  \\\n",
       "0                                      Spent $22,200   \n",
       "1                                                      \n",
       "2  Stock prices last week, on the lightest volume...   \n",
       "3  The first public rehearsal and concert of the ...   \n",
       "4                                                      \n",
       "5                                                      \n",
       "6  ALBUQUERQUE, N. M., Dec. 24 -- Holiday drinker...   \n",
       "7                                                      \n",
       "8  The employers and the unions have lined up in ...   \n",
       "\n",
       "                    abstract print_page blog              source multimedia  \\\n",
       "0              Spent $22,200          2   {}  The New York Times         []   \n",
       "1                        NaN         15   {}  The New York Times         []   \n",
       "2                        NaN         F1   {}  The New York Times         []   \n",
       "3  Healy, Michael, will suit         20   {}  The New York Times         []   \n",
       "4                        NaN         20   {}  The New York Times         []   \n",
       "5                        NaN         S9   {}  The New York Times         []   \n",
       "6                        NaN         11   {}  The New York Times         []   \n",
       "7                        NaN          1   {}  The New York Times         []   \n",
       "8   housesmiths won't strike          1   {}  The New York Times         []   \n",
       "\n",
       "                                            headline  \\\n",
       "0  {'main': 'HIGGINS, SPENT $22,189.53.; Governor...   \n",
       "1  {'main': 'GARDEN BOUTS CANCELED; Mauriello Say...   \n",
       "2  {'main': 'Stock Drop Is Biggest in 2 Months--M...   \n",
       "3  {'main': 'MUSIC OF THE WEEK', 'kicker': None, ...   \n",
       "4  {'main': 'Anacomp Inc. reports earnings for Qt...   \n",
       "5  {'main': 'Brooklyn Routs Yeshiva', 'kicker': '...   \n",
       "6  {'main': 'Albuquerque Program Gives Drinkers a...   \n",
       "7  {'main': 'Front Page 7 -- No Title', 'kicker':...   \n",
       "8  {'main': 'UNIONS AND BUILDERS READY FOR LONG F...   \n",
       "\n",
       "                                            keywords              pub_date  \\\n",
       "0  [{'name': 'persons', 'value': 'HIGGINS, LT. GO...  1904-11-17T00:00:00Z   \n",
       "1                                                 []  1944-10-23T00:00:00Z   \n",
       "2                                                 []  1955-05-15T00:00:00Z   \n",
       "3  [{'name': 'persons', 'value': 'HEALY, MICHAEL'...  1904-11-06T00:00:00Z   \n",
       "4  [{'name': 'subject', 'value': 'COMPANY EARNING...  1992-05-06T00:00:00Z   \n",
       "5                                                 []  1972-12-24T00:00:00Z   \n",
       "6                                                 []  1972-12-25T00:00:00Z   \n",
       "7                                                 []  1944-10-24T00:00:00Z   \n",
       "8  [{'name': 'glocations', 'value': 'NEW YORK CIT...  1904-08-06T00:00:00Z   \n",
       "\n",
       "  document_type type_of_material                       _id  word_count  score  \\\n",
       "0       article          Article  4fc04eb745c1498b0d23da00         213      1   \n",
       "1       article          Article  4fc21ebf45c1498b0d612b22         149      1   \n",
       "2       article          Article  4fc3b41d45c1498b0d7fd41e         823      1   \n",
       "3       article          Article  4fc04eb745c1498b0d23da12        2609      1   \n",
       "4       article       Statistics  4fd1b3018eb7c8105d6d690a         129      1   \n",
       "5       article          Article  4fc47bb045c1498b0da03363         144      1   \n",
       "6       article          Article  4fc47bb045c1498b0da03367         151      1   \n",
       "7       article       Front Page  4fc21ebf45c1498b0d612b3c          29      1   \n",
       "8       article       Front Page  4fc04eb745c1498b0d23da17         883      1   \n",
       "\n",
       "                                              byline       news_desk  \n",
       "0                                                NaN             NaN  \n",
       "1                                                NaN             NaN  \n",
       "2  {'original': 'By JOHN G. FORREST', 'person': [...             NaN  \n",
       "3                                                NaN             NaN  \n",
       "4                                                NaN  Financial Desk  \n",
       "5                                                NaN             NaN  \n",
       "6  {'original': 'Special to The New York Times', ...             NaN  \n",
       "7                                                NaN             NaN  \n",
       "8                                                NaN             NaN  "
      ]
     },
     "execution_count": 22,
     "metadata": {},
     "output_type": "execute_result"
    }
   ],
   "source": [
    "import pandas as pd\n",
    "pd.DataFrame(data['response']['docs'])"
   ]
  },
  {
   "cell_type": "markdown",
   "metadata": {},
   "source": [
    "Note that because the value associated with the `'headline'` key is a dictionary, it is displayed in this crowded, messy way within the DataFrame, including `{` and `'` characters."
   ]
  },
  {
   "cell_type": "markdown",
   "metadata": {},
   "source": [
    "### Viewing the Flattened Info List\n",
    "\n",
    "Because `doc_info_list` is already flattened so the value associated with each key is just a number or string, it looks much neater when loaded into pandas:"
   ]
  },
  {
   "cell_type": "code",
   "execution_count": 23,
   "metadata": {},
   "outputs": [
    {
     "data": {
      "text/html": [
       "<div>\n",
       "<style scoped>\n",
       "    .dataframe tbody tr th:only-of-type {\n",
       "        vertical-align: middle;\n",
       "    }\n",
       "\n",
       "    .dataframe tbody tr th {\n",
       "        vertical-align: top;\n",
       "    }\n",
       "\n",
       "    .dataframe thead th {\n",
       "        text-align: right;\n",
       "    }\n",
       "</style>\n",
       "<table border=\"1\" class=\"dataframe\">\n",
       "  <thead>\n",
       "    <tr style=\"text-align: right;\">\n",
       "      <th></th>\n",
       "      <th>headline_main</th>\n",
       "      <th>headline_kicker</th>\n",
       "      <th>pub_date</th>\n",
       "      <th>word_count</th>\n",
       "    </tr>\n",
       "  </thead>\n",
       "  <tbody>\n",
       "    <tr>\n",
       "      <th>0</th>\n",
       "      <td>HIGGINS, SPENT $22,189.53.; Governor-Elect's E...</td>\n",
       "      <td>None</td>\n",
       "      <td>1904-11-17T00:00:00Z</td>\n",
       "      <td>213</td>\n",
       "    </tr>\n",
       "    <tr>\n",
       "      <th>1</th>\n",
       "      <td>GARDEN BOUTS CANCELED; Mauriello Says He Could...</td>\n",
       "      <td>1</td>\n",
       "      <td>1944-10-23T00:00:00Z</td>\n",
       "      <td>149</td>\n",
       "    </tr>\n",
       "    <tr>\n",
       "      <th>2</th>\n",
       "      <td>Stock Drop Is Biggest in 2 Months--Margin Rise...</td>\n",
       "      <td>1</td>\n",
       "      <td>1955-05-15T00:00:00Z</td>\n",
       "      <td>823</td>\n",
       "    </tr>\n",
       "    <tr>\n",
       "      <th>3</th>\n",
       "      <td>MUSIC OF THE WEEK</td>\n",
       "      <td>None</td>\n",
       "      <td>1904-11-06T00:00:00Z</td>\n",
       "      <td>2609</td>\n",
       "    </tr>\n",
       "    <tr>\n",
       "      <th>4</th>\n",
       "      <td>Anacomp Inc. reports earnings for Qtr to March 31</td>\n",
       "      <td>None</td>\n",
       "      <td>1992-05-06T00:00:00Z</td>\n",
       "      <td>129</td>\n",
       "    </tr>\n",
       "    <tr>\n",
       "      <th>5</th>\n",
       "      <td>Brooklyn Routs Yeshiva</td>\n",
       "      <td>1</td>\n",
       "      <td>1972-12-24T00:00:00Z</td>\n",
       "      <td>144</td>\n",
       "    </tr>\n",
       "    <tr>\n",
       "      <th>6</th>\n",
       "      <td>Albuquerque Program Gives Drinkers a Lift</td>\n",
       "      <td>1</td>\n",
       "      <td>1972-12-25T00:00:00Z</td>\n",
       "      <td>151</td>\n",
       "    </tr>\n",
       "    <tr>\n",
       "      <th>7</th>\n",
       "      <td>Front Page 7 -- No Title</td>\n",
       "      <td>1</td>\n",
       "      <td>1944-10-24T00:00:00Z</td>\n",
       "      <td>29</td>\n",
       "    </tr>\n",
       "    <tr>\n",
       "      <th>8</th>\n",
       "      <td>UNIONS AND BUILDERS READY FOR LONG FIGHT; None...</td>\n",
       "      <td>None</td>\n",
       "      <td>1904-08-06T00:00:00Z</td>\n",
       "      <td>883</td>\n",
       "    </tr>\n",
       "  </tbody>\n",
       "</table>\n",
       "</div>"
      ],
      "text/plain": [
       "                                       headline_main headline_kicker  \\\n",
       "0  HIGGINS, SPENT $22,189.53.; Governor-Elect's E...            None   \n",
       "1  GARDEN BOUTS CANCELED; Mauriello Says He Could...               1   \n",
       "2  Stock Drop Is Biggest in 2 Months--Margin Rise...               1   \n",
       "3                                  MUSIC OF THE WEEK            None   \n",
       "4  Anacomp Inc. reports earnings for Qtr to March 31            None   \n",
       "5                             Brooklyn Routs Yeshiva               1   \n",
       "6          Albuquerque Program Gives Drinkers a Lift               1   \n",
       "7                           Front Page 7 -- No Title               1   \n",
       "8  UNIONS AND BUILDERS READY FOR LONG FIGHT; None...            None   \n",
       "\n",
       "               pub_date  word_count  \n",
       "0  1904-11-17T00:00:00Z         213  \n",
       "1  1944-10-23T00:00:00Z         149  \n",
       "2  1955-05-15T00:00:00Z         823  \n",
       "3  1904-11-06T00:00:00Z        2609  \n",
       "4  1992-05-06T00:00:00Z         129  \n",
       "5  1972-12-24T00:00:00Z         144  \n",
       "6  1972-12-25T00:00:00Z         151  \n",
       "7  1944-10-24T00:00:00Z          29  \n",
       "8  1904-08-06T00:00:00Z         883  "
      ]
     },
     "execution_count": 23,
     "metadata": {},
     "output_type": "execute_result"
    }
   ],
   "source": [
    "pd.DataFrame(doc_info_list)"
   ]
  },
  {
   "cell_type": "markdown",
   "metadata": {},
   "source": [
    "We could also re-create this from the raw data using pandas rather than base Python:"
   ]
  },
  {
   "cell_type": "code",
   "execution_count": 24,
   "metadata": {},
   "outputs": [
    {
     "data": {
      "text/html": [
       "<div>\n",
       "<style scoped>\n",
       "    .dataframe tbody tr th:only-of-type {\n",
       "        vertical-align: middle;\n",
       "    }\n",
       "\n",
       "    .dataframe tbody tr th {\n",
       "        vertical-align: top;\n",
       "    }\n",
       "\n",
       "    .dataframe thead th {\n",
       "        text-align: right;\n",
       "    }\n",
       "</style>\n",
       "<table border=\"1\" class=\"dataframe\">\n",
       "  <thead>\n",
       "    <tr style=\"text-align: right;\">\n",
       "      <th></th>\n",
       "      <th>headline_main</th>\n",
       "      <th>headline_kicker</th>\n",
       "      <th>pub_date</th>\n",
       "      <th>word_count</th>\n",
       "    </tr>\n",
       "  </thead>\n",
       "  <tbody>\n",
       "    <tr>\n",
       "      <th>0</th>\n",
       "      <td>HIGGINS, SPENT $22,189.53.; Governor-Elect's E...</td>\n",
       "      <td>None</td>\n",
       "      <td>1904-11-17T00:00:00Z</td>\n",
       "      <td>213</td>\n",
       "    </tr>\n",
       "    <tr>\n",
       "      <th>1</th>\n",
       "      <td>GARDEN BOUTS CANCELED; Mauriello Says He Could...</td>\n",
       "      <td>1</td>\n",
       "      <td>1944-10-23T00:00:00Z</td>\n",
       "      <td>149</td>\n",
       "    </tr>\n",
       "    <tr>\n",
       "      <th>2</th>\n",
       "      <td>Stock Drop Is Biggest in 2 Months--Margin Rise...</td>\n",
       "      <td>1</td>\n",
       "      <td>1955-05-15T00:00:00Z</td>\n",
       "      <td>823</td>\n",
       "    </tr>\n",
       "    <tr>\n",
       "      <th>3</th>\n",
       "      <td>MUSIC OF THE WEEK</td>\n",
       "      <td>None</td>\n",
       "      <td>1904-11-06T00:00:00Z</td>\n",
       "      <td>2609</td>\n",
       "    </tr>\n",
       "    <tr>\n",
       "      <th>4</th>\n",
       "      <td>Anacomp Inc. reports earnings for Qtr to March 31</td>\n",
       "      <td>None</td>\n",
       "      <td>1992-05-06T00:00:00Z</td>\n",
       "      <td>129</td>\n",
       "    </tr>\n",
       "    <tr>\n",
       "      <th>5</th>\n",
       "      <td>Brooklyn Routs Yeshiva</td>\n",
       "      <td>1</td>\n",
       "      <td>1972-12-24T00:00:00Z</td>\n",
       "      <td>144</td>\n",
       "    </tr>\n",
       "    <tr>\n",
       "      <th>6</th>\n",
       "      <td>Albuquerque Program Gives Drinkers a Lift</td>\n",
       "      <td>1</td>\n",
       "      <td>1972-12-25T00:00:00Z</td>\n",
       "      <td>151</td>\n",
       "    </tr>\n",
       "    <tr>\n",
       "      <th>7</th>\n",
       "      <td>Front Page 7 -- No Title</td>\n",
       "      <td>1</td>\n",
       "      <td>1944-10-24T00:00:00Z</td>\n",
       "      <td>29</td>\n",
       "    </tr>\n",
       "    <tr>\n",
       "      <th>8</th>\n",
       "      <td>UNIONS AND BUILDERS READY FOR LONG FIGHT; None...</td>\n",
       "      <td>None</td>\n",
       "      <td>1904-08-06T00:00:00Z</td>\n",
       "      <td>883</td>\n",
       "    </tr>\n",
       "  </tbody>\n",
       "</table>\n",
       "</div>"
      ],
      "text/plain": [
       "                                       headline_main headline_kicker  \\\n",
       "0  HIGGINS, SPENT $22,189.53.; Governor-Elect's E...            None   \n",
       "1  GARDEN BOUTS CANCELED; Mauriello Says He Could...               1   \n",
       "2  Stock Drop Is Biggest in 2 Months--Margin Rise...               1   \n",
       "3                                  MUSIC OF THE WEEK            None   \n",
       "4  Anacomp Inc. reports earnings for Qtr to March 31            None   \n",
       "5                             Brooklyn Routs Yeshiva               1   \n",
       "6          Albuquerque Program Gives Drinkers a Lift               1   \n",
       "7                           Front Page 7 -- No Title               1   \n",
       "8  UNIONS AND BUILDERS READY FOR LONG FIGHT; None...            None   \n",
       "\n",
       "               pub_date  word_count  \n",
       "0  1904-11-17T00:00:00Z         213  \n",
       "1  1944-10-23T00:00:00Z         149  \n",
       "2  1955-05-15T00:00:00Z         823  \n",
       "3  1904-11-06T00:00:00Z        2609  \n",
       "4  1992-05-06T00:00:00Z         129  \n",
       "5  1972-12-24T00:00:00Z         144  \n",
       "6  1972-12-25T00:00:00Z         151  \n",
       "7  1944-10-24T00:00:00Z          29  \n",
       "8  1904-08-06T00:00:00Z         883  "
      ]
     },
     "execution_count": 24,
     "metadata": {},
     "output_type": "execute_result"
    }
   ],
   "source": [
    "# Create dataframe of raw docs info\n",
    "df = pd.DataFrame(data['response']['docs'])\n",
    "\n",
    "# Make new headline_main and headline_kicker columns\n",
    "df['headline_main'] = df['headline'].apply(lambda headline_dict: headline_dict['main'])\n",
    "df['headline_kicker'] = df['headline'].apply(lambda headline_dict: headline_dict['kicker'])\n",
    "\n",
    "# Subset to only the relevant columns\n",
    "df = df[['headline_main', 'headline_kicker', 'pub_date', 'word_count']]\n",
    "df"
   ]
  },
  {
   "cell_type": "markdown",
   "metadata": {},
   "source": [
    "Wahoo! This is a good general strategy for transforming nested JSON: create a DataFrame and then break out nested features into their own column features."
   ]
  },
  {
   "cell_type": "markdown",
   "metadata": {},
   "source": [
    "## Outputting to JSON\n",
    "\n",
    "Finally, take a look at how you can write data back to JSON. Like loading, you first open a file (this time in write mode) and use the json package to interact with that file object. Only instead of `json.load` to load the contents of the file into a Python object, you call `json.dump` to write the contents of the Python object into the file."
   ]
  },
  {
   "cell_type": "code",
   "execution_count": 25,
   "metadata": {},
   "outputs": [],
   "source": [
    "with open('doc_info_list.json', 'w') as f:\n",
    "    json.dump(doc_info_list, f)"
   ]
  },
  {
   "cell_type": "markdown",
   "metadata": {},
   "source": [
    "Then if we want to load that cleaned dataset for future use, we can open that new file:"
   ]
  },
  {
   "cell_type": "code",
   "execution_count": 26,
   "metadata": {},
   "outputs": [],
   "source": [
    "with open('doc_info_list.json') as f:\n",
    "    doc_info_list_from_disk = json.load(f)"
   ]
  },
  {
   "cell_type": "markdown",
   "metadata": {},
   "source": [
    "The new file should contain identical information to the original Python variable:"
   ]
  },
  {
   "cell_type": "code",
   "execution_count": 27,
   "metadata": {},
   "outputs": [
    {
     "data": {
      "text/plain": [
       "True"
      ]
     },
     "execution_count": 27,
     "metadata": {},
     "output_type": "execute_result"
    }
   ],
   "source": [
    "doc_info_list_from_disk == doc_info_list"
   ]
  },
  {
   "cell_type": "markdown",
   "metadata": {},
   "source": [
    "## Summary\n",
    "There you have it! In this, you practiced using JSON some more, this time interpreting an example schema diagram in order to retrieve information. You also looked at a general procedure for transforming nested data to pandas DataFrames (create a DataFrame, and then break apart nested data using lambda functions to create additional columns). Finally, you also took a brief look at saving data to JSON files. "
   ]
  },
  {
   "cell_type": "code",
   "execution_count": null,
   "metadata": {},
   "outputs": [],
   "source": []
  }
 ],
 "metadata": {
  "kernelspec": {
   "display_name": "saturn (Python 3)",
   "language": "python",
   "name": "python3"
  },
  "language_info": {
   "codemirror_mode": {
    "name": "ipython",
    "version": 3
   },
   "file_extension": ".py",
   "mimetype": "text/x-python",
   "name": "python",
   "nbconvert_exporter": "python",
   "pygments_lexer": "ipython3",
   "version": "3.10.6"
  },
  "toc": {
   "base_numbering": 1,
   "nav_menu": {},
   "number_sections": true,
   "sideBar": true,
   "skip_h1_title": false,
   "title_cell": "Table of Contents",
   "title_sidebar": "Contents",
   "toc_cell": false,
   "toc_position": {},
   "toc_section_display": true,
   "toc_window_display": false
  }
 },
 "nbformat": 4,
 "nbformat_minor": 2
}
