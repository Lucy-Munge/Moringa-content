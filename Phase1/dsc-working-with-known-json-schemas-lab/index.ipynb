{
 "cells": [
  {
   "cell_type": "markdown",
   "metadata": {},
   "source": [
    "# Working with Known JSON Schemas - Lab"
   ]
  },
  {
   "cell_type": "markdown",
   "metadata": {},
   "source": [
    "## Introduction\n",
    "In this lab, you'll practice working with JSON files whose schema you know beforehand."
   ]
  },
  {
   "cell_type": "markdown",
   "metadata": {},
   "source": [
    "## Objectives\n",
    "\n",
    "You will be able to:\n",
    "\n",
    "* Use the `json` module to load and parse JSON documents\n",
    "* Extract data using predefined JSON schemas\n",
    "* Convert JSON to a pandas dataframe"
   ]
  },
  {
   "cell_type": "markdown",
   "metadata": {},
   "source": [
    "## Reading a JSON Schema\n",
    "\n",
    "Here's the JSON schema provided for a section of the NY Times API:\n",
    "<img src=\"images/nytimes_movie_schema.png\" width=500>\n",
    "\n",
    "or a fully expanded view:\n",
    "\n",
    "<img src=\"images/nytimes_movie_schema_detailed.png\" width=500>\n",
    "\n",
    "You can more about the documentation [here](https://developer.nytimes.com/docs/movie-reviews-api/1/routes/reviews/%7Btype%7D.json/get).\n",
    "\n",
    "Note that **this is a different schema than the schema used in the previous lesson**, although both come from the New York Times."
   ]
  },
  {
   "cell_type": "markdown",
   "metadata": {},
   "source": [
    "## Loading the JSON Data\n",
    "\n",
    "Open the JSON file located at `ny_times_movies.json`, and use the `json` module to load the data into a variable called `data`."
   ]
  },
  {
   "cell_type": "code",
   "execution_count": 37,
   "metadata": {},
   "outputs": [],
   "source": [
    "# Your code here\n",
    "import json \n",
    "with open ('ny_times_movies.json') as f:\n",
    "    data = json.load(f)\n"
   ]
  },
  {
   "cell_type": "markdown",
   "metadata": {},
   "source": [
    "Run the code below to investigate its contents:"
   ]
  },
  {
   "cell_type": "code",
   "execution_count": 9,
   "metadata": {},
   "outputs": [
    {
     "name": "stdout",
     "output_type": "stream",
     "text": [
      "`data` has type <class 'dict'>\n",
      "The keys are ['status', 'copyright', 'has_more', 'num_results', 'results']\n"
     ]
    }
   ],
   "source": [
    "# Run this cell without changes\n",
    "print(\"`data` has type\", type(data))\n",
    "print(\"The keys are\", list(data.keys()))"
   ]
  },
  {
   "cell_type": "markdown",
   "metadata": {},
   "source": [
    "## Loading Results\n",
    "\n",
    "Create a variable `results` that contains the value associated with the `'results'` key."
   ]
  },
  {
   "cell_type": "code",
   "execution_count": 11,
   "metadata": {},
   "outputs": [
    {
     "name": "stdout",
     "output_type": "stream",
     "text": [
      "[{'display_title': 'Can You Ever Forgive Me', 'mpaa_rating': 'R', 'critics_pick': 1, 'byline': 'A.O. SCOTT', 'headline': 'Review: Melissa McCarthy Is Criminally Good in ‘Can You Ever Forgive Me?’', 'summary_short': 'Marielle Heller directs a true story of literary fraud, set amid the bookstores and gay bars of early ’90s Manhattan.', 'publication_date': '2018-10-16', 'opening_date': '2018-10-19', 'date_updated': '2018-10-17 02:44:23', 'link': {'type': 'article', 'url': 'http://www.nytimes.com/2018/10/16/movies/can-you-ever-forgive-me-review-melissa-mccarthy.html', 'suggested_link_text': 'Read the New York Times Review of Can You Ever Forgive Me'}, 'multimedia': {'type': 'mediumThreeByTwo210', 'src': 'https://static01.nyt.com/images/2018/10/19/arts/19CANYOUEVER-1/19CANYOUEVER-1-mediumThreeByTwo210.jpg', 'width': 210, 'height': 140}}, {'display_title': 'Charm City', 'mpaa_rating': '', 'critics_pick': 1, 'byline': 'BEN KENIGSBERG', 'headline': 'Review: ‘Charm City’ Vividly Captures the Streets of Baltimore', 'summary_short': 'Marilyn Ness’s documentary is dedicated to the memory of the more than 1,000 people said to be killed in Baltimore during the film’s making.', 'publication_date': '2018-10-16', 'opening_date': '2018-04-22', 'date_updated': '2018-10-16 11:04:03', 'link': {'type': 'article', 'url': 'http://www.nytimes.com/2018/10/16/movies/charm-city-review-baltimore.html', 'suggested_link_text': 'Read the New York Times Review of Charm City'}, 'multimedia': {'type': 'mediumThreeByTwo210', 'src': 'https://static01.nyt.com/images/2018/10/17/arts/17charmcity/17charmcity-mediumThreeByTwo210.jpg', 'width': 210, 'height': 140}}, {'display_title': 'Horn from the Heart: The Paul Butterfield Story', 'mpaa_rating': '', 'critics_pick': 1, 'byline': 'GLENN KENNY', 'headline': 'Review: Paul Butterfield’s Story Is Told in ‘Horn From the Heart’', 'summary_short': 'A documentary explores the life of the blues musician who was prominent in the 1960s and ’70s.', 'publication_date': '2018-10-16', 'opening_date': '2018-10-19', 'date_updated': '2018-10-16 11:04:04', 'link': {'type': 'article', 'url': 'http://www.nytimes.com/2018/10/16/movies/horn-from-the-heart-review-paul-butterfield.html', 'suggested_link_text': 'Read the New York Times Review of Horn from the Heart: The Paul Butterfield Story'}, 'multimedia': {'type': 'mediumThreeByTwo210', 'src': 'https://static01.nyt.com/images/2018/10/17/arts/17hornfromtheheart/17hornfromtheheart-mediumThreeByTwo210.jpg', 'width': 210, 'height': 140}}, {'display_title': 'The Price of Everything', 'mpaa_rating': '', 'critics_pick': 0, 'byline': 'A.O. SCOTT', 'headline': 'Review: ‘The Price of Everything’ Asks $56 Billion Questions About Art', 'summary_short': 'This documentary examines the global art market, and pauses to look at some pictures along the way.', 'publication_date': '2018-10-16', 'opening_date': '2018-10-19', 'date_updated': '2018-10-16 16:08:03', 'link': {'type': 'article', 'url': 'http://www.nytimes.com/2018/10/16/movies/the-price-of-everything-review-documentary.html', 'suggested_link_text': 'Read the New York Times Review of The Price of Everything'}, 'multimedia': {'type': 'mediumThreeByTwo210', 'src': 'https://static01.nyt.com/images/2018/10/19/arts/19priceofeverything/19priceofeverything-mediumThreeByTwo210.jpg', 'width': 210, 'height': 140}}, {'display_title': 'Impulso', 'mpaa_rating': '', 'critics_pick': 0, 'byline': 'BEN KENIGSBERG', 'headline': 'Review: ‘Impulso’ Goes Backstage With a Flamenco Innovator', 'summary_short': 'This documentary follows Rocío Molina, a cutting-edge dancer, as she prepares for a Paris show.', 'publication_date': '2018-10-16', 'opening_date': None, 'date_updated': '2018-10-16 11:04:03', 'link': {'type': 'article', 'url': 'http://www.nytimes.com/2018/10/16/movies/impulso-review-documentary.html', 'suggested_link_text': 'Read the New York Times Review of Impulso'}, 'multimedia': {'type': 'mediumThreeByTwo210', 'src': 'https://static01.nyt.com/images/2018/10/17/arts/17impulso/17impulso-mediumThreeByTwo210.jpg', 'width': 210, 'height': 140}}, {'display_title': 'Watergate', 'mpaa_rating': '', 'critics_pick': 1, 'byline': 'A.O. SCOTT', 'headline': 'Review: ‘Watergate’ Shocks Anew With Its True Tale of Political Scandal', 'summary_short': 'Charles Ferguson delivers a comprehensive documentary about the not-so-distant past, with its eye very much on the present.', 'publication_date': '2018-10-11', 'opening_date': '2018-10-12', 'date_updated': '2018-10-17 02:44:21', 'link': {'type': 'article', 'url': 'http://www.nytimes.com/2018/10/11/movies/watergate-review-documentary.html', 'suggested_link_text': 'Read the New York Times Review of Watergate'}, 'multimedia': {'type': 'mediumThreeByTwo210', 'src': 'https://static01.nyt.com/images/2018/10/12/arts/12watergate/12watergate-mediumThreeByTwo210-v3.jpg', 'width': 210, 'height': 140}}, {'display_title': 'Barbara', 'mpaa_rating': '', 'critics_pick': 1, 'byline': 'GLENN KENNY', 'headline': 'Review: In ‘Barbara,’ a Fictional Biopic of a French Chanteuse', 'summary_short': 'It’s a film of scenes rather than of one unified narrative, but each scene is a showcase for the magnificent talents of its star.', 'publication_date': '2018-10-11', 'opening_date': None, 'date_updated': '2018-10-17 02:44:21', 'link': {'type': 'article', 'url': 'http://www.nytimes.com/2018/10/11/movies/barbara-review.html', 'suggested_link_text': 'Read the New York Times Review of Barbara'}, 'multimedia': {'type': 'mediumThreeByTwo210', 'src': 'https://static01.nyt.com/images/2018/10/12/arts/12barbara/merlin_144926925_2fb5b176-1b74-4549-9be7-251a1f04323d-mediumThreeByTwo210.jpg', 'width': 210, 'height': 140}}, {'display_title': 'Over the Limit', 'mpaa_rating': '', 'critics_pick': 1, 'byline': 'JEANNETTE CATSOULIS', 'headline': 'Review: A Russian Gymnast Goes ‘Over the Limit’', 'summary_short': 'Margarita Mamun endures injury and abuse in Marta Prus’s brilliantly constructed documentary.', 'publication_date': '2018-10-11', 'opening_date': '2018-10-05', 'date_updated': '2018-10-17 02:44:20', 'link': {'type': 'article', 'url': 'http://www.nytimes.com/2018/10/11/movies/over-the-limit-review.html', 'suggested_link_text': 'Read the New York Times Review of Over the Limit'}, 'multimedia': {'type': 'mediumThreeByTwo210', 'src': 'https://static01.nyt.com/images/2018/10/12/arts/12over1/12over1-mediumThreeByTwo210-v2.jpg', 'width': 210, 'height': 140}}, {'display_title': 'The Kindergarten Teacher', 'mpaa_rating': 'R', 'critics_pick': 1, 'byline': 'JEANNETTE CATSOULIS', 'headline': 'Review: The Disturbing Obsession of ‘The Kindergarten Teacher’', 'summary_short': 'Maggie Gyllenhaal is riveting as a dissatisfied teacher who’s obsessed with her 5-year-old pupil’s poetic talent.', 'publication_date': '2018-10-11', 'opening_date': '2018-10-12', 'date_updated': '2018-10-17 02:44:19', 'link': {'type': 'article', 'url': 'http://www.nytimes.com/2018/10/11/movies/the-kindergarten-teacher-review.html', 'suggested_link_text': 'Read the New York Times Review of The Kindergarten Teacher'}, 'multimedia': {'type': 'mediumThreeByTwo210', 'src': 'https://static01.nyt.com/images/2018/10/12/arts/12kindergarten1/kindergarten1-mediumThreeByTwo210.jpg', 'width': 210, 'height': 140}}, {'display_title': 'Classical Period', 'mpaa_rating': '', 'critics_pick': 1, 'byline': 'BEN KENIGSBERG', 'headline': 'Review: In ‘Classical Period,’ a Deep Dive — Really Deep — Into Dante', 'summary_short': 'This highly original feature is technically in English, but it might as well be in liberal-arts-speak.', 'publication_date': '2018-10-11', 'opening_date': None, 'date_updated': '2018-10-17 02:44:18', 'link': {'type': 'article', 'url': 'http://www.nytimes.com/2018/10/11/movies/classical-period-review.html', 'suggested_link_text': 'Read the New York Times Review of Classical Period'}, 'multimedia': {'type': 'mediumThreeByTwo210', 'src': 'https://static01.nyt.com/images/2018/10/10/arts/classical1/classical1-mediumThreeByTwo210.jpg', 'width': 210, 'height': 140}}, {'display_title': 'Bad Times at the El Royale', 'mpaa_rating': 'R', 'critics_pick': 0, 'byline': 'MANOHLA DARGIS', 'headline': 'Review: Hard-Boiled Play in ‘Bad Times at the El Royale’', 'summary_short': 'The writer-director Drew Goddard has fun with genre and a cast that includes Jeff Bridges, Dakota Johnson, Jon Hamm, Cynthia Erivo and Chris Hemsworth.', 'publication_date': '2018-10-11', 'opening_date': '2018-10-12', 'date_updated': '2018-10-17 02:44:22', 'link': {'type': 'article', 'url': 'http://www.nytimes.com/2018/10/11/movies/bad-times-at-the-el-royale-review.html', 'suggested_link_text': 'Read the New York Times Review of Bad Times at the El Royale'}, 'multimedia': {'type': 'mediumThreeByTwo210', 'src': 'https://static01.nyt.com/images/2018/10/12/arts/12badtimes-1/merlin_144926712_c4da8d26-b8af-4e7b-b65d-75e7ae46f296-mediumThreeByTwo210.jpg', 'width': 210, 'height': 140}}, {'display_title': 'Beautiful Boy', 'mpaa_rating': 'R', 'critics_pick': 0, 'byline': 'A.O. SCOTT', 'headline': 'Review: In ‘Beautiful Boy,’ a Writer Confronts His Son’s Meth Addiction', 'summary_short': 'Two memoirs are brought to the screen in a father-son drama starring Steve Carell and Timothée Chalamet.', 'publication_date': '2018-10-11', 'opening_date': '2018-10-12', 'date_updated': '2018-10-17 02:44:21', 'link': {'type': 'article', 'url': 'http://www.nytimes.com/2018/10/11/movies/beautiful-boy-review-steve-carell.html', 'suggested_link_text': 'Read the New York Times Review of Beautiful Boy'}, 'multimedia': {'type': 'mediumThreeByTwo210', 'src': 'https://static01.nyt.com/images/2018/10/12/arts/12beautifulboy/merlin_144926952_7ed013e2-cd6b-44c0-9431-dc59fc305700-mediumThreeByTwo210.jpg', 'width': 210, 'height': 140}}, {'display_title': 'The Oath', 'mpaa_rating': 'R', 'critics_pick': 0, 'byline': 'GLENN KENNY', 'headline': 'Review: In ‘The Oath,’ a Pledge of Allegiance to a President Creates Chasms', 'summary_short': 'This satirical comedy, written, directed by and starring Ike Barinholtz, turns dark and ham-handed.', 'publication_date': '2018-10-11', 'opening_date': '2018-10-12', 'date_updated': '2018-10-17 02:44:21', 'link': {'type': 'article', 'url': 'http://www.nytimes.com/2018/10/11/movies/the-oath-review-tiffany-haddish.html', 'suggested_link_text': 'Read the New York Times Review of The Oath'}, 'multimedia': {'type': 'mediumThreeByTwo210', 'src': 'https://static01.nyt.com/images/2018/10/12/arts/12theoath/12theoath-mediumThreeByTwo210-v2.jpg', 'width': 210, 'height': 140}}, {'display_title': 'Bikini Moon', 'mpaa_rating': '', 'critics_pick': 0, 'byline': 'KEN JAWOROWSKI', 'headline': 'Review: ‘Bikini Moon’ Finds a Documentary Crew Under Its Subject’s Spell', 'summary_short': 'Condola Rashad plays the title character, a homeless women who manipulates, and is manipulated by, filmmakers who soon have their own problems.', 'publication_date': '2018-10-11', 'opening_date': '2018-10-12', 'date_updated': '2018-10-17 02:44:20', 'link': {'type': 'article', 'url': 'http://www.nytimes.com/2018/10/11/movies/bikini-moon-review.html', 'suggested_link_text': 'Read the New York Times Review of Bikini Moon'}, 'multimedia': {'type': 'mediumThreeByTwo210', 'src': 'https://static01.nyt.com/images/2018/10/12/arts/12bikini1/12bikini1-mediumThreeByTwo210-v4.jpg', 'width': 210, 'height': 140}}, {'display_title': 'Goosebumps 2: Haunted Halloween', 'mpaa_rating': 'PG', 'critics_pick': 0, 'byline': 'TEO BUGBEE', 'headline': 'Review: ‘Goosebumps 2: Haunted Halloween’ Is Toothless Terror', 'summary_short': 'This sequel to the movie adaptation of R.L. Stine’s horror series is more goofy than scary.', 'publication_date': '2018-10-11', 'opening_date': '2018-10-12', 'date_updated': '2018-10-17 02:44:20', 'link': {'type': 'article', 'url': 'http://www.nytimes.com/2018/10/11/movies/goosebumps-2-haunted-halloween-review.html', 'suggested_link_text': 'Read the New York Times Review of Goosebumps 2: Haunted Halloween'}, 'multimedia': {'type': 'mediumThreeByTwo210', 'src': 'https://static01.nyt.com/images/2018/10/12/arts/12goosebumps/merlin_144927237_ce38ea83-4672-4382-8c4d-e6c80325379c-mediumThreeByTwo210.jpg', 'width': 210, 'height': 140}}, {'display_title': 'The Sentence', 'mpaa_rating': '', 'critics_pick': 0, 'byline': 'KEN JAWOROWSKI', 'headline': 'Review: In ‘The Sentence,’ a Woman Gets Prison, Her Family Also Pays', 'summary_short': 'The documentary denounces minimum sentencing laws that put Cindy Shank behind bars.', 'publication_date': '2018-10-11', 'opening_date': '2018-10-12', 'date_updated': '2018-10-17 02:44:19', 'link': {'type': 'article', 'url': 'http://www.nytimes.com/2018/10/11/movies/the-sentence-review.html', 'suggested_link_text': 'Read the New York Times Review of The Sentence'}, 'multimedia': {'type': 'mediumThreeByTwo210', 'src': 'https://static01.nyt.com/images/2018/10/09/arts/thesentence1/thesentence1-mediumThreeByTwo210.jpg', 'width': 210, 'height': 140}}, {'display_title': 'All Square', 'mpaa_rating': '', 'critics_pick': 0, 'byline': 'GLENN KENNY', 'headline': 'Review: In ‘All Square,’ Taking Big Bets on Youth Baseball', 'summary_short': 'Michael Kelly, Pamela Adlon and Josh Lucas enhance the small-town bookmaking shenanigans of this comedy-drama.', 'publication_date': '2018-10-11', 'opening_date': None, 'date_updated': '2018-10-11 11:04:11', 'link': {'type': 'article', 'url': 'http://www.nytimes.com/2018/10/11/movies/all-square-review.html', 'suggested_link_text': 'Read the New York Times Review of All Square'}, 'multimedia': {'type': 'mediumThreeByTwo210', 'src': 'https://static01.nyt.com/images/2018/10/12/arts/12allsquare/12allsquare-mediumThreeByTwo210-v2.jpg', 'width': 210, 'height': 140}}, {'display_title': 'Sadie', 'mpaa_rating': '', 'critics_pick': 0, 'byline': 'KEN JAWOROWSKI', 'headline': 'Review: The Drama ‘Sadie’ Finds a Teenager in a Tough Situation', 'summary_short': 'The film stars Sophia Mitri Schloss as the title character, a 13-year-old girl who grows angry at the men who are courting her mother.', 'publication_date': '2018-10-11', 'opening_date': '2018-10-12', 'date_updated': '2018-10-11 11:04:07', 'link': {'type': 'article', 'url': 'http://www.nytimes.com/2018/10/11/movies/sadie-review.html', 'suggested_link_text': 'Read the New York Times Review of Sadie'}, 'multimedia': {'type': 'mediumThreeByTwo210', 'src': 'https://static01.nyt.com/images/2018/10/12/arts/12sadie1/sadie1-mediumThreeByTwo210.jpg', 'width': 210, 'height': 140}}, {'display_title': 'After Everything', 'mpaa_rating': '', 'critics_pick': 0, 'byline': 'TEO BUGBEE', 'headline': 'Review: In ‘After Everything,’ a Young Love Blooms in Crisis', 'summary_short': 'This cancer drama focuses less on the high stakes of illness than on how two young people talk to each other in sickness and in health.', 'publication_date': '2018-10-11', 'opening_date': '2018-10-12', 'date_updated': '2018-10-17 02:44:18', 'link': {'type': 'article', 'url': 'http://www.nytimes.com/2018/10/11/movies/after-everything-review.html', 'suggested_link_text': 'Read the New York Times Review of After Everything'}, 'multimedia': {'type': 'mediumThreeByTwo210', 'src': 'https://static01.nyt.com/images/2018/10/12/arts/12aftereverything/12aftereverything-mediumThreeByTwo210.jpg', 'width': 210, 'height': 140}}, {'display_title': 'First Man', 'mpaa_rating': 'PG-13', 'critics_pick': 0, 'byline': 'A.O. SCOTT', 'headline': 'Review: ‘First Man’ Takes a Giant Leap for Man, a Smaller Step for Movies', 'summary_short': 'Damien Chazelle’s sweeping and intimate yet underwhelming film revisits the first lunar landing, with Ryan Gosling as Neil Armstrong.', 'publication_date': '2018-10-10', 'opening_date': '2018-10-12', 'date_updated': '2018-10-17 02:44:18', 'link': {'type': 'article', 'url': 'http://www.nytimes.com/2018/10/10/movies/first-man-review-ryan-gosling-damien-chazelle.html', 'suggested_link_text': 'Read the New York Times Review of First Man'}, 'multimedia': {'type': 'mediumThreeByTwo210', 'src': 'https://static01.nyt.com/images/2018/10/12/arts/12FIRSTMAN-1/merlin_144926997_3122f50f-2561-4ea3-918c-f6911d00c31f-mediumThreeByTwo210.jpg', 'width': 210, 'height': 140}}]\n",
      "<class 'list'>\n"
     ]
    }
   ],
   "source": [
    "# Your code here\n",
    "results = data['results']\n",
    "print(results)\n",
    "print(type(results))"
   ]
  },
  {
   "cell_type": "markdown",
   "metadata": {},
   "source": [
    "Below we display this variable as a table using pandas:"
   ]
  },
  {
   "cell_type": "code",
   "execution_count": 12,
   "metadata": {},
   "outputs": [
    {
     "data": {
      "text/html": [
       "<div>\n",
       "<style scoped>\n",
       "    .dataframe tbody tr th:only-of-type {\n",
       "        vertical-align: middle;\n",
       "    }\n",
       "\n",
       "    .dataframe tbody tr th {\n",
       "        vertical-align: top;\n",
       "    }\n",
       "\n",
       "    .dataframe thead th {\n",
       "        text-align: right;\n",
       "    }\n",
       "</style>\n",
       "<table border=\"1\" class=\"dataframe\">\n",
       "  <thead>\n",
       "    <tr style=\"text-align: right;\">\n",
       "      <th></th>\n",
       "      <th>display_title</th>\n",
       "      <th>mpaa_rating</th>\n",
       "      <th>critics_pick</th>\n",
       "      <th>byline</th>\n",
       "      <th>headline</th>\n",
       "      <th>summary_short</th>\n",
       "      <th>publication_date</th>\n",
       "      <th>opening_date</th>\n",
       "      <th>date_updated</th>\n",
       "      <th>link</th>\n",
       "      <th>multimedia</th>\n",
       "    </tr>\n",
       "  </thead>\n",
       "  <tbody>\n",
       "    <tr>\n",
       "      <th>0</th>\n",
       "      <td>Can You Ever Forgive Me</td>\n",
       "      <td>R</td>\n",
       "      <td>1</td>\n",
       "      <td>A.O. SCOTT</td>\n",
       "      <td>Review: Melissa McCarthy Is Criminally Good in...</td>\n",
       "      <td>Marielle Heller directs a true story of litera...</td>\n",
       "      <td>2018-10-16</td>\n",
       "      <td>2018-10-19</td>\n",
       "      <td>2018-10-17 02:44:23</td>\n",
       "      <td>{'type': 'article', 'url': 'http://www.nytimes...</td>\n",
       "      <td>{'type': 'mediumThreeByTwo210', 'src': 'https:...</td>\n",
       "    </tr>\n",
       "    <tr>\n",
       "      <th>1</th>\n",
       "      <td>Charm City</td>\n",
       "      <td></td>\n",
       "      <td>1</td>\n",
       "      <td>BEN KENIGSBERG</td>\n",
       "      <td>Review: ‘Charm City’ Vividly Captures the Stre...</td>\n",
       "      <td>Marilyn Ness’s documentary is dedicated to the...</td>\n",
       "      <td>2018-10-16</td>\n",
       "      <td>2018-04-22</td>\n",
       "      <td>2018-10-16 11:04:03</td>\n",
       "      <td>{'type': 'article', 'url': 'http://www.nytimes...</td>\n",
       "      <td>{'type': 'mediumThreeByTwo210', 'src': 'https:...</td>\n",
       "    </tr>\n",
       "    <tr>\n",
       "      <th>2</th>\n",
       "      <td>Horn from the Heart: The Paul Butterfield Story</td>\n",
       "      <td></td>\n",
       "      <td>1</td>\n",
       "      <td>GLENN KENNY</td>\n",
       "      <td>Review: Paul Butterfield’s Story Is Told in ‘H...</td>\n",
       "      <td>A documentary explores the life of the blues m...</td>\n",
       "      <td>2018-10-16</td>\n",
       "      <td>2018-10-19</td>\n",
       "      <td>2018-10-16 11:04:04</td>\n",
       "      <td>{'type': 'article', 'url': 'http://www.nytimes...</td>\n",
       "      <td>{'type': 'mediumThreeByTwo210', 'src': 'https:...</td>\n",
       "    </tr>\n",
       "    <tr>\n",
       "      <th>3</th>\n",
       "      <td>The Price of Everything</td>\n",
       "      <td></td>\n",
       "      <td>0</td>\n",
       "      <td>A.O. SCOTT</td>\n",
       "      <td>Review: ‘The Price of Everything’ Asks $56 Bil...</td>\n",
       "      <td>This documentary examines the global art marke...</td>\n",
       "      <td>2018-10-16</td>\n",
       "      <td>2018-10-19</td>\n",
       "      <td>2018-10-16 16:08:03</td>\n",
       "      <td>{'type': 'article', 'url': 'http://www.nytimes...</td>\n",
       "      <td>{'type': 'mediumThreeByTwo210', 'src': 'https:...</td>\n",
       "    </tr>\n",
       "    <tr>\n",
       "      <th>4</th>\n",
       "      <td>Impulso</td>\n",
       "      <td></td>\n",
       "      <td>0</td>\n",
       "      <td>BEN KENIGSBERG</td>\n",
       "      <td>Review: ‘Impulso’ Goes Backstage With a Flamen...</td>\n",
       "      <td>This documentary follows Rocío Molina, a cutti...</td>\n",
       "      <td>2018-10-16</td>\n",
       "      <td>None</td>\n",
       "      <td>2018-10-16 11:04:03</td>\n",
       "      <td>{'type': 'article', 'url': 'http://www.nytimes...</td>\n",
       "      <td>{'type': 'mediumThreeByTwo210', 'src': 'https:...</td>\n",
       "    </tr>\n",
       "    <tr>\n",
       "      <th>5</th>\n",
       "      <td>Watergate</td>\n",
       "      <td></td>\n",
       "      <td>1</td>\n",
       "      <td>A.O. SCOTT</td>\n",
       "      <td>Review: ‘Watergate’ Shocks Anew With Its True ...</td>\n",
       "      <td>Charles Ferguson delivers a comprehensive docu...</td>\n",
       "      <td>2018-10-11</td>\n",
       "      <td>2018-10-12</td>\n",
       "      <td>2018-10-17 02:44:21</td>\n",
       "      <td>{'type': 'article', 'url': 'http://www.nytimes...</td>\n",
       "      <td>{'type': 'mediumThreeByTwo210', 'src': 'https:...</td>\n",
       "    </tr>\n",
       "    <tr>\n",
       "      <th>6</th>\n",
       "      <td>Barbara</td>\n",
       "      <td></td>\n",
       "      <td>1</td>\n",
       "      <td>GLENN KENNY</td>\n",
       "      <td>Review: In ‘Barbara,’ a Fictional Biopic of a ...</td>\n",
       "      <td>It’s a film of scenes rather than of one unifi...</td>\n",
       "      <td>2018-10-11</td>\n",
       "      <td>None</td>\n",
       "      <td>2018-10-17 02:44:21</td>\n",
       "      <td>{'type': 'article', 'url': 'http://www.nytimes...</td>\n",
       "      <td>{'type': 'mediumThreeByTwo210', 'src': 'https:...</td>\n",
       "    </tr>\n",
       "    <tr>\n",
       "      <th>7</th>\n",
       "      <td>Over the Limit</td>\n",
       "      <td></td>\n",
       "      <td>1</td>\n",
       "      <td>JEANNETTE CATSOULIS</td>\n",
       "      <td>Review: A Russian Gymnast Goes ‘Over the Limit’</td>\n",
       "      <td>Margarita Mamun endures injury and abuse in Ma...</td>\n",
       "      <td>2018-10-11</td>\n",
       "      <td>2018-10-05</td>\n",
       "      <td>2018-10-17 02:44:20</td>\n",
       "      <td>{'type': 'article', 'url': 'http://www.nytimes...</td>\n",
       "      <td>{'type': 'mediumThreeByTwo210', 'src': 'https:...</td>\n",
       "    </tr>\n",
       "    <tr>\n",
       "      <th>8</th>\n",
       "      <td>The Kindergarten Teacher</td>\n",
       "      <td>R</td>\n",
       "      <td>1</td>\n",
       "      <td>JEANNETTE CATSOULIS</td>\n",
       "      <td>Review: The Disturbing Obsession of ‘The Kinde...</td>\n",
       "      <td>Maggie Gyllenhaal is riveting as a dissatisfie...</td>\n",
       "      <td>2018-10-11</td>\n",
       "      <td>2018-10-12</td>\n",
       "      <td>2018-10-17 02:44:19</td>\n",
       "      <td>{'type': 'article', 'url': 'http://www.nytimes...</td>\n",
       "      <td>{'type': 'mediumThreeByTwo210', 'src': 'https:...</td>\n",
       "    </tr>\n",
       "    <tr>\n",
       "      <th>9</th>\n",
       "      <td>Classical Period</td>\n",
       "      <td></td>\n",
       "      <td>1</td>\n",
       "      <td>BEN KENIGSBERG</td>\n",
       "      <td>Review: In ‘Classical Period,’ a Deep Dive — R...</td>\n",
       "      <td>This highly original feature is technically in...</td>\n",
       "      <td>2018-10-11</td>\n",
       "      <td>None</td>\n",
       "      <td>2018-10-17 02:44:18</td>\n",
       "      <td>{'type': 'article', 'url': 'http://www.nytimes...</td>\n",
       "      <td>{'type': 'mediumThreeByTwo210', 'src': 'https:...</td>\n",
       "    </tr>\n",
       "    <tr>\n",
       "      <th>10</th>\n",
       "      <td>Bad Times at the El Royale</td>\n",
       "      <td>R</td>\n",
       "      <td>0</td>\n",
       "      <td>MANOHLA DARGIS</td>\n",
       "      <td>Review: Hard-Boiled Play in ‘Bad Times at the ...</td>\n",
       "      <td>The writer-director Drew Goddard has fun with ...</td>\n",
       "      <td>2018-10-11</td>\n",
       "      <td>2018-10-12</td>\n",
       "      <td>2018-10-17 02:44:22</td>\n",
       "      <td>{'type': 'article', 'url': 'http://www.nytimes...</td>\n",
       "      <td>{'type': 'mediumThreeByTwo210', 'src': 'https:...</td>\n",
       "    </tr>\n",
       "    <tr>\n",
       "      <th>11</th>\n",
       "      <td>Beautiful Boy</td>\n",
       "      <td>R</td>\n",
       "      <td>0</td>\n",
       "      <td>A.O. SCOTT</td>\n",
       "      <td>Review: In ‘Beautiful Boy,’ a Writer Confronts...</td>\n",
       "      <td>Two memoirs are brought to the screen in a fat...</td>\n",
       "      <td>2018-10-11</td>\n",
       "      <td>2018-10-12</td>\n",
       "      <td>2018-10-17 02:44:21</td>\n",
       "      <td>{'type': 'article', 'url': 'http://www.nytimes...</td>\n",
       "      <td>{'type': 'mediumThreeByTwo210', 'src': 'https:...</td>\n",
       "    </tr>\n",
       "    <tr>\n",
       "      <th>12</th>\n",
       "      <td>The Oath</td>\n",
       "      <td>R</td>\n",
       "      <td>0</td>\n",
       "      <td>GLENN KENNY</td>\n",
       "      <td>Review: In ‘The Oath,’ a Pledge of Allegiance ...</td>\n",
       "      <td>This satirical comedy, written, directed by an...</td>\n",
       "      <td>2018-10-11</td>\n",
       "      <td>2018-10-12</td>\n",
       "      <td>2018-10-17 02:44:21</td>\n",
       "      <td>{'type': 'article', 'url': 'http://www.nytimes...</td>\n",
       "      <td>{'type': 'mediumThreeByTwo210', 'src': 'https:...</td>\n",
       "    </tr>\n",
       "    <tr>\n",
       "      <th>13</th>\n",
       "      <td>Bikini Moon</td>\n",
       "      <td></td>\n",
       "      <td>0</td>\n",
       "      <td>KEN JAWOROWSKI</td>\n",
       "      <td>Review: ‘Bikini Moon’ Finds a Documentary Crew...</td>\n",
       "      <td>Condola Rashad plays the title character, a ho...</td>\n",
       "      <td>2018-10-11</td>\n",
       "      <td>2018-10-12</td>\n",
       "      <td>2018-10-17 02:44:20</td>\n",
       "      <td>{'type': 'article', 'url': 'http://www.nytimes...</td>\n",
       "      <td>{'type': 'mediumThreeByTwo210', 'src': 'https:...</td>\n",
       "    </tr>\n",
       "    <tr>\n",
       "      <th>14</th>\n",
       "      <td>Goosebumps 2: Haunted Halloween</td>\n",
       "      <td>PG</td>\n",
       "      <td>0</td>\n",
       "      <td>TEO BUGBEE</td>\n",
       "      <td>Review: ‘Goosebumps 2: Haunted Halloween’ Is T...</td>\n",
       "      <td>This sequel to the movie adaptation of R.L. St...</td>\n",
       "      <td>2018-10-11</td>\n",
       "      <td>2018-10-12</td>\n",
       "      <td>2018-10-17 02:44:20</td>\n",
       "      <td>{'type': 'article', 'url': 'http://www.nytimes...</td>\n",
       "      <td>{'type': 'mediumThreeByTwo210', 'src': 'https:...</td>\n",
       "    </tr>\n",
       "    <tr>\n",
       "      <th>15</th>\n",
       "      <td>The Sentence</td>\n",
       "      <td></td>\n",
       "      <td>0</td>\n",
       "      <td>KEN JAWOROWSKI</td>\n",
       "      <td>Review: In ‘The Sentence,’ a Woman Gets Prison...</td>\n",
       "      <td>The documentary denounces minimum sentencing l...</td>\n",
       "      <td>2018-10-11</td>\n",
       "      <td>2018-10-12</td>\n",
       "      <td>2018-10-17 02:44:19</td>\n",
       "      <td>{'type': 'article', 'url': 'http://www.nytimes...</td>\n",
       "      <td>{'type': 'mediumThreeByTwo210', 'src': 'https:...</td>\n",
       "    </tr>\n",
       "    <tr>\n",
       "      <th>16</th>\n",
       "      <td>All Square</td>\n",
       "      <td></td>\n",
       "      <td>0</td>\n",
       "      <td>GLENN KENNY</td>\n",
       "      <td>Review: In ‘All Square,’ Taking Big Bets on Yo...</td>\n",
       "      <td>Michael Kelly, Pamela Adlon and Josh Lucas enh...</td>\n",
       "      <td>2018-10-11</td>\n",
       "      <td>None</td>\n",
       "      <td>2018-10-11 11:04:11</td>\n",
       "      <td>{'type': 'article', 'url': 'http://www.nytimes...</td>\n",
       "      <td>{'type': 'mediumThreeByTwo210', 'src': 'https:...</td>\n",
       "    </tr>\n",
       "    <tr>\n",
       "      <th>17</th>\n",
       "      <td>Sadie</td>\n",
       "      <td></td>\n",
       "      <td>0</td>\n",
       "      <td>KEN JAWOROWSKI</td>\n",
       "      <td>Review: The Drama ‘Sadie’ Finds a Teenager in ...</td>\n",
       "      <td>The film stars Sophia Mitri Schloss as the tit...</td>\n",
       "      <td>2018-10-11</td>\n",
       "      <td>2018-10-12</td>\n",
       "      <td>2018-10-11 11:04:07</td>\n",
       "      <td>{'type': 'article', 'url': 'http://www.nytimes...</td>\n",
       "      <td>{'type': 'mediumThreeByTwo210', 'src': 'https:...</td>\n",
       "    </tr>\n",
       "    <tr>\n",
       "      <th>18</th>\n",
       "      <td>After Everything</td>\n",
       "      <td></td>\n",
       "      <td>0</td>\n",
       "      <td>TEO BUGBEE</td>\n",
       "      <td>Review: In ‘After Everything,’ a Young Love Bl...</td>\n",
       "      <td>This cancer drama focuses less on the high sta...</td>\n",
       "      <td>2018-10-11</td>\n",
       "      <td>2018-10-12</td>\n",
       "      <td>2018-10-17 02:44:18</td>\n",
       "      <td>{'type': 'article', 'url': 'http://www.nytimes...</td>\n",
       "      <td>{'type': 'mediumThreeByTwo210', 'src': 'https:...</td>\n",
       "    </tr>\n",
       "    <tr>\n",
       "      <th>19</th>\n",
       "      <td>First Man</td>\n",
       "      <td>PG-13</td>\n",
       "      <td>0</td>\n",
       "      <td>A.O. SCOTT</td>\n",
       "      <td>Review: ‘First Man’ Takes a Giant Leap for Man...</td>\n",
       "      <td>Damien Chazelle’s sweeping and intimate yet un...</td>\n",
       "      <td>2018-10-10</td>\n",
       "      <td>2018-10-12</td>\n",
       "      <td>2018-10-17 02:44:18</td>\n",
       "      <td>{'type': 'article', 'url': 'http://www.nytimes...</td>\n",
       "      <td>{'type': 'mediumThreeByTwo210', 'src': 'https:...</td>\n",
       "    </tr>\n",
       "  </tbody>\n",
       "</table>\n",
       "</div>"
      ],
      "text/plain": [
       "                                      display_title mpaa_rating  critics_pick  \\\n",
       "0                           Can You Ever Forgive Me           R             1   \n",
       "1                                        Charm City                         1   \n",
       "2   Horn from the Heart: The Paul Butterfield Story                         1   \n",
       "3                           The Price of Everything                         0   \n",
       "4                                           Impulso                         0   \n",
       "5                                         Watergate                         1   \n",
       "6                                           Barbara                         1   \n",
       "7                                    Over the Limit                         1   \n",
       "8                          The Kindergarten Teacher           R             1   \n",
       "9                                  Classical Period                         1   \n",
       "10                       Bad Times at the El Royale           R             0   \n",
       "11                                    Beautiful Boy           R             0   \n",
       "12                                         The Oath           R             0   \n",
       "13                                      Bikini Moon                         0   \n",
       "14                  Goosebumps 2: Haunted Halloween          PG             0   \n",
       "15                                     The Sentence                         0   \n",
       "16                                       All Square                         0   \n",
       "17                                            Sadie                         0   \n",
       "18                                 After Everything                         0   \n",
       "19                                        First Man       PG-13             0   \n",
       "\n",
       "                 byline                                           headline  \\\n",
       "0            A.O. SCOTT  Review: Melissa McCarthy Is Criminally Good in...   \n",
       "1        BEN KENIGSBERG  Review: ‘Charm City’ Vividly Captures the Stre...   \n",
       "2           GLENN KENNY  Review: Paul Butterfield’s Story Is Told in ‘H...   \n",
       "3            A.O. SCOTT  Review: ‘The Price of Everything’ Asks $56 Bil...   \n",
       "4        BEN KENIGSBERG  Review: ‘Impulso’ Goes Backstage With a Flamen...   \n",
       "5            A.O. SCOTT  Review: ‘Watergate’ Shocks Anew With Its True ...   \n",
       "6           GLENN KENNY  Review: In ‘Barbara,’ a Fictional Biopic of a ...   \n",
       "7   JEANNETTE CATSOULIS    Review: A Russian Gymnast Goes ‘Over the Limit’   \n",
       "8   JEANNETTE CATSOULIS  Review: The Disturbing Obsession of ‘The Kinde...   \n",
       "9        BEN KENIGSBERG  Review: In ‘Classical Period,’ a Deep Dive — R...   \n",
       "10       MANOHLA DARGIS  Review: Hard-Boiled Play in ‘Bad Times at the ...   \n",
       "11           A.O. SCOTT  Review: In ‘Beautiful Boy,’ a Writer Confronts...   \n",
       "12          GLENN KENNY  Review: In ‘The Oath,’ a Pledge of Allegiance ...   \n",
       "13       KEN JAWOROWSKI  Review: ‘Bikini Moon’ Finds a Documentary Crew...   \n",
       "14           TEO BUGBEE  Review: ‘Goosebumps 2: Haunted Halloween’ Is T...   \n",
       "15       KEN JAWOROWSKI  Review: In ‘The Sentence,’ a Woman Gets Prison...   \n",
       "16          GLENN KENNY  Review: In ‘All Square,’ Taking Big Bets on Yo...   \n",
       "17       KEN JAWOROWSKI  Review: The Drama ‘Sadie’ Finds a Teenager in ...   \n",
       "18           TEO BUGBEE  Review: In ‘After Everything,’ a Young Love Bl...   \n",
       "19           A.O. SCOTT  Review: ‘First Man’ Takes a Giant Leap for Man...   \n",
       "\n",
       "                                        summary_short publication_date  \\\n",
       "0   Marielle Heller directs a true story of litera...       2018-10-16   \n",
       "1   Marilyn Ness’s documentary is dedicated to the...       2018-10-16   \n",
       "2   A documentary explores the life of the blues m...       2018-10-16   \n",
       "3   This documentary examines the global art marke...       2018-10-16   \n",
       "4   This documentary follows Rocío Molina, a cutti...       2018-10-16   \n",
       "5   Charles Ferguson delivers a comprehensive docu...       2018-10-11   \n",
       "6   It’s a film of scenes rather than of one unifi...       2018-10-11   \n",
       "7   Margarita Mamun endures injury and abuse in Ma...       2018-10-11   \n",
       "8   Maggie Gyllenhaal is riveting as a dissatisfie...       2018-10-11   \n",
       "9   This highly original feature is technically in...       2018-10-11   \n",
       "10  The writer-director Drew Goddard has fun with ...       2018-10-11   \n",
       "11  Two memoirs are brought to the screen in a fat...       2018-10-11   \n",
       "12  This satirical comedy, written, directed by an...       2018-10-11   \n",
       "13  Condola Rashad plays the title character, a ho...       2018-10-11   \n",
       "14  This sequel to the movie adaptation of R.L. St...       2018-10-11   \n",
       "15  The documentary denounces minimum sentencing l...       2018-10-11   \n",
       "16  Michael Kelly, Pamela Adlon and Josh Lucas enh...       2018-10-11   \n",
       "17  The film stars Sophia Mitri Schloss as the tit...       2018-10-11   \n",
       "18  This cancer drama focuses less on the high sta...       2018-10-11   \n",
       "19  Damien Chazelle’s sweeping and intimate yet un...       2018-10-10   \n",
       "\n",
       "   opening_date         date_updated  \\\n",
       "0    2018-10-19  2018-10-17 02:44:23   \n",
       "1    2018-04-22  2018-10-16 11:04:03   \n",
       "2    2018-10-19  2018-10-16 11:04:04   \n",
       "3    2018-10-19  2018-10-16 16:08:03   \n",
       "4          None  2018-10-16 11:04:03   \n",
       "5    2018-10-12  2018-10-17 02:44:21   \n",
       "6          None  2018-10-17 02:44:21   \n",
       "7    2018-10-05  2018-10-17 02:44:20   \n",
       "8    2018-10-12  2018-10-17 02:44:19   \n",
       "9          None  2018-10-17 02:44:18   \n",
       "10   2018-10-12  2018-10-17 02:44:22   \n",
       "11   2018-10-12  2018-10-17 02:44:21   \n",
       "12   2018-10-12  2018-10-17 02:44:21   \n",
       "13   2018-10-12  2018-10-17 02:44:20   \n",
       "14   2018-10-12  2018-10-17 02:44:20   \n",
       "15   2018-10-12  2018-10-17 02:44:19   \n",
       "16         None  2018-10-11 11:04:11   \n",
       "17   2018-10-12  2018-10-11 11:04:07   \n",
       "18   2018-10-12  2018-10-17 02:44:18   \n",
       "19   2018-10-12  2018-10-17 02:44:18   \n",
       "\n",
       "                                                 link  \\\n",
       "0   {'type': 'article', 'url': 'http://www.nytimes...   \n",
       "1   {'type': 'article', 'url': 'http://www.nytimes...   \n",
       "2   {'type': 'article', 'url': 'http://www.nytimes...   \n",
       "3   {'type': 'article', 'url': 'http://www.nytimes...   \n",
       "4   {'type': 'article', 'url': 'http://www.nytimes...   \n",
       "5   {'type': 'article', 'url': 'http://www.nytimes...   \n",
       "6   {'type': 'article', 'url': 'http://www.nytimes...   \n",
       "7   {'type': 'article', 'url': 'http://www.nytimes...   \n",
       "8   {'type': 'article', 'url': 'http://www.nytimes...   \n",
       "9   {'type': 'article', 'url': 'http://www.nytimes...   \n",
       "10  {'type': 'article', 'url': 'http://www.nytimes...   \n",
       "11  {'type': 'article', 'url': 'http://www.nytimes...   \n",
       "12  {'type': 'article', 'url': 'http://www.nytimes...   \n",
       "13  {'type': 'article', 'url': 'http://www.nytimes...   \n",
       "14  {'type': 'article', 'url': 'http://www.nytimes...   \n",
       "15  {'type': 'article', 'url': 'http://www.nytimes...   \n",
       "16  {'type': 'article', 'url': 'http://www.nytimes...   \n",
       "17  {'type': 'article', 'url': 'http://www.nytimes...   \n",
       "18  {'type': 'article', 'url': 'http://www.nytimes...   \n",
       "19  {'type': 'article', 'url': 'http://www.nytimes...   \n",
       "\n",
       "                                           multimedia  \n",
       "0   {'type': 'mediumThreeByTwo210', 'src': 'https:...  \n",
       "1   {'type': 'mediumThreeByTwo210', 'src': 'https:...  \n",
       "2   {'type': 'mediumThreeByTwo210', 'src': 'https:...  \n",
       "3   {'type': 'mediumThreeByTwo210', 'src': 'https:...  \n",
       "4   {'type': 'mediumThreeByTwo210', 'src': 'https:...  \n",
       "5   {'type': 'mediumThreeByTwo210', 'src': 'https:...  \n",
       "6   {'type': 'mediumThreeByTwo210', 'src': 'https:...  \n",
       "7   {'type': 'mediumThreeByTwo210', 'src': 'https:...  \n",
       "8   {'type': 'mediumThreeByTwo210', 'src': 'https:...  \n",
       "9   {'type': 'mediumThreeByTwo210', 'src': 'https:...  \n",
       "10  {'type': 'mediumThreeByTwo210', 'src': 'https:...  \n",
       "11  {'type': 'mediumThreeByTwo210', 'src': 'https:...  \n",
       "12  {'type': 'mediumThreeByTwo210', 'src': 'https:...  \n",
       "13  {'type': 'mediumThreeByTwo210', 'src': 'https:...  \n",
       "14  {'type': 'mediumThreeByTwo210', 'src': 'https:...  \n",
       "15  {'type': 'mediumThreeByTwo210', 'src': 'https:...  \n",
       "16  {'type': 'mediumThreeByTwo210', 'src': 'https:...  \n",
       "17  {'type': 'mediumThreeByTwo210', 'src': 'https:...  \n",
       "18  {'type': 'mediumThreeByTwo210', 'src': 'https:...  \n",
       "19  {'type': 'mediumThreeByTwo210', 'src': 'https:...  "
      ]
     },
     "execution_count": 12,
     "metadata": {},
     "output_type": "execute_result"
    }
   ],
   "source": [
    "# Run this cell without changes\n",
    "import pandas as pd\n",
    "df = pd.DataFrame(results)\n",
    "df"
   ]
  },
  {
   "cell_type": "markdown",
   "metadata": {},
   "source": [
    "## Data Analysis\n",
    "\n",
    "Now that you have a general sense of the data, answer some questions about it.\n",
    "\n",
    "### How many results are in the file?\n",
    "\n",
    "The metadata says this:"
   ]
  },
  {
   "cell_type": "code",
   "execution_count": 13,
   "metadata": {},
   "outputs": [
    {
     "data": {
      "text/plain": [
       "20"
      ]
     },
     "execution_count": 13,
     "metadata": {},
     "output_type": "execute_result"
    }
   ],
   "source": [
    "# Run this cell without changes\n",
    "data['num_results']"
   ]
  },
  {
   "cell_type": "markdown",
   "metadata": {},
   "source": [
    "Double-check that by looking at `results`. Does it line up?"
   ]
  },
  {
   "cell_type": "code",
   "execution_count": 14,
   "metadata": {},
   "outputs": [
    {
     "data": {
      "text/plain": [
       "20"
      ]
     },
     "execution_count": 14,
     "metadata": {},
     "output_type": "execute_result"
    }
   ],
   "source": [
    "# Your code here\n",
    "len(results)"
   ]
  },
  {
   "cell_type": "code",
   "execution_count": null,
   "metadata": {},
   "outputs": [],
   "source": [
    "\"\"\"\n",
    "Your written answer here\n",
    "Yes the number of results add up\n",
    "\"\"\""
   ]
  },
  {
   "cell_type": "markdown",
   "metadata": {},
   "source": [
    "### How many unique critics are there?\n",
    "\n",
    "A critic's name can be identified using the `'byline'` key. Assign your answer to the variable `unique_critics`."
   ]
  },
  {
   "cell_type": "code",
   "execution_count": 21,
   "metadata": {},
   "outputs": [
    {
     "name": "stdout",
     "output_type": "stream",
     "text": [
      "['GLENN KENNY', 'TEO BUGBEE', 'KEN JAWOROWSKI', 'A.O. SCOTT', 'MANOHLA DARGIS', 'JEANNETTE CATSOULIS', 'BEN KENIGSBERG']\n"
     ]
    }
   ],
   "source": [
    "# Your code here\n",
    "unique_values = set()\n",
    "for item in results:\n",
    "    values = item['byline']\n",
    "    unique_values.add(values)\n",
    "    \n",
    "# Convert set back to a list if necessary\n",
    "unique_critics = list(unique_values)\n",
    "\n",
    "# Print the unique values\n",
    "print(unique_critics)"
   ]
  },
  {
   "cell_type": "markdown",
   "metadata": {},
   "source": [
    "This code checks your answer."
   ]
  },
  {
   "cell_type": "code",
   "execution_count": 26,
   "metadata": {},
   "outputs": [],
   "source": [
    "# Run this cell without changes\n",
    "assert len(unique_critics) == 7"
   ]
  },
  {
   "cell_type": "markdown",
   "metadata": {},
   "source": [
    "## Flattening Data\n",
    "\n",
    "Create a list `review_urls` that contains the URL for each review. This can be found using the `'url'` key nested under `'link'`."
   ]
  },
  {
   "cell_type": "code",
   "execution_count": 35,
   "metadata": {},
   "outputs": [
    {
     "data": {
      "text/plain": [
       "{'type': 'article',\n",
       " 'url': 'http://www.nytimes.com/2018/10/16/movies/can-you-ever-forgive-me-review-melissa-mccarthy.html',\n",
       " 'suggested_link_text': 'Read the New York Times Review of Can You Ever Forgive Me'}"
      ]
     },
     "execution_count": 35,
     "metadata": {},
     "output_type": "execute_result"
    }
   ],
   "source": [
    "# Your code here (create more cells as needed)\n",
    "results[0]['link']"
   ]
  },
  {
   "cell_type": "code",
   "execution_count": 39,
   "metadata": {},
   "outputs": [
    {
     "data": {
      "text/plain": [
       "['http://www.nytimes.com/2018/10/16/movies/can-you-ever-forgive-me-review-melissa-mccarthy.html',\n",
       " 'http://www.nytimes.com/2018/10/16/movies/charm-city-review-baltimore.html',\n",
       " 'http://www.nytimes.com/2018/10/16/movies/horn-from-the-heart-review-paul-butterfield.html',\n",
       " 'http://www.nytimes.com/2018/10/16/movies/the-price-of-everything-review-documentary.html',\n",
       " 'http://www.nytimes.com/2018/10/16/movies/impulso-review-documentary.html',\n",
       " 'http://www.nytimes.com/2018/10/11/movies/watergate-review-documentary.html',\n",
       " 'http://www.nytimes.com/2018/10/11/movies/barbara-review.html',\n",
       " 'http://www.nytimes.com/2018/10/11/movies/over-the-limit-review.html',\n",
       " 'http://www.nytimes.com/2018/10/11/movies/the-kindergarten-teacher-review.html',\n",
       " 'http://www.nytimes.com/2018/10/11/movies/classical-period-review.html',\n",
       " 'http://www.nytimes.com/2018/10/11/movies/bad-times-at-the-el-royale-review.html',\n",
       " 'http://www.nytimes.com/2018/10/11/movies/beautiful-boy-review-steve-carell.html',\n",
       " 'http://www.nytimes.com/2018/10/11/movies/the-oath-review-tiffany-haddish.html',\n",
       " 'http://www.nytimes.com/2018/10/11/movies/bikini-moon-review.html',\n",
       " 'http://www.nytimes.com/2018/10/11/movies/goosebumps-2-haunted-halloween-review.html',\n",
       " 'http://www.nytimes.com/2018/10/11/movies/the-sentence-review.html',\n",
       " 'http://www.nytimes.com/2018/10/11/movies/all-square-review.html',\n",
       " 'http://www.nytimes.com/2018/10/11/movies/sadie-review.html',\n",
       " 'http://www.nytimes.com/2018/10/11/movies/after-everything-review.html',\n",
       " 'http://www.nytimes.com/2018/10/10/movies/first-man-review-ryan-gosling-damien-chazelle.html']"
      ]
     },
     "execution_count": 39,
     "metadata": {},
     "output_type": "execute_result"
    }
   ],
   "source": [
    "# In base Python, we can make the list with list comprehension\n",
    "# review_urls = [result['link']['url'] for result in results]\n",
    "# review_urls\n",
    "\n",
    "review_urls = []\n",
    "for result in results:\n",
    "    x = result['link']['url']\n",
    "    review_urls.append(x)\n",
    "review_urls"
   ]
  },
  {
   "cell_type": "markdown",
   "metadata": {},
   "source": [
    "The following code will check your answer:"
   ]
  },
  {
   "cell_type": "code",
   "execution_count": 41,
   "metadata": {},
   "outputs": [],
   "source": [
    "# Run this cell without changes\n",
    "\n",
    "# review_urls should be a list\n",
    "assert type(review_urls) == list\n",
    "\n",
    "# The length should be 20, same as the length of reviews\n",
    "assert len(review_urls) == 20\n",
    "\n",
    "# The data type contained should be string\n",
    "assert type(review_urls[0]) == str and type(review_urls[-1]) == str\n",
    "\n",
    "# Spot checking a specific value\n",
    "assert review_urls[6] == 'http://www.nytimes.com/2018/10/11/movies/barbara-review.html'"
   ]
  },
  {
   "cell_type": "markdown",
   "metadata": {},
   "source": [
    "## Summary\n",
    "Well done! In this lab you continued to practice extracting and transforming data from JSON files with known schemas."
   ]
  }
 ],
 "metadata": {
  "kernelspec": {
   "display_name": "saturn (Python 3)",
   "language": "python",
   "name": "python3"
  },
  "language_info": {
   "codemirror_mode": {
    "name": "ipython",
    "version": 3
   },
   "file_extension": ".py",
   "mimetype": "text/x-python",
   "name": "python",
   "nbconvert_exporter": "python",
   "pygments_lexer": "ipython3",
   "version": "3.10.6"
  },
  "toc": {
   "base_numbering": 1,
   "nav_menu": {},
   "number_sections": true,
   "sideBar": true,
   "skip_h1_title": false,
   "title_cell": "Table of Contents",
   "title_sidebar": "Contents",
   "toc_cell": false,
   "toc_position": {},
   "toc_section_display": true,
   "toc_window_display": false
  }
 },
 "nbformat": 4,
 "nbformat_minor": 2
}
