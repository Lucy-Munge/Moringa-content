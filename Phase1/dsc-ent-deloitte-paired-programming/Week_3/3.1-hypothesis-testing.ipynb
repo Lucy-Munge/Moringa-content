{
 "cells": [
  {
   "cell_type": "markdown",
   "metadata": {
    "id": "aZtSqIOJdoB5"
   },
   "source": [
    "# Hypothesis Test - Lab"
   ]
  },
  {
   "cell_type": "markdown",
   "metadata": {
    "id": "VYcXqBhLdoB8"
   },
   "source": [
    "## Introduction\n",
    "\n",
    "In this lab, you'll have the opportunity to decide to pick the variables that you want to perform one and two sample t-tests."
   ]
  },
  {
   "cell_type": "markdown",
   "metadata": {
    "id": "bemRQ-KhdoB9"
   },
   "source": [
    "## Objectives\n",
    "\n",
    "You will be able to:\n",
    "\n",
    "* Construct and interpret a confidence interval for a single mean\n",
    "* Perform a hypothesis test for a single mean\n",
    "* Construct and interpret a confidence interval for two independent means\n",
    "* Perform a hypothesis test for two independent means\n"
   ]
  },
  {
   "cell_type": "markdown",
   "metadata": {
    "id": "yveycAz2doB9"
   },
   "source": [
    "## The Data: Last Words of Death Row Inmates\n",
    "\n",
    "On Kaggle there is a famous data set of *[Last Words of Death Row Inmates](https://www.kaggle.com/datasets/mykhe1097/last-words-of-death-row-inmates)*. While this data set is often used for natural language processing, we'll use the non-text data for statistical inference on one and two means using the t-distribution."
   ]
  },
  {
   "cell_type": "markdown",
   "metadata": {
    "id": "AFwoq4PulATc"
   },
   "source": [
    "### Data Dictionary\n",
    "\n",
    "The dataset consists of 545 observations with 21 variables. They are:\n",
    "\n",
    "* `Execution`: The order of execution, numeric.\n",
    "* `LastName`: Last name of the offender, character.\n",
    "* `FirstName`: First name of the offender, character.\n",
    "* `TDCJNumber`: TDCJ Number of the offender, numeric.\n",
    "* `Age`: Age of the offender, numeric.\n",
    "* `Race`: Race of the offender, categorical : Black, Hispanic, White, Other.\n",
    "* `CountyOfConviction`: County of conviction, character.\n",
    "* `AgeWhenReceived`: Age of offender when received, numeric.\n",
    "* `EducationLevel`: Education level of offender, numeric.\n",
    "* `NativeCounty`: Native county of offender, categorical : 0 = Within Texas, 1= Outside Texas.\n",
    "* `PreviousCrime`: Whether the offender committed any crime before, categorical: 0= No, 1= Yes.\n",
    "* `Codefendants`: Number of co-defendants, numeric.\n",
    "* `NumberVictim`: Number of victims, numeric.\n",
    "* `WhiteVictim`, `HispanicVictim`, `BlackVictim`, `VictimOtherRace` `FemaleVictim`, `MaleVictim`: Number of victims with specified demographic features, numeric.\n",
    "* `LastStatement`: Last statement of offender, character.\n",
    "\n",
    "The [data file](https://github.com/learn-co-curriculum/dsc-hypothesis-testing-ent/blob/main/data/texas.csv) that we'll be using has the first 20 variables, i.e. we're excluding the `LastStatement` variable.\n",
    "\n",
    "*N.B.*: Note this data is from 1982 - 2017 and for that time period the data is exhaustive."
   ]
  },
  {
   "cell_type": "markdown",
   "metadata": {
    "id": "Ob72RcZhdoB-"
   },
   "source": [
    "## Preliminary Steps\n",
    "\n",
    "As usual, begin with importing the Python libraries that you will need. Then bring in the data and explore it.\n",
    "\n",
    "You'll likely want to use `scipy.stats`. If you want to use `confidence_interval(confidence_level=0.95)` with [`scipy.stats.ttest_ind`](https://docs.scipy.org/doc/scipy/reference/generated/scipy.stats.ttest_ind.html), then you need to have `scipy` version 1.11.0."
   ]
  },
  {
   "cell_type": "code",
   "execution_count": 2,
   "metadata": {
    "id": "sWHwHWlj8wOg"
   },
   "outputs": [
    {
     "name": "stdout",
     "output_type": "stream",
     "text": [
      "Collecting scipy==1.11.0\n",
      "  Downloading scipy-1.11.0-cp310-cp310-macosx_12_0_arm64.whl (29.6 MB)\n",
      "\u001b[2K     \u001b[90m━━━━━━━━━━━━━━━━━━━━━━━━━━━━━━━━━━━━━━━━\u001b[0m \u001b[32m29.6/29.6 MB\u001b[0m \u001b[31m16.5 MB/s\u001b[0m eta \u001b[36m0:00:00\u001b[0m00:01\u001b[0m00:01\u001b[0m\n",
      "\u001b[?25hRequirement already satisfied: numpy<1.28.0,>=1.21.6 in /Users/bppurdy/anaconda3/lib/python3.10/site-packages (from scipy==1.11.0) (1.23.5)\n",
      "\u001b[33mWARNING: The candidate selected for download or install is a yanked version: 'scipy' candidate (version 1.11.0 at https://files.pythonhosted.org/packages/72/08/f9920eeedf4953a631d0087a6e80bb2e091cf51e6efb55ec638d838b4e92/scipy-1.11.0-cp310-cp310-macosx_12_0_arm64.whl (from https://pypi.org/simple/scipy/) (requires-python:<3.13,>=3.9))\n",
      "Reason for being yanked: License Violation\u001b[0m\u001b[33m\n",
      "\u001b[0mInstalling collected packages: scipy\n",
      "  Attempting uninstall: scipy\n",
      "    Found existing installation: scipy 1.10.0\n",
      "    Uninstalling scipy-1.10.0:\n",
      "      Successfully uninstalled scipy-1.10.0\n",
      "\u001b[31mERROR: pip's dependency resolver does not currently take into account all the packages that are installed. This behaviour is the source of the following dependency conflicts.\n",
      "gensim 4.3.0 requires FuzzyTM>=0.4.0, which is not installed.\u001b[0m\u001b[31m\n",
      "\u001b[0mSuccessfully installed scipy-1.11.0\n"
     ]
    }
   ],
   "source": [
    "\n",
    "# Only do this if necessary\n",
    "! pip install scipy==1.11.0"
   ]
  },
  {
   "cell_type": "code",
   "execution_count": 4,
   "metadata": {
    "id": "pmDB4q8y3VsE"
   },
   "outputs": [
    {
     "data": {
      "text/plain": [
       "'1.11.1'"
      ]
     },
     "execution_count": 4,
     "metadata": {},
     "output_type": "execute_result"
    }
   ],
   "source": [
    "\n",
    "__requires__= 'scipy==11.1.0'\n",
    "\n",
    "# Bring in germane libraries\n",
    "import pandas as pd\n",
    "import matplotlib.pyplot as plt\n",
    "import scipy\n",
    "import scipy.stats as stats\n",
    "\n",
    "scipy.__version__"
   ]
  },
  {
   "cell_type": "code",
   "execution_count": 7,
   "metadata": {
    "id": "R2cLU3rcdoB9"
   },
   "outputs": [],
   "source": [
    "\n",
    "# Data\n",
    "df = pd.read_csv('data/texas.csv', index_col=0)"
   ]
  },
  {
   "cell_type": "markdown",
   "metadata": {
    "id": "I63AnyI7j1wJ"
   },
   "source": [
    "Now that you have brought in the data. Consider these or similar commands to get a feel for the data.\n",
    "* `.info()`\n",
    "* `.head()`\n",
    "\n"
   ]
  },
  {
   "cell_type": "code",
   "execution_count": 8,
   "metadata": {
    "colab": {
     "base_uri": "https://localhost:8080/"
    },
    "id": "vkvQRA3BkHlP",
    "outputId": "4ae884a7-ca7a-47f8-eaca-c34a7f610015"
   },
   "outputs": [
    {
     "name": "stdout",
     "output_type": "stream",
     "text": [
      "<class 'pandas.core.frame.DataFrame'>\n",
      "Index: 383 entries, Cardenas to Brooks, Jr.\n",
      "Data columns (total 17 columns):\n",
      " #   Column              Non-Null Count  Dtype \n",
      "---  ------              --------------  ----- \n",
      " 0   FirstName           383 non-null    object\n",
      " 1   TDCJNumber          383 non-null    int64 \n",
      " 2   Age                 383 non-null    int64 \n",
      " 3   Race                383 non-null    object\n",
      " 4   CountyOfConviction  383 non-null    object\n",
      " 5   AgeWhenReceived     383 non-null    int64 \n",
      " 6   EducationLevel      383 non-null    int64 \n",
      " 7   NativeCounty        383 non-null    int64 \n",
      " 8   PreviousCrime       383 non-null    int64 \n",
      " 9   Codefendants        383 non-null    int64 \n",
      " 10  NumberVictim        383 non-null    int64 \n",
      " 11  WhiteVictim         383 non-null    int64 \n",
      " 12  HispanicVictim      383 non-null    int64 \n",
      " 13  BlackVictim         383 non-null    int64 \n",
      " 14  VictimOther.Races   383 non-null    int64 \n",
      " 15  FemaleVictim        383 non-null    int64 \n",
      " 16  MaleVictim          383 non-null    int64 \n",
      "dtypes: int64(14), object(3)\n",
      "memory usage: 53.9+ KB\n"
     ]
    }
   ],
   "source": [
    "\n",
    "# info\n",
    "df.info()"
   ]
  },
  {
   "cell_type": "code",
   "execution_count": 9,
   "metadata": {
    "colab": {
     "base_uri": "https://localhost:8080/",
     "height": 302
    },
    "id": "crurIpEekzdz",
    "outputId": "e8017062-f095-47ea-a45c-ee8b82ee3397"
   },
   "outputs": [
    {
     "data": {
      "text/html": [
       "<div>\n",
       "<style scoped>\n",
       "    .dataframe tbody tr th:only-of-type {\n",
       "        vertical-align: middle;\n",
       "    }\n",
       "\n",
       "    .dataframe tbody tr th {\n",
       "        vertical-align: top;\n",
       "    }\n",
       "\n",
       "    .dataframe thead th {\n",
       "        text-align: right;\n",
       "    }\n",
       "</style>\n",
       "<table border=\"1\" class=\"dataframe\">\n",
       "  <thead>\n",
       "    <tr style=\"text-align: right;\">\n",
       "      <th></th>\n",
       "      <th>FirstName</th>\n",
       "      <th>TDCJNumber</th>\n",
       "      <th>Age</th>\n",
       "      <th>Race</th>\n",
       "      <th>CountyOfConviction</th>\n",
       "      <th>AgeWhenReceived</th>\n",
       "      <th>EducationLevel</th>\n",
       "      <th>NativeCounty</th>\n",
       "      <th>PreviousCrime</th>\n",
       "      <th>Codefendants</th>\n",
       "      <th>NumberVictim</th>\n",
       "      <th>WhiteVictim</th>\n",
       "      <th>HispanicVictim</th>\n",
       "      <th>BlackVictim</th>\n",
       "      <th>VictimOther.Races</th>\n",
       "      <th>FemaleVictim</th>\n",
       "      <th>MaleVictim</th>\n",
       "    </tr>\n",
       "    <tr>\n",
       "      <th>LastName</th>\n",
       "      <th></th>\n",
       "      <th></th>\n",
       "      <th></th>\n",
       "      <th></th>\n",
       "      <th></th>\n",
       "      <th></th>\n",
       "      <th></th>\n",
       "      <th></th>\n",
       "      <th></th>\n",
       "      <th></th>\n",
       "      <th></th>\n",
       "      <th></th>\n",
       "      <th></th>\n",
       "      <th></th>\n",
       "      <th></th>\n",
       "      <th></th>\n",
       "      <th></th>\n",
       "    </tr>\n",
       "  </thead>\n",
       "  <tbody>\n",
       "    <tr>\n",
       "      <th>Cardenas</th>\n",
       "      <td>Ruben</td>\n",
       "      <td>999275</td>\n",
       "      <td>47</td>\n",
       "      <td>Hispanic</td>\n",
       "      <td>Hidalgo</td>\n",
       "      <td>28</td>\n",
       "      <td>11</td>\n",
       "      <td>1</td>\n",
       "      <td>0</td>\n",
       "      <td>0</td>\n",
       "      <td>1</td>\n",
       "      <td>0</td>\n",
       "      <td>1</td>\n",
       "      <td>0</td>\n",
       "      <td>0</td>\n",
       "      <td>1</td>\n",
       "      <td>0</td>\n",
       "    </tr>\n",
       "    <tr>\n",
       "      <th>Pruett</th>\n",
       "      <td>Robert</td>\n",
       "      <td>999411</td>\n",
       "      <td>38</td>\n",
       "      <td>White</td>\n",
       "      <td>Bee</td>\n",
       "      <td>22</td>\n",
       "      <td>8</td>\n",
       "      <td>0</td>\n",
       "      <td>1</td>\n",
       "      <td>0</td>\n",
       "      <td>1</td>\n",
       "      <td>1</td>\n",
       "      <td>0</td>\n",
       "      <td>0</td>\n",
       "      <td>0</td>\n",
       "      <td>0</td>\n",
       "      <td>1</td>\n",
       "    </tr>\n",
       "    <tr>\n",
       "      <th>Preyor</th>\n",
       "      <td>Taichin</td>\n",
       "      <td>999494</td>\n",
       "      <td>46</td>\n",
       "      <td>Black</td>\n",
       "      <td>Bexar</td>\n",
       "      <td>34</td>\n",
       "      <td>10</td>\n",
       "      <td>0</td>\n",
       "      <td>0</td>\n",
       "      <td>0</td>\n",
       "      <td>1</td>\n",
       "      <td>1</td>\n",
       "      <td>0</td>\n",
       "      <td>0</td>\n",
       "      <td>0</td>\n",
       "      <td>0</td>\n",
       "      <td>1</td>\n",
       "    </tr>\n",
       "    <tr>\n",
       "      <th>Bigby</th>\n",
       "      <td>James</td>\n",
       "      <td>997</td>\n",
       "      <td>61</td>\n",
       "      <td>White</td>\n",
       "      <td>Tarrant</td>\n",
       "      <td>36</td>\n",
       "      <td>9</td>\n",
       "      <td>0</td>\n",
       "      <td>1</td>\n",
       "      <td>0</td>\n",
       "      <td>1</td>\n",
       "      <td>1</td>\n",
       "      <td>0</td>\n",
       "      <td>0</td>\n",
       "      <td>0</td>\n",
       "      <td>0</td>\n",
       "      <td>1</td>\n",
       "    </tr>\n",
       "    <tr>\n",
       "      <th>Ruiz</th>\n",
       "      <td>Rolando</td>\n",
       "      <td>999145</td>\n",
       "      <td>44</td>\n",
       "      <td>Hispanic</td>\n",
       "      <td>Bexar</td>\n",
       "      <td>22</td>\n",
       "      <td>10</td>\n",
       "      <td>0</td>\n",
       "      <td>1</td>\n",
       "      <td>4</td>\n",
       "      <td>1</td>\n",
       "      <td>0</td>\n",
       "      <td>1</td>\n",
       "      <td>0</td>\n",
       "      <td>0</td>\n",
       "      <td>1</td>\n",
       "      <td>0</td>\n",
       "    </tr>\n",
       "  </tbody>\n",
       "</table>\n",
       "</div>"
      ],
      "text/plain": [
       "         FirstName  TDCJNumber  Age      Race CountyOfConviction  \\\n",
       "LastName                                                           \n",
       "Cardenas     Ruben      999275   47  Hispanic            Hidalgo   \n",
       "Pruett      Robert      999411   38     White                Bee   \n",
       "Preyor     Taichin      999494   46     Black              Bexar   \n",
       "Bigby        James         997   61     White            Tarrant   \n",
       "Ruiz       Rolando      999145   44  Hispanic              Bexar   \n",
       "\n",
       "          AgeWhenReceived  EducationLevel  NativeCounty  PreviousCrime  \\\n",
       "LastName                                                                 \n",
       "Cardenas               28              11             1              0   \n",
       "Pruett                 22               8             0              1   \n",
       "Preyor                 34              10             0              0   \n",
       "Bigby                  36               9             0              1   \n",
       "Ruiz                   22              10             0              1   \n",
       "\n",
       "          Codefendants  NumberVictim  WhiteVictim  HispanicVictim  \\\n",
       "LastName                                                            \n",
       "Cardenas             0             1            0               1   \n",
       "Pruett               0             1            1               0   \n",
       "Preyor               0             1            1               0   \n",
       "Bigby                0             1            1               0   \n",
       "Ruiz                 4             1            0               1   \n",
       "\n",
       "          BlackVictim  VictimOther.Races  FemaleVictim  MaleVictim  \n",
       "LastName                                                            \n",
       "Cardenas            0                  0             1           0  \n",
       "Pruett              0                  0             0           1  \n",
       "Preyor              0                  0             0           1  \n",
       "Bigby               0                  0             0           1  \n",
       "Ruiz                0                  0             1           0  "
      ]
     },
     "execution_count": 9,
     "metadata": {},
     "output_type": "execute_result"
    }
   ],
   "source": [
    "\n",
    "# head\n",
    "df.head()"
   ]
  },
  {
   "cell_type": "markdown",
   "metadata": {
    "id": "mzP09_zBdoB_"
   },
   "source": [
    "### Preprocessing"
   ]
  },
  {
   "cell_type": "markdown",
   "metadata": {
    "id": "tm9XD1lWxBXW"
   },
   "source": [
    "While there are a number of preprocessing steps you may choose to make, at the very least you should do the following.\n",
    "\n",
    "Based on the data dictionary and how the data is interpreted by Numpy, convert any non-numeric data into the proper form. Verify that your code worked correctly."
   ]
  },
  {
   "cell_type": "code",
   "execution_count": 10,
   "metadata": {
    "id": "zOU2yTTBdoB_"
   },
   "outputs": [],
   "source": [
    "\n",
    "# Use the map function to change the two variables\n",
    "df['NativeCounty'] = df['NativeCounty'].map({1: 'Yes', 0: 'No'})\n",
    "df['PreviousCrime'] = df['PreviousCrime'].map({1: 'Yes', 0: 'No'})"
   ]
  },
  {
   "cell_type": "code",
   "execution_count": null,
   "metadata": {
    "colab": {
     "base_uri": "https://localhost:8080/",
     "height": 302
    },
    "id": "wNWgeYFYp3wg",
    "outputId": "08299ba1-a4db-4a88-ed71-a30eaa05b75f"
   },
   "outputs": [],
   "source": [
    "\n",
    "# Verify this was done correctly\n",
    "# head\n",
    "df.head()"
   ]
  },
  {
   "cell_type": "code",
   "execution_count": null,
   "metadata": {
    "colab": {
     "base_uri": "https://localhost:8080/"
    },
    "id": "89Uh5cuTp9T4",
    "outputId": "3d843fbd-b1cf-4537-cd1b-05ba160ec937"
   },
   "outputs": [],
   "source": [
    "\n",
    "# Verify this was done correctly\n",
    "# info\n",
    "df.info()"
   ]
  },
  {
   "cell_type": "markdown",
   "metadata": {
    "id": "0YKRMML9sMZd"
   },
   "source": [
    "### EDA\n",
    "\n",
    "Now perform Exploratory Data Analysis of at least three variables of your choosing. You should look at both descriptive statistics and visualizations."
   ]
  },
  {
   "cell_type": "code",
   "execution_count": 11,
   "metadata": {
    "colab": {
     "base_uri": "https://localhost:8080/",
     "height": 364
    },
    "id": "6ywarJPosbIm",
    "outputId": "104653ae-4443-404a-c6b9-a15956928e9f"
   },
   "outputs": [
    {
     "data": {
      "text/html": [
       "<div>\n",
       "<style scoped>\n",
       "    .dataframe tbody tr th:only-of-type {\n",
       "        vertical-align: middle;\n",
       "    }\n",
       "\n",
       "    .dataframe tbody tr th {\n",
       "        vertical-align: top;\n",
       "    }\n",
       "\n",
       "    .dataframe thead th {\n",
       "        text-align: right;\n",
       "    }\n",
       "</style>\n",
       "<table border=\"1\" class=\"dataframe\">\n",
       "  <thead>\n",
       "    <tr style=\"text-align: right;\">\n",
       "      <th></th>\n",
       "      <th>TDCJNumber</th>\n",
       "      <th>Age</th>\n",
       "      <th>AgeWhenReceived</th>\n",
       "      <th>EducationLevel</th>\n",
       "      <th>Codefendants</th>\n",
       "      <th>NumberVictim</th>\n",
       "      <th>WhiteVictim</th>\n",
       "      <th>HispanicVictim</th>\n",
       "      <th>BlackVictim</th>\n",
       "      <th>VictimOther.Races</th>\n",
       "      <th>FemaleVictim</th>\n",
       "      <th>MaleVictim</th>\n",
       "    </tr>\n",
       "  </thead>\n",
       "  <tbody>\n",
       "    <tr>\n",
       "      <th>count</th>\n",
       "      <td>383.000000</td>\n",
       "      <td>383.000000</td>\n",
       "      <td>383.000000</td>\n",
       "      <td>383.000000</td>\n",
       "      <td>383.000000</td>\n",
       "      <td>383.000000</td>\n",
       "      <td>383.000000</td>\n",
       "      <td>383.000000</td>\n",
       "      <td>383.00000</td>\n",
       "      <td>383.000000</td>\n",
       "      <td>383.000000</td>\n",
       "      <td>383.000000</td>\n",
       "    </tr>\n",
       "    <tr>\n",
       "      <th>mean</th>\n",
       "      <td>579540.853786</td>\n",
       "      <td>39.373368</td>\n",
       "      <td>28.503916</td>\n",
       "      <td>10.182768</td>\n",
       "      <td>0.814621</td>\n",
       "      <td>1.394256</td>\n",
       "      <td>0.916449</td>\n",
       "      <td>0.248042</td>\n",
       "      <td>0.21671</td>\n",
       "      <td>0.026110</td>\n",
       "      <td>0.689295</td>\n",
       "      <td>0.720627</td>\n",
       "    </tr>\n",
       "    <tr>\n",
       "      <th>std</th>\n",
       "      <td>493478.236004</td>\n",
       "      <td>8.653542</td>\n",
       "      <td>8.181793</td>\n",
       "      <td>2.071501</td>\n",
       "      <td>1.296227</td>\n",
       "      <td>0.761418</td>\n",
       "      <td>0.842780</td>\n",
       "      <td>0.604165</td>\n",
       "      <td>0.65325</td>\n",
       "      <td>0.215492</td>\n",
       "      <td>0.775991</td>\n",
       "      <td>0.721958</td>\n",
       "    </tr>\n",
       "    <tr>\n",
       "      <th>min</th>\n",
       "      <td>511.000000</td>\n",
       "      <td>24.000000</td>\n",
       "      <td>17.000000</td>\n",
       "      <td>0.000000</td>\n",
       "      <td>0.000000</td>\n",
       "      <td>0.000000</td>\n",
       "      <td>0.000000</td>\n",
       "      <td>0.000000</td>\n",
       "      <td>0.00000</td>\n",
       "      <td>0.000000</td>\n",
       "      <td>0.000000</td>\n",
       "      <td>0.000000</td>\n",
       "    </tr>\n",
       "    <tr>\n",
       "      <th>25%</th>\n",
       "      <td>873.000000</td>\n",
       "      <td>33.000000</td>\n",
       "      <td>22.000000</td>\n",
       "      <td>9.000000</td>\n",
       "      <td>0.000000</td>\n",
       "      <td>1.000000</td>\n",
       "      <td>0.000000</td>\n",
       "      <td>0.000000</td>\n",
       "      <td>0.00000</td>\n",
       "      <td>0.000000</td>\n",
       "      <td>0.000000</td>\n",
       "      <td>0.000000</td>\n",
       "    </tr>\n",
       "    <tr>\n",
       "      <th>50%</th>\n",
       "      <td>999080.000000</td>\n",
       "      <td>38.000000</td>\n",
       "      <td>26.000000</td>\n",
       "      <td>10.000000</td>\n",
       "      <td>0.000000</td>\n",
       "      <td>1.000000</td>\n",
       "      <td>1.000000</td>\n",
       "      <td>0.000000</td>\n",
       "      <td>0.00000</td>\n",
       "      <td>0.000000</td>\n",
       "      <td>1.000000</td>\n",
       "      <td>1.000000</td>\n",
       "    </tr>\n",
       "    <tr>\n",
       "      <th>75%</th>\n",
       "      <td>999265.500000</td>\n",
       "      <td>44.000000</td>\n",
       "      <td>33.500000</td>\n",
       "      <td>12.000000</td>\n",
       "      <td>1.000000</td>\n",
       "      <td>2.000000</td>\n",
       "      <td>1.000000</td>\n",
       "      <td>0.000000</td>\n",
       "      <td>0.00000</td>\n",
       "      <td>0.000000</td>\n",
       "      <td>1.000000</td>\n",
       "      <td>1.000000</td>\n",
       "    </tr>\n",
       "    <tr>\n",
       "      <th>max</th>\n",
       "      <td>999552.000000</td>\n",
       "      <td>67.000000</td>\n",
       "      <td>57.000000</td>\n",
       "      <td>16.000000</td>\n",
       "      <td>13.000000</td>\n",
       "      <td>6.000000</td>\n",
       "      <td>5.000000</td>\n",
       "      <td>4.000000</td>\n",
       "      <td>6.00000</td>\n",
       "      <td>3.000000</td>\n",
       "      <td>5.000000</td>\n",
       "      <td>4.000000</td>\n",
       "    </tr>\n",
       "  </tbody>\n",
       "</table>\n",
       "</div>"
      ],
      "text/plain": [
       "          TDCJNumber         Age  AgeWhenReceived  EducationLevel  \\\n",
       "count     383.000000  383.000000       383.000000      383.000000   \n",
       "mean   579540.853786   39.373368        28.503916       10.182768   \n",
       "std    493478.236004    8.653542         8.181793        2.071501   \n",
       "min       511.000000   24.000000        17.000000        0.000000   \n",
       "25%       873.000000   33.000000        22.000000        9.000000   \n",
       "50%    999080.000000   38.000000        26.000000       10.000000   \n",
       "75%    999265.500000   44.000000        33.500000       12.000000   \n",
       "max    999552.000000   67.000000        57.000000       16.000000   \n",
       "\n",
       "       Codefendants  NumberVictim  WhiteVictim  HispanicVictim  BlackVictim  \\\n",
       "count    383.000000    383.000000   383.000000      383.000000    383.00000   \n",
       "mean       0.814621      1.394256     0.916449        0.248042      0.21671   \n",
       "std        1.296227      0.761418     0.842780        0.604165      0.65325   \n",
       "min        0.000000      0.000000     0.000000        0.000000      0.00000   \n",
       "25%        0.000000      1.000000     0.000000        0.000000      0.00000   \n",
       "50%        0.000000      1.000000     1.000000        0.000000      0.00000   \n",
       "75%        1.000000      2.000000     1.000000        0.000000      0.00000   \n",
       "max       13.000000      6.000000     5.000000        4.000000      6.00000   \n",
       "\n",
       "       VictimOther.Races  FemaleVictim  MaleVictim  \n",
       "count         383.000000    383.000000  383.000000  \n",
       "mean            0.026110      0.689295    0.720627  \n",
       "std             0.215492      0.775991    0.721958  \n",
       "min             0.000000      0.000000    0.000000  \n",
       "25%             0.000000      0.000000    0.000000  \n",
       "50%             0.000000      1.000000    1.000000  \n",
       "75%             0.000000      1.000000    1.000000  \n",
       "max             3.000000      5.000000    4.000000  "
      ]
     },
     "execution_count": 11,
     "metadata": {},
     "output_type": "execute_result"
    }
   ],
   "source": [
    "\n",
    "# EDA code sample\n",
    "# describe\n",
    "\n",
    "df.describe()"
   ]
  },
  {
   "cell_type": "code",
   "execution_count": 12,
   "metadata": {
    "colab": {
     "base_uri": "https://localhost:8080/"
    },
    "id": "pQmsV_C1urzy",
    "outputId": "58a5262e-c7aa-41b5-b296-4e1de168c1e4"
   },
   "outputs": [
    {
     "data": {
      "text/plain": [
       "Race\n",
       "White       179\n",
       "Black       130\n",
       "Hispanic     73\n",
       "Other         1\n",
       "Name: count, dtype: int64"
      ]
     },
     "execution_count": 12,
     "metadata": {},
     "output_type": "execute_result"
    }
   ],
   "source": [
    "\n",
    "# EDA code sample\n",
    "# Count the number of each race\n",
    "\n",
    "raceCount = df['Race'].value_counts()\n",
    "raceCount"
   ]
  },
  {
   "cell_type": "code",
   "execution_count": 13,
   "metadata": {
    "colab": {
     "base_uri": "https://localhost:8080/",
     "height": 484
    },
    "id": "a3GT1AzYwaIJ",
    "outputId": "c79af886-d4d1-4e30-a1b5-928fc19fef90"
   },
   "outputs": [
    {
     "data": {
      "text/plain": [
       "(array([28., 66., 65., 89., 48., 36., 25., 13., 10.,  3.]),\n",
       " array([24. , 28.3, 32.6, 36.9, 41.2, 45.5, 49.8, 54.1, 58.4, 62.7, 67. ]),\n",
       " <BarContainer object of 10 artists>)"
      ]
     },
     "execution_count": 13,
     "metadata": {},
     "output_type": "execute_result"
    },
    {
     "data": {
      "image/png": "[encoded data removed]",
      "text/plain": [
       "<Figure size 640x480 with 1 Axes>"
      ]
     },
     "metadata": {},
     "output_type": "display_data"
    }
   ],
   "source": [
    "\n",
    "# EDA code sample\n",
    "# Plot age\n",
    "\n",
    "plt.hist(df.Age)"
   ]
  },
  {
   "cell_type": "markdown",
   "metadata": {
    "id": "IZuCqdl0zCZy"
   },
   "source": [
    "## Statistical Inference"
   ]
  },
  {
   "cell_type": "markdown",
   "metadata": {
    "id": "1Dq2fGxM0dnU"
   },
   "source": [
    "### One mean"
   ]
  },
  {
   "cell_type": "markdown",
   "metadata": {
    "id": "soyonlcH0ev-"
   },
   "source": [
    "Now pick a variable that you can perform statistical inference on a single sample mean using the t-distribution."
   ]
  },
  {
   "cell_type": "markdown",
   "metadata": {
    "id": "87GfQFt3QjEy"
   },
   "source": [
    "In the code block below please respond to all of the following (commented out):\n",
    "\n",
    "*   What is the variable you chose?\n",
    "*   How do you know it is appropriate for statistical inference on a single mean using the t-distribution?\n",
    "*   You'll be asked to contruct and interpret a confidence interval. What is the level of confidence that you'll pick?\n",
    "*   You'll be asked to perform a hypothesis test.\n",
    "  *   What are the null and alternative hypotheses?\n",
    "  *   What is the level of significance?\n",
    "\n"
   ]
  },
  {
   "cell_type": "code",
   "execution_count": null,
   "metadata": {
    "id": "F7Nkbm1_SI5M"
   },
   "outputs": [],
   "source": [
    "\n",
    "# Responses to questions\n",
    "\n",
    "# Response snippet: Education level with the null value at 0."
   ]
  },
  {
   "cell_type": "markdown",
   "metadata": {
    "id": "h1o5o7cITLe6"
   },
   "source": [
    "#### Confidence Interval"
   ]
  },
  {
   "cell_type": "markdown",
   "metadata": {
    "id": "fnG0w6QeTYD1"
   },
   "source": [
    "Now construct a confidence interval for your chosen variable at the level of confidence you chose above."
   ]
  },
  {
   "cell_type": "code",
   "execution_count": 14,
   "metadata": {
    "colab": {
     "base_uri": "https://localhost:8080/"
    },
    "id": "LeOuI5pITmwM",
    "outputId": "1547c853-0033-4986-d6a0-43d3576b4a2e"
   },
   "outputs": [
    {
     "data": {
      "text/plain": [
       "ConfidenceInterval(low=9.97464849873312, high=10.390886749308656)"
      ]
     },
     "execution_count": 14,
     "metadata": {},
     "output_type": "execute_result"
    }
   ],
   "source": [
    "\n",
    "# Construct the confidence interval\n",
    "res1 = stats.ttest_1samp(df.EducationLevel, popmean=0)\n",
    "res1.confidence_interval(confidence_level=0.95)"
   ]
  },
  {
   "cell_type": "markdown",
   "metadata": {
    "id": "emTNtBqvTqh3"
   },
   "source": [
    "Interpret the confidence interval in the code block below (commented out)."
   ]
  },
  {
   "cell_type": "code",
   "execution_count": null,
   "metadata": {
    "id": "2Bzz2cBcT6PV"
   },
   "outputs": [],
   "source": [
    "\n",
    "# Interpretation"
   ]
  },
  {
   "cell_type": "markdown",
   "metadata": {
    "id": "VGFky-GaT_Om"
   },
   "source": [
    "#### Hypothesis Test"
   ]
  },
  {
   "cell_type": "markdown",
   "metadata": {
    "id": "C0l8ylVUUW9F"
   },
   "source": [
    "Now perform a hypothesis test for your chosen variable at the level of significance you chose above."
   ]
  },
  {
   "cell_type": "code",
   "execution_count": 15,
   "metadata": {
    "colab": {
     "base_uri": "https://localhost:8080/"
    },
    "id": "rQ7qbMrrVNDm",
    "outputId": "c73b0131-879a-4568-ff73-6ee21874e1cb"
   },
   "outputs": [
    {
     "data": {
      "text/plain": [
       "TtestResult(statistic=1.7266866517489512, pvalue=0.08503239641944645, df=382)"
      ]
     },
     "execution_count": 15,
     "metadata": {},
     "output_type": "execute_result"
    }
   ],
   "source": [
    "\n",
    "# Perform the hypothesis test\n",
    "\n",
    "res2 = stats.ttest_1samp(df.EducationLevel, popmean=10)\n",
    "res2"
   ]
  },
  {
   "cell_type": "markdown",
   "metadata": {
    "id": "ZD2k0txIVX3y"
   },
   "source": [
    "Draw the appropriate conclusion for the hypothesis test and justify your answer in the code block below (commented out)."
   ]
  },
  {
   "cell_type": "code",
   "execution_count": null,
   "metadata": {
    "id": "8r7OoGfmVseA"
   },
   "outputs": [],
   "source": [
    "\n",
    "# Conclusion"
   ]
  },
  {
   "cell_type": "markdown",
   "metadata": {
    "id": "VnIXJUgCSH3l"
   },
   "source": [
    "### Two means"
   ]
  },
  {
   "cell_type": "markdown",
   "metadata": {
    "id": "IUlz7BvxSM5Q"
   },
   "source": [
    "Now pick a variable that you can perform statistical inference on two (independent) sample means using the t-distribution."
   ]
  },
  {
   "cell_type": "markdown",
   "metadata": {
    "id": "_PXV36ayTBJK"
   },
   "source": [
    "In the code block below please respond to all of the following (commented out):\n",
    "\n",
    "*   What are the variables you chose?\n",
    "*   How do you know it is appropriate for statistical inference on two (independent)means using the t-distribution?\n",
    "*   You'll be asked to contruct and interpret a confidence interval. What is the level of confidence that you'll pick?\n",
    "*   You'll be asked to perform a hypothesis test.\n",
    "  *   What are the null and alternative hypotheses?\n",
    "  *   What is the level of significance?"
   ]
  },
  {
   "cell_type": "code",
   "execution_count": 16,
   "metadata": {
    "id": "yEAyU3Q4WTRp"
   },
   "outputs": [],
   "source": [
    "\n",
    "# Responses to questions\n",
    "\n",
    "# Response snippet: Number of victims by previous crime (Yes or No)"
   ]
  },
  {
   "cell_type": "markdown",
   "metadata": {
    "id": "Pc3egPxSWTdE"
   },
   "source": [
    "#### Confidence Interval"
   ]
  },
  {
   "cell_type": "markdown",
   "metadata": {
    "id": "3MiDuELxWZ_T"
   },
   "source": [
    "Now construct a confidence interval for your chosen variables at the level of confidence you chose above."
   ]
  },
  {
   "cell_type": "code",
   "execution_count": 18,
   "metadata": {
    "colab": {
     "base_uri": "https://localhost:8080/"
    },
    "id": "-g1_OSomWexB",
    "outputId": "593645dd-e6b2-4679-9fb4-2b6f4b2474fa"
   },
   "outputs": [
    {
     "data": {
      "text/plain": [
       "ConfidenceInterval(low=-0.33541452290014306, high=-0.02988302796441797)"
      ]
     },
     "execution_count": 18,
     "metadata": {},
     "output_type": "execute_result"
    }
   ],
   "source": [
    "\n",
    "# Construct the confidence interval\n",
    "\n",
    "res3 = stats.ttest_ind(pc.NumberVictim, npc.NumberVictim, equal_var=False, nan_policy='omit')\n",
    "res3.confidence_interval(confidence_level=0.95)"
   ]
  },
  {
   "cell_type": "markdown",
   "metadata": {
    "id": "pPRD7akgWs1R"
   },
   "source": [
    "Interpret the confidence interval in the code block below (commented out)."
   ]
  },
  {
   "cell_type": "code",
   "execution_count": null,
   "metadata": {
    "id": "rKu1Jpo5Wvo8"
   },
   "outputs": [],
   "source": [
    "\n",
    "# Interpretation"
   ]
  },
  {
   "cell_type": "markdown",
   "metadata": {
    "id": "6DsuqsS9XEPN"
   },
   "source": [
    "#### Hypothesis Test"
   ]
  },
  {
   "cell_type": "markdown",
   "metadata": {
    "id": "UqEBwLsyXHfi"
   },
   "source": [
    "Now perform a hypothesis test for your chosen variable at the level of significance you chose above."
   ]
  },
  {
   "cell_type": "code",
   "execution_count": 19,
   "metadata": {
    "colab": {
     "base_uri": "https://localhost:8080/"
    },
    "id": "MGWw-zmJXLxO",
    "outputId": "5685bfef-62b5-457e-fdf8-1bc93efe2534"
   },
   "outputs": [
    {
     "data": {
      "text/plain": [
       "TtestResult(statistic=-2.35164706718915, pvalue=0.019254896396106745, df=343.4147873860235)"
      ]
     },
     "execution_count": 19,
     "metadata": {},
     "output_type": "execute_result"
    }
   ],
   "source": [
    "\n",
    "# Perform the hypothesis test\n",
    "\n",
    "res4 = stats.ttest_ind(pc.NumberVictim, npc.NumberVictim, equal_var=False, nan_policy='omit')\n",
    "res4"
   ]
  },
  {
   "cell_type": "markdown",
   "metadata": {
    "id": "AdN0_obgXQlD"
   },
   "source": [
    "Draw the appropriate conclusion for the hypothesis test and justify your answer in the code block below (commented out)."
   ]
  },
  {
   "cell_type": "code",
   "execution_count": null,
   "metadata": {
    "id": "pGgMl_a-XRGo"
   },
   "outputs": [],
   "source": [
    "\n",
    "# Conclusion"
   ]
  },
  {
   "cell_type": "markdown",
   "metadata": {
    "id": "KiRJUYK3doCA"
   },
   "source": [
    "## Summary"
   ]
  },
  {
   "cell_type": "markdown",
   "metadata": {
    "id": "6x2NdSafXYsl"
   },
   "source": [
    "Using a multivariate data set, you were able to pick variables to perform one and two sample t confidence intervals and t-tests."
   ]
  }
 ],
 "metadata": {
  "colab": {
   "provenance": []
  },
  "kernelspec": {
   "display_name": "Python 3 (ipykernel)",
   "language": "python",
   "name": "python3"
  },
  "language_info": {
   "codemirror_mode": {
    "name": "ipython",
    "version": 3
   },
   "file_extension": ".py",
   "mimetype": "text/x-python",
   "name": "python",
   "nbconvert_exporter": "python",
   "pygments_lexer": "ipython3",
   "version": "3.9.16"
  }
 },
 "nbformat": 4,
 "nbformat_minor": 1
}
