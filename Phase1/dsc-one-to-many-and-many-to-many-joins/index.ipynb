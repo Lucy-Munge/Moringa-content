{
 "cells": [
  {
   "cell_type": "markdown",
   "metadata": {},
   "source": [
    "# One-to-Many and Many-to-Many Joins\n",
    "\n",
    "## Introduction\n",
    "\n",
    "Previously, you learned about the typical case where one joins on a primary or foreign key. In this section, you'll explore other types of joins using one-to-many and many-to-many relationships!\n",
    "\n",
    "## Objectives\n",
    "\n",
    "You will be able to:\n",
    "\n",
    "* Explain one-to-many and many-to-many joins as well as implications for the size of query results\n",
    "* Query data using one-to-many and many-to-many joins\n",
    "\n",
    "## One-to-Many and Many-to-Many Relationships\n",
    "\n",
    "So far, you've seen a couple of different kinds of join statements: `LEFT JOIN` and `INNER JOIN` (aka, `JOIN`). Both of these refer to the way in which you would like to define your join based on the tables and their shared information. Another perspective on this is the number of matches between the tables based on your defined links with the keywords `ON` or `USING`.\n",
    "  \n",
    "You have also seen the typical case where one joins on a primary or foreign key. For example, when you join on `customerID` or `employeeID`, this value should be unique to that table. As such, your joins have been very similar to using a dictionary to find additional information associated with that record. In cases where there are multiple entries in either table for the field (column) you are joining on, you will similarly be given multiple rows in your resulting view, one for each of these entries.\n",
    "\n",
    "### Restaurants Case Study\n",
    "\n",
    "We'll start with this familiar ERD:\n",
    "\n",
    "<img src='images/Database-Schema.png' width=550>\n",
    "\n",
    "For example, let's say you have another table `restaurants` that has many columns including `name`, `city`, and `rating`. If you were to join this `restaurants` table with the offices table using the shared city column, you might get some unexpected behavior. That is, in the office table, there is only one office per city. However, because there will likely be more than one restaurant for each of these cities in your second table, you will get unique combinations of offices and restaurants from your join. If there are 513 restaurants for Boston in your restaurant table and 1 office for Boston, your joined table will have each of these 513 rows, one for each restaurant along with the one office.\n",
    "\n",
    "If you had 2 offices for Boston and 513 restaurants, your join would have 1026 rows for Boston; 513 for each restaurant along with the first office and 513 for each restaurant with the second office. Three offices in Boston would similarly produce 1539 rows; one for each unique combination of restaurants and offices. This is where you should be particularly careful of many to many joins as the resulting set size can explode drastically, potentially consuming vast amounts of memory and other resources.  \n",
    "\n",
    "## Connecting to the Database"
   ]
  },
  {
   "cell_type": "code",
   "execution_count": 1,
   "metadata": {},
   "outputs": [],
   "source": [
    "import sqlite3\n",
    "import pandas as pd"
   ]
  },
  {
   "cell_type": "code",
   "execution_count": 2,
   "metadata": {},
   "outputs": [],
   "source": [
    "conn = sqlite3.connect('data.sqlite')"
   ]
  },
  {
   "cell_type": "markdown",
   "metadata": {},
   "source": [
    "## One-to-One Relationships\n",
    "\n",
    "Sometimes, a `JOIN` does not increase the number of records at all. For example, in our database, each employee is only associated with one office. So if our original query included information about all employees with a `jobTitle` of \"Sales Rep\", then our joined query also added the city location of their offices, we would get the same number of results both times.\n",
    "\n",
    "### Sales Rep Employees"
   ]
  },
  {
   "cell_type": "code",
   "execution_count": 3,
   "metadata": {},
   "outputs": [
    {
     "name": "stdout",
     "output_type": "stream",
     "text": [
      "Number of results: 17\n"
     ]
    }
   ],
   "source": [
    "q = \"\"\"\n",
    "SELECT firstName, lastName, email\n",
    "FROM employees\n",
    "WHERE jobTitle = 'Sales Rep'\n",
    ";\n",
    "\"\"\"\n",
    "df = pd.read_sql(q, conn)\n",
    "print(\"Number of results:\", len(df))"
   ]
  },
  {
   "cell_type": "code",
   "execution_count": 4,
   "metadata": {},
   "outputs": [
    {
     "data": {
      "text/html": [
       "<div>\n",
       "<style scoped>\n",
       "    .dataframe tbody tr th:only-of-type {\n",
       "        vertical-align: middle;\n",
       "    }\n",
       "\n",
       "    .dataframe tbody tr th {\n",
       "        vertical-align: top;\n",
       "    }\n",
       "\n",
       "    .dataframe thead th {\n",
       "        text-align: right;\n",
       "    }\n",
       "</style>\n",
       "<table border=\"1\" class=\"dataframe\">\n",
       "  <thead>\n",
       "    <tr style=\"text-align: right;\">\n",
       "      <th></th>\n",
       "      <th>firstName</th>\n",
       "      <th>lastName</th>\n",
       "      <th>email</th>\n",
       "    </tr>\n",
       "  </thead>\n",
       "  <tbody>\n",
       "    <tr>\n",
       "      <th>0</th>\n",
       "      <td>Leslie</td>\n",
       "      <td>Jennings</td>\n",
       "      <td>ljennings@classicmodelcars.com</td>\n",
       "    </tr>\n",
       "    <tr>\n",
       "      <th>1</th>\n",
       "      <td>Leslie</td>\n",
       "      <td>Thompson</td>\n",
       "      <td>lthompson@classicmodelcars.com</td>\n",
       "    </tr>\n",
       "    <tr>\n",
       "      <th>2</th>\n",
       "      <td>Julie</td>\n",
       "      <td>Firrelli</td>\n",
       "      <td>jfirrelli@classicmodelcars.com</td>\n",
       "    </tr>\n",
       "    <tr>\n",
       "      <th>3</th>\n",
       "      <td>Steve</td>\n",
       "      <td>Patterson</td>\n",
       "      <td>spatterson@classicmodelcars.com</td>\n",
       "    </tr>\n",
       "    <tr>\n",
       "      <th>4</th>\n",
       "      <td>Foon Yue</td>\n",
       "      <td>Tseng</td>\n",
       "      <td>ftseng@classicmodelcars.com</td>\n",
       "    </tr>\n",
       "  </tbody>\n",
       "</table>\n",
       "</div>"
      ],
      "text/plain": [
       "  firstName   lastName                            email\n",
       "0    Leslie   Jennings   ljennings@classicmodelcars.com\n",
       "1    Leslie   Thompson   lthompson@classicmodelcars.com\n",
       "2     Julie   Firrelli   jfirrelli@classicmodelcars.com\n",
       "3     Steve  Patterson  spatterson@classicmodelcars.com\n",
       "4  Foon Yue      Tseng      ftseng@classicmodelcars.com"
      ]
     },
     "execution_count": 4,
     "metadata": {},
     "output_type": "execute_result"
    }
   ],
   "source": [
    "# Displaying only 5 for readability\n",
    "df.head()"
   ]
  },
  {
   "cell_type": "markdown",
   "metadata": {},
   "source": [
    "### Cities for Sales Rep Employees\n",
    "\n",
    "Now we'll join with the `offices` table in order to display the city name as well."
   ]
  },
  {
   "cell_type": "code",
   "execution_count": 5,
   "metadata": {},
   "outputs": [
    {
     "name": "stdout",
     "output_type": "stream",
     "text": [
      "Number of results: 17\n"
     ]
    }
   ],
   "source": [
    "q = \"\"\"\n",
    "SELECT firstName, lastName, email, city\n",
    "FROM employees\n",
    "JOIN offices\n",
    "    USING(officeCode)\n",
    "WHERE jobTitle = 'Sales Rep'\n",
    ";\n",
    "\"\"\"\n",
    "df = pd.read_sql(q, conn)\n",
    "print(\"Number of results:\", len(df))"
   ]
  },
  {
   "cell_type": "code",
   "execution_count": 6,
   "metadata": {},
   "outputs": [
    {
     "data": {
      "text/html": [
       "<div>\n",
       "<style scoped>\n",
       "    .dataframe tbody tr th:only-of-type {\n",
       "        vertical-align: middle;\n",
       "    }\n",
       "\n",
       "    .dataframe tbody tr th {\n",
       "        vertical-align: top;\n",
       "    }\n",
       "\n",
       "    .dataframe thead th {\n",
       "        text-align: right;\n",
       "    }\n",
       "</style>\n",
       "<table border=\"1\" class=\"dataframe\">\n",
       "  <thead>\n",
       "    <tr style=\"text-align: right;\">\n",
       "      <th></th>\n",
       "      <th>firstName</th>\n",
       "      <th>lastName</th>\n",
       "      <th>email</th>\n",
       "      <th>city</th>\n",
       "    </tr>\n",
       "  </thead>\n",
       "  <tbody>\n",
       "    <tr>\n",
       "      <th>0</th>\n",
       "      <td>Leslie</td>\n",
       "      <td>Jennings</td>\n",
       "      <td>ljennings@classicmodelcars.com</td>\n",
       "      <td>San Francisco</td>\n",
       "    </tr>\n",
       "    <tr>\n",
       "      <th>1</th>\n",
       "      <td>Leslie</td>\n",
       "      <td>Thompson</td>\n",
       "      <td>lthompson@classicmodelcars.com</td>\n",
       "      <td>San Francisco</td>\n",
       "    </tr>\n",
       "    <tr>\n",
       "      <th>2</th>\n",
       "      <td>Julie</td>\n",
       "      <td>Firrelli</td>\n",
       "      <td>jfirrelli@classicmodelcars.com</td>\n",
       "      <td>Boston</td>\n",
       "    </tr>\n",
       "    <tr>\n",
       "      <th>3</th>\n",
       "      <td>Steve</td>\n",
       "      <td>Patterson</td>\n",
       "      <td>spatterson@classicmodelcars.com</td>\n",
       "      <td>Boston</td>\n",
       "    </tr>\n",
       "    <tr>\n",
       "      <th>4</th>\n",
       "      <td>Foon Yue</td>\n",
       "      <td>Tseng</td>\n",
       "      <td>ftseng@classicmodelcars.com</td>\n",
       "      <td>NYC</td>\n",
       "    </tr>\n",
       "  </tbody>\n",
       "</table>\n",
       "</div>"
      ],
      "text/plain": [
       "  firstName   lastName                            email           city\n",
       "0    Leslie   Jennings   ljennings@classicmodelcars.com  San Francisco\n",
       "1    Leslie   Thompson   lthompson@classicmodelcars.com  San Francisco\n",
       "2     Julie   Firrelli   jfirrelli@classicmodelcars.com         Boston\n",
       "3     Steve  Patterson  spatterson@classicmodelcars.com         Boston\n",
       "4  Foon Yue      Tseng      ftseng@classicmodelcars.com            NYC"
      ]
     },
     "execution_count": 6,
     "metadata": {},
     "output_type": "execute_result"
    }
   ],
   "source": [
    "# Displaying only 5 for readability\n",
    "df.head()"
   ]
  },
  {
   "cell_type": "markdown",
   "metadata": {},
   "source": [
    "As you can see, we got the same number of results as the original query, we just have more data now."
   ]
  },
  {
   "cell_type": "markdown",
   "metadata": {},
   "source": [
    "## One-to-Many Relationships\n",
    "\n",
    "When there is a one-to-many relationship, the number of records will increase to match the number of records in the larger table.\n",
    "\n",
    "### Product Lines\n",
    "\n",
    "Let's start with selecting the product line name and text description for all product lines."
   ]
  },
  {
   "cell_type": "code",
   "execution_count": 7,
   "metadata": {},
   "outputs": [
    {
     "name": "stdout",
     "output_type": "stream",
     "text": [
      "Number of results: 7\n"
     ]
    }
   ],
   "source": [
    "q = \"\"\"\n",
    "SELECT productLine, textDescription\n",
    "FROM productlines\n",
    ";\n",
    "\"\"\"\n",
    "df = pd.read_sql(q, conn)\n",
    "print(\"Number of results:\", len(df))"
   ]
  },
  {
   "cell_type": "code",
   "execution_count": 8,
   "metadata": {},
   "outputs": [
    {
     "data": {
      "text/html": [
       "<div>\n",
       "<style scoped>\n",
       "    .dataframe tbody tr th:only-of-type {\n",
       "        vertical-align: middle;\n",
       "    }\n",
       "\n",
       "    .dataframe tbody tr th {\n",
       "        vertical-align: top;\n",
       "    }\n",
       "\n",
       "    .dataframe thead th {\n",
       "        text-align: right;\n",
       "    }\n",
       "</style>\n",
       "<table border=\"1\" class=\"dataframe\">\n",
       "  <thead>\n",
       "    <tr style=\"text-align: right;\">\n",
       "      <th></th>\n",
       "      <th>productLine</th>\n",
       "      <th>textDescription</th>\n",
       "    </tr>\n",
       "  </thead>\n",
       "  <tbody>\n",
       "    <tr>\n",
       "      <th>0</th>\n",
       "      <td>Classic Cars</td>\n",
       "      <td>Attention car enthusiasts: Make your wildest c...</td>\n",
       "    </tr>\n",
       "    <tr>\n",
       "      <th>1</th>\n",
       "      <td>Motorcycles</td>\n",
       "      <td>Our motorcycles are state of the art replicas ...</td>\n",
       "    </tr>\n",
       "    <tr>\n",
       "      <th>2</th>\n",
       "      <td>Planes</td>\n",
       "      <td>Unique, diecast airplane and helicopter replic...</td>\n",
       "    </tr>\n",
       "    <tr>\n",
       "      <th>3</th>\n",
       "      <td>Ships</td>\n",
       "      <td>The perfect holiday or anniversary gift for ex...</td>\n",
       "    </tr>\n",
       "    <tr>\n",
       "      <th>4</th>\n",
       "      <td>Trains</td>\n",
       "      <td>Model trains are a rewarding hobby for enthusi...</td>\n",
       "    </tr>\n",
       "    <tr>\n",
       "      <th>5</th>\n",
       "      <td>Trucks and Buses</td>\n",
       "      <td>The Truck and Bus models are realistic replica...</td>\n",
       "    </tr>\n",
       "    <tr>\n",
       "      <th>6</th>\n",
       "      <td>Vintage Cars</td>\n",
       "      <td>Our Vintage Car models realistically portray a...</td>\n",
       "    </tr>\n",
       "  </tbody>\n",
       "</table>\n",
       "</div>"
      ],
      "text/plain": [
       "        productLine                                    textDescription\n",
       "0      Classic Cars  Attention car enthusiasts: Make your wildest c...\n",
       "1       Motorcycles  Our motorcycles are state of the art replicas ...\n",
       "2            Planes  Unique, diecast airplane and helicopter replic...\n",
       "3             Ships  The perfect holiday or anniversary gift for ex...\n",
       "4            Trains  Model trains are a rewarding hobby for enthusi...\n",
       "5  Trucks and Buses  The Truck and Bus models are realistic replica...\n",
       "6      Vintage Cars  Our Vintage Car models realistically portray a..."
      ]
     },
     "execution_count": 8,
     "metadata": {},
     "output_type": "execute_result"
    }
   ],
   "source": [
    "df"
   ]
  },
  {
   "cell_type": "markdown",
   "metadata": {},
   "source": [
    "### Joining with Products\n",
    "\n",
    "Now let's join that table with the products table, and select the vendor and product description."
   ]
  },
  {
   "cell_type": "code",
   "execution_count": 9,
   "metadata": {},
   "outputs": [
    {
     "name": "stdout",
     "output_type": "stream",
     "text": [
      "Number of results: 110\n"
     ]
    }
   ],
   "source": [
    "q = \"\"\"\n",
    "SELECT productLine, textDescription, productVendor, productDescription\n",
    "FROM productlines\n",
    "JOIN products\n",
    "    USING(productLine)\n",
    ";\n",
    "\"\"\"\n",
    "df = pd.read_sql(q, conn)\n",
    "print(\"Number of results:\", len(df))"
   ]
  },
  {
   "cell_type": "code",
   "execution_count": 10,
   "metadata": {},
   "outputs": [
    {
     "data": {
      "text/html": [
       "<div>\n",
       "<style scoped>\n",
       "    .dataframe tbody tr th:only-of-type {\n",
       "        vertical-align: middle;\n",
       "    }\n",
       "\n",
       "    .dataframe tbody tr th {\n",
       "        vertical-align: top;\n",
       "    }\n",
       "\n",
       "    .dataframe thead th {\n",
       "        text-align: right;\n",
       "    }\n",
       "</style>\n",
       "<table border=\"1\" class=\"dataframe\">\n",
       "  <thead>\n",
       "    <tr style=\"text-align: right;\">\n",
       "      <th></th>\n",
       "      <th>productLine</th>\n",
       "      <th>textDescription</th>\n",
       "      <th>productVendor</th>\n",
       "      <th>productDescription</th>\n",
       "    </tr>\n",
       "  </thead>\n",
       "  <tbody>\n",
       "    <tr>\n",
       "      <th>0</th>\n",
       "      <td>Classic Cars</td>\n",
       "      <td>Attention car enthusiasts: Make your wildest c...</td>\n",
       "      <td>Autoart Studio Design</td>\n",
       "      <td>Hood, doors and trunk all open to reveal highl...</td>\n",
       "    </tr>\n",
       "    <tr>\n",
       "      <th>1</th>\n",
       "      <td>Classic Cars</td>\n",
       "      <td>Attention car enthusiasts: Make your wildest c...</td>\n",
       "      <td>Carousel DieCast Legends</td>\n",
       "      <td>Features include opening and closing doors. Co...</td>\n",
       "    </tr>\n",
       "    <tr>\n",
       "      <th>2</th>\n",
       "      <td>Classic Cars</td>\n",
       "      <td>Attention car enthusiasts: Make your wildest c...</td>\n",
       "      <td>Carousel DieCast Legends</td>\n",
       "      <td>The operating parts of this 1958 Chevy Corvett...</td>\n",
       "    </tr>\n",
       "    <tr>\n",
       "      <th>3</th>\n",
       "      <td>Classic Cars</td>\n",
       "      <td>Attention car enthusiasts: Make your wildest c...</td>\n",
       "      <td>Carousel DieCast Legends</td>\n",
       "      <td>This diecast model of the 1966 Shelby Cobra 42...</td>\n",
       "    </tr>\n",
       "    <tr>\n",
       "      <th>4</th>\n",
       "      <td>Classic Cars</td>\n",
       "      <td>Attention car enthusiasts: Make your wildest c...</td>\n",
       "      <td>Classic Metal Creations</td>\n",
       "      <td>1957 die cast Corvette Convertible in Roman Re...</td>\n",
       "    </tr>\n",
       "  </tbody>\n",
       "</table>\n",
       "</div>"
      ],
      "text/plain": [
       "    productLine                                    textDescription  \\\n",
       "0  Classic Cars  Attention car enthusiasts: Make your wildest c...   \n",
       "1  Classic Cars  Attention car enthusiasts: Make your wildest c...   \n",
       "2  Classic Cars  Attention car enthusiasts: Make your wildest c...   \n",
       "3  Classic Cars  Attention car enthusiasts: Make your wildest c...   \n",
       "4  Classic Cars  Attention car enthusiasts: Make your wildest c...   \n",
       "\n",
       "              productVendor                                 productDescription  \n",
       "0     Autoart Studio Design  Hood, doors and trunk all open to reveal highl...  \n",
       "1  Carousel DieCast Legends  Features include opening and closing doors. Co...  \n",
       "2  Carousel DieCast Legends  The operating parts of this 1958 Chevy Corvett...  \n",
       "3  Carousel DieCast Legends  This diecast model of the 1966 Shelby Cobra 42...  \n",
       "4   Classic Metal Creations  1957 die cast Corvette Convertible in Roman Re...  "
      ]
     },
     "execution_count": 10,
     "metadata": {},
     "output_type": "execute_result"
    }
   ],
   "source": [
    "# Displaying only 5 for readability\n",
    "df.head()"
   ]
  },
  {
   "cell_type": "markdown",
   "metadata": {},
   "source": [
    "As you can see, the number of records has increased significantly, because the same product line is now appearing multiple times in the results, once for each actual product."
   ]
  },
  {
   "cell_type": "markdown",
   "metadata": {},
   "source": [
    "## Many-to-Many Relationships\n",
    "\n",
    "A many-to-many join is as it sounds; there are multiple entries for the shared field in both tables. While somewhat contrived, we can see this through the example below, joining the offices and customers table based on the state field. For example, there are 2 offices in MA and 9 customers in MA. Joining the two tables by state will result in 18 rows associated with MA; one for each customer combined with the first office, and then another for each customer combined with the second option. This is not a particularly useful join without applying some additional aggregations or pivots, but can also demonstrate how a poorly written query can go wrong. For example, if there are a large number of occurrences in both tables, such as tens of thousands, then a many-to-many join could result in billions of resulting rows. Poorly conceived joins can cause a severe load to be put on the database, causing slow execution time and potentially even tying up database resources for other analysts who may be using the system."
   ]
  },
  {
   "cell_type": "markdown",
   "metadata": {},
   "source": [
    "### Just Offices"
   ]
  },
  {
   "cell_type": "code",
   "execution_count": 11,
   "metadata": {},
   "outputs": [
    {
     "name": "stdout",
     "output_type": "stream",
     "text": [
      "Number of results: 8\n"
     ]
    }
   ],
   "source": [
    "q = \"\"\"\n",
    "SELECT *\n",
    "FROM offices\n",
    ";\n",
    "\"\"\"\n",
    "\n",
    "df = pd.read_sql(q, conn)\n",
    "print('Number of results:', len(df))"
   ]
  },
  {
   "cell_type": "markdown",
   "metadata": {},
   "source": [
    "### Just Customers"
   ]
  },
  {
   "cell_type": "code",
   "execution_count": 12,
   "metadata": {},
   "outputs": [
    {
     "name": "stdout",
     "output_type": "stream",
     "text": [
      "Number of results: 122\n"
     ]
    }
   ],
   "source": [
    "q = \"\"\"\n",
    "SELECT *\n",
    "FROM customers\n",
    ";\n",
    "\"\"\"\n",
    "\n",
    "df = pd.read_sql(q, conn)\n",
    "print('Number of results:', len(df))"
   ]
  },
  {
   "cell_type": "markdown",
   "metadata": {},
   "source": [
    "### Joined Offices and Customers"
   ]
  },
  {
   "cell_type": "code",
   "execution_count": 13,
   "metadata": {},
   "outputs": [
    {
     "name": "stdout",
     "output_type": "stream",
     "text": [
      "Number of results: 254\n"
     ]
    }
   ],
   "source": [
    "q = \"\"\"\n",
    "SELECT *\n",
    "FROM offices\n",
    "JOIN customers\n",
    "    USING(state)\n",
    ";\n",
    "\"\"\"\n",
    "\n",
    "df = pd.read_sql(q, conn)\n",
    "print('Number of results:', len(df))"
   ]
  },
  {
   "cell_type": "code",
   "execution_count": 14,
   "metadata": {},
   "outputs": [
    {
     "data": {
      "text/html": [
       "<div>\n",
       "<style scoped>\n",
       "    .dataframe tbody tr th:only-of-type {\n",
       "        vertical-align: middle;\n",
       "    }\n",
       "\n",
       "    .dataframe tbody tr th {\n",
       "        vertical-align: top;\n",
       "    }\n",
       "\n",
       "    .dataframe thead th {\n",
       "        text-align: right;\n",
       "    }\n",
       "</style>\n",
       "<table border=\"1\" class=\"dataframe\">\n",
       "  <thead>\n",
       "    <tr style=\"text-align: right;\">\n",
       "      <th></th>\n",
       "      <th>officeCode</th>\n",
       "      <th>city</th>\n",
       "      <th>phone</th>\n",
       "      <th>addressLine1</th>\n",
       "      <th>addressLine2</th>\n",
       "      <th>state</th>\n",
       "      <th>country</th>\n",
       "      <th>postalCode</th>\n",
       "      <th>territory</th>\n",
       "      <th>customerNumber</th>\n",
       "      <th>...</th>\n",
       "      <th>contactLastName</th>\n",
       "      <th>contactFirstName</th>\n",
       "      <th>phone</th>\n",
       "      <th>addressLine1</th>\n",
       "      <th>addressLine2</th>\n",
       "      <th>city</th>\n",
       "      <th>postalCode</th>\n",
       "      <th>country</th>\n",
       "      <th>salesRepEmployeeNumber</th>\n",
       "      <th>creditLimit</th>\n",
       "    </tr>\n",
       "  </thead>\n",
       "  <tbody>\n",
       "    <tr>\n",
       "      <th>0</th>\n",
       "      <td>1</td>\n",
       "      <td>San Francisco</td>\n",
       "      <td>+1 650 219 4782</td>\n",
       "      <td>100 Market Street</td>\n",
       "      <td>Suite 300</td>\n",
       "      <td>CA</td>\n",
       "      <td>USA</td>\n",
       "      <td>94080</td>\n",
       "      <td>NA</td>\n",
       "      <td>124</td>\n",
       "      <td>...</td>\n",
       "      <td>Nelson</td>\n",
       "      <td>Susan</td>\n",
       "      <td>4155551450</td>\n",
       "      <td>5677 Strong St.</td>\n",
       "      <td></td>\n",
       "      <td>San Rafael</td>\n",
       "      <td>97562</td>\n",
       "      <td>USA</td>\n",
       "      <td>1165</td>\n",
       "      <td>210500</td>\n",
       "    </tr>\n",
       "    <tr>\n",
       "      <th>1</th>\n",
       "      <td>1</td>\n",
       "      <td>San Francisco</td>\n",
       "      <td>+1 650 219 4782</td>\n",
       "      <td>100 Market Street</td>\n",
       "      <td>Suite 300</td>\n",
       "      <td>CA</td>\n",
       "      <td>USA</td>\n",
       "      <td>94080</td>\n",
       "      <td>NA</td>\n",
       "      <td>129</td>\n",
       "      <td>...</td>\n",
       "      <td>Murphy</td>\n",
       "      <td>Julie</td>\n",
       "      <td>6505555787</td>\n",
       "      <td>5557 North Pendale Street</td>\n",
       "      <td></td>\n",
       "      <td>San Francisco</td>\n",
       "      <td>94217</td>\n",
       "      <td>USA</td>\n",
       "      <td>1165</td>\n",
       "      <td>64600</td>\n",
       "    </tr>\n",
       "    <tr>\n",
       "      <th>2</th>\n",
       "      <td>1</td>\n",
       "      <td>San Francisco</td>\n",
       "      <td>+1 650 219 4782</td>\n",
       "      <td>100 Market Street</td>\n",
       "      <td>Suite 300</td>\n",
       "      <td>CA</td>\n",
       "      <td>USA</td>\n",
       "      <td>94080</td>\n",
       "      <td>NA</td>\n",
       "      <td>161</td>\n",
       "      <td>...</td>\n",
       "      <td>Hashimoto</td>\n",
       "      <td>Juri</td>\n",
       "      <td>6505556809</td>\n",
       "      <td>9408 Furth Circle</td>\n",
       "      <td></td>\n",
       "      <td>Burlingame</td>\n",
       "      <td>94217</td>\n",
       "      <td>USA</td>\n",
       "      <td>1165</td>\n",
       "      <td>84600</td>\n",
       "    </tr>\n",
       "    <tr>\n",
       "      <th>3</th>\n",
       "      <td>1</td>\n",
       "      <td>San Francisco</td>\n",
       "      <td>+1 650 219 4782</td>\n",
       "      <td>100 Market Street</td>\n",
       "      <td>Suite 300</td>\n",
       "      <td>CA</td>\n",
       "      <td>USA</td>\n",
       "      <td>94080</td>\n",
       "      <td>NA</td>\n",
       "      <td>205</td>\n",
       "      <td>...</td>\n",
       "      <td>Young</td>\n",
       "      <td>Julie</td>\n",
       "      <td>6265557265</td>\n",
       "      <td>78934 Hillside Dr.</td>\n",
       "      <td></td>\n",
       "      <td>Pasadena</td>\n",
       "      <td>90003</td>\n",
       "      <td>USA</td>\n",
       "      <td>1166</td>\n",
       "      <td>90700</td>\n",
       "    </tr>\n",
       "    <tr>\n",
       "      <th>4</th>\n",
       "      <td>1</td>\n",
       "      <td>San Francisco</td>\n",
       "      <td>+1 650 219 4782</td>\n",
       "      <td>100 Market Street</td>\n",
       "      <td>Suite 300</td>\n",
       "      <td>CA</td>\n",
       "      <td>USA</td>\n",
       "      <td>94080</td>\n",
       "      <td>NA</td>\n",
       "      <td>219</td>\n",
       "      <td>...</td>\n",
       "      <td>Young</td>\n",
       "      <td>Mary</td>\n",
       "      <td>3105552373</td>\n",
       "      <td>4097 Douglas Av.</td>\n",
       "      <td></td>\n",
       "      <td>Glendale</td>\n",
       "      <td>92561</td>\n",
       "      <td>USA</td>\n",
       "      <td>1166</td>\n",
       "      <td>11000</td>\n",
       "    </tr>\n",
       "  </tbody>\n",
       "</table>\n",
       "<p>5 rows × 21 columns</p>\n",
       "</div>"
      ],
      "text/plain": [
       "   officeCode           city            phone       addressLine1 addressLine2  \\\n",
       "0           1  San Francisco  +1 650 219 4782  100 Market Street    Suite 300   \n",
       "1           1  San Francisco  +1 650 219 4782  100 Market Street    Suite 300   \n",
       "2           1  San Francisco  +1 650 219 4782  100 Market Street    Suite 300   \n",
       "3           1  San Francisco  +1 650 219 4782  100 Market Street    Suite 300   \n",
       "4           1  San Francisco  +1 650 219 4782  100 Market Street    Suite 300   \n",
       "\n",
       "  state country postalCode territory  customerNumber  ... contactLastName  \\\n",
       "0    CA     USA      94080        NA             124  ...          Nelson   \n",
       "1    CA     USA      94080        NA             129  ...          Murphy   \n",
       "2    CA     USA      94080        NA             161  ...       Hashimoto   \n",
       "3    CA     USA      94080        NA             205  ...           Young   \n",
       "4    CA     USA      94080        NA             219  ...           Young   \n",
       "\n",
       "  contactFirstName       phone               addressLine1 addressLine2  \\\n",
       "0            Susan  4155551450            5677 Strong St.                \n",
       "1            Julie  6505555787  5557 North Pendale Street                \n",
       "2             Juri  6505556809          9408 Furth Circle                \n",
       "3            Julie  6265557265         78934 Hillside Dr.                \n",
       "4             Mary  3105552373           4097 Douglas Av.                \n",
       "\n",
       "            city postalCode country salesRepEmployeeNumber creditLimit  \n",
       "0     San Rafael      97562     USA                   1165      210500  \n",
       "1  San Francisco      94217     USA                   1165       64600  \n",
       "2     Burlingame      94217     USA                   1165       84600  \n",
       "3       Pasadena      90003     USA                   1166       90700  \n",
       "4       Glendale      92561     USA                   1166       11000  \n",
       "\n",
       "[5 rows x 21 columns]"
      ]
     },
     "execution_count": 14,
     "metadata": {},
     "output_type": "execute_result"
    }
   ],
   "source": [
    "# Displaying only 5 for readability\n",
    "df.head()"
   ]
  },
  {
   "cell_type": "markdown",
   "metadata": {},
   "source": [
    "Whenever you write a SQL query, make sure you understand the unit of analysis you are trying to use. Getting more data from the database is not always better! The above query might make sense as a starting point for something like \"what is the ratio of customers to offices in each state\", but it's not there yet. Many-to-many joins can be useful, but it's important to be strategic and understand what you're really asking for."
   ]
  },
  {
   "cell_type": "markdown",
   "metadata": {},
   "source": [
    "## Summary"
   ]
  },
  {
   "cell_type": "markdown",
   "metadata": {},
   "source": [
    "In this section, you expanded your join knowledge to one-to-many and many-to-many joins!"
   ]
  }
 ],
 "metadata": {
  "kernelspec": {
   "display_name": "saturn (Python 3)",
   "language": "python",
   "name": "python3"
  },
  "language_info": {
   "codemirror_mode": {
    "name": "ipython",
    "version": 3
   },
   "file_extension": ".py",
   "mimetype": "text/x-python",
   "name": "python",
   "nbconvert_exporter": "python",
   "pygments_lexer": "ipython3",
   "version": "3.10.6"
  },
  "toc": {
   "base_numbering": 1,
   "nav_menu": {},
   "number_sections": true,
   "sideBar": true,
   "skip_h1_title": false,
   "title_cell": "Table of Contents",
   "title_sidebar": "Contents",
   "toc_cell": false,
   "toc_position": {},
   "toc_section_display": true,
   "toc_window_display": false
  }
 },
 "nbformat": 4,
 "nbformat_minor": 2
}
