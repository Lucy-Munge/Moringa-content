{
 "cells": [
  {
   "cell_type": "markdown",
   "metadata": {},
   "source": [
    "# Regression Model Evaluation\n",
    "\n",
    "## Introduction\n",
    "\n",
    "For any given set of x and y values, we can build a linear regression model using the least-squares method to find a best-fit line. Just because this model exists does not necessarily mean it is a particularly appropriate or useful way to describe the relationship between the two variables.\n",
    "\n",
    "In this lesson, you'll learn about techniques to evaluate a regression model. First, we'll use the F-test to test whether the model overall is ***statistically significant***. Then we'll use the coefficient of determination (also known as \"R-Squared\") to measure the ***goodness of fit***.\n",
    "\n",
    "## Objectives\n",
    "\n",
    "You will be able to:\n",
    "\n",
    "* Describe the concept of an intercept-only model\n",
    "* Perform an overall F-test for significance\n",
    "* Calculate the coefficient of determination using self-constructed functions\n",
    "* Use the coefficient of determination to describe model performance"
   ]
  },
  {
   "cell_type": "markdown",
   "metadata": {},
   "source": [
    "## The Intercept-Only Model\n",
    "\n",
    "There is no universal, objective standard for evaluating models, because every set of x and y values is different. Therefore we measure the fit of our models against a baseline model known as the ***intercept-only model***.\n",
    "\n",
    "An intercept-only model does not make use of any independent variables to predict the value of dependent variable $y$. Instead, it uses the **mean** of the observed responses of the dependent variable $y$ and always predicts this mean as the value of $y$ for any value of $x$. It is also known as the \"mean model\", \"baseline model\", or \"restricted model\".\n",
    "\n",
    "In the image below, this model is given by the straight orange line.\n",
    "\n",
    "<img src=\"images/linreg_rsq.png\" width=\"600\">"
   ]
  },
  {
   "cell_type": "markdown",
   "metadata": {},
   "source": [
    "You can see that, in this plot, the intercept-only model (orange) always predicts the mean of $y$ irrespective of the value of the $x$. The gray line, however, is our fitted regression line which makes use of $x$ values to predict the values of $y$.\n",
    "\n",
    "In order to evaluate the regression model, we ask: **is our fitted regression line better than an intercept-only model?**\n",
    "\n",
    "We will determine this answer in terms of both statistical significance and goodness-of-fit by comparing the the ***errors*** made by our model (gray vertical arrow) to the errors made by the intercept-only model (orange vertical arrow) and determining the difference between them (red vertical arrow)."
   ]
  },
  {
   "cell_type": "markdown",
   "metadata": {},
   "source": [
    "## Toy Dataset Example\n",
    "\n",
    "Let's return to our toy dataset and fitted regression model:"
   ]
  },
  {
   "cell_type": "code",
   "execution_count": 1,
   "metadata": {},
   "outputs": [
    {
     "data": {
      "image/png": "[encoded data removed]",
      "text/plain": [
       "<Figure size 432x288 with 1 Axes>"
      ]
     },
     "metadata": {},
     "output_type": "display_data"
    }
   ],
   "source": [
    "# import necessary libraries\n",
    "import numpy as np\n",
    "import matplotlib.pyplot as plt\n",
    "from matplotlib import style\n",
    "style.use('ggplot')\n",
    "\n",
    "# Initialize arrays X and Y with given values\n",
    "# X = Independent Variable\n",
    "X = np.array([1,2,3,4,5,6,8,8,9,10], dtype=np.float64)\n",
    "# Y = Dependent Variable\n",
    "Y = np.array([7,7,8,9,9,10,10,11,11,12], dtype=np.float64)\n",
    "\n",
    "plt.scatter(X, Y);"
   ]
  },
  {
   "cell_type": "code",
   "execution_count": 2,
   "metadata": {},
   "outputs": [
    {
     "name": "stdout",
     "output_type": "stream",
     "text": [
      "Our model is: y = 0.539x + 6.3796\n"
     ]
    },
    {
     "data": {
      "image/png": "[encoded data removed]",
      "text/plain": [
       "<Figure size 432x288 with 1 Axes>"
      ]
     },
     "metadata": {},
     "output_type": "display_data"
    }
   ],
   "source": [
    "def calc_slope(x_vals, y_vals):\n",
    "    # setting up components of formula\n",
    "    rho = np.corrcoef(x_vals, y_vals)[0][1]\n",
    "    s_y = y_vals.std()\n",
    "    s_x = x_vals.std()\n",
    "    \n",
    "    # calculating slope estimate\n",
    "    m = rho * s_y / s_x\n",
    "    return m\n",
    "\n",
    "def calc_intercept(m, x_vals, y_vals):\n",
    "    # setting up components of formula\n",
    "    y_mean = y_vals.mean()\n",
    "    x_mean = x_vals.mean()\n",
    "    \n",
    "    # calculating intercept estimate\n",
    "    c = y_mean - m * x_mean\n",
    "    return c\n",
    "\n",
    "fig, ax = plt.subplots()\n",
    "ax.scatter(X, Y, color='#003F72', label=\"Data points\")\n",
    "    \n",
    "m = calc_slope(X, Y)\n",
    "c = calc_intercept(m, X, Y)\n",
    "print(f\"Our model is: y = {round(m, 3)}x + {round(c, 4)}\")\n",
    "\n",
    "regression_line = m * X + c\n",
    "ax.plot(X, regression_line, label=\"Regression Line\")\n",
    "\n",
    "intercept_only_line = np.array([Y.mean() for x in X])\n",
    "ax.plot(X, intercept_only_line, label=\"Intercept-Only Line\")\n",
    "\n",
    "ax.legend();"
   ]
  },
  {
   "cell_type": "markdown",
   "metadata": {},
   "source": [
    "## F-Test for Statistical Significance\n",
    "\n",
    "So, is our overall model statistically significant? Let's frame this in terms of a null and alternative hypothesis:\n",
    "\n",
    "* $H_0$ (null hypothesis): the intercept-only model fits the data just as well as (or better than) our model\n",
    "* $H_a$ (alternative hypothesis): our model fits the data better than the intercept-only model\n",
    "\n",
    "Then we'll follow the typical hypothesis test structure of computing a test statistic, calculating the p-value, then determining whether we can reject the null hypothesis."
   ]
  },
  {
   "cell_type": "markdown",
   "metadata": {},
   "source": [
    "### Computing the F-Statistic\n",
    "\n",
    "For simple linear regression, the F-statistic is defined as the mean squared error of the model divided by the mean squared error of the residuals. We'll break down the formulas for this below, but **the important part to take away is that this statistic is related to how well our model performs in the context of this dataset and the intercept-only model**. This concept is more important than digging into the specific formulas, since we will use libraries to calculate these values for us in the future.\n",
    "\n",
    "$$\\large{F = \\frac{MSE_{model}}{MSE_{resid}}}$$\n",
    "\n",
    "* $MSE_{model}$: the mean squared error of the model\n",
    "* $MSE_{resid}$: the mean squared error of the residuals\n",
    "\n",
    "Breaking that down further:\n",
    "\n",
    "$$\\large{MSE_{model} = \\frac{ESS}{df(model)} = \\frac{\\sum_i{(\\hat{y_i} - \\bar{y_i})^2}}{df(model)}}$$\n",
    "\n",
    "$$\\large{MSE_{resid} = \\frac{RSS}{df(resid)} = \\frac{\\sum_i{(\\hat{y_i} - y_i)^2}}{df(resid)}}$$\n",
    "\n",
    "* $ESS$: the explained sum of squares. In other words, the sum of the squared differences between $\\hat{y}$ (the predictions made by our model) and $\\bar{y}$ (the mean, i.e. the prediction made by the intercept-only model)\n",
    "* $df(model)$: the model degrees of freedom.\n",
    "* $RSS$: the residual sum of squares. In other words, the sum of the squared differences between $\\hat{y}$ (the predictions made by our model) and $y$ (the actual `Y` values)\n",
    "* $df(resid)$: the residual degrees of freedom. In this case, 8, because we have 10 observations minus 2, the number of parameters (1 coefficient + 1 intercept)"
   ]
  },
  {
   "cell_type": "markdown",
   "metadata": {},
   "source": [
    "#### Calculating Model MSE\n",
    "\n",
    "To find the mean squared error of the model, we need to compute the explained sum of squares (ESS) and then divide it by the model degrees of freedom.\n",
    "\n",
    "We will be comparing `regression_line` (representing $\\hat{y}$) to `intercept_only_line` (representing $\\bar{y}$). Because they are NumPy arrays, we can simply subtract one from another to find the differences:"
   ]
  },
  {
   "cell_type": "code",
   "execution_count": 3,
   "metadata": {
    "scrolled": true
   },
   "outputs": [
    {
     "data": {
      "text/plain": [
       "array([-2.48101852, -1.94166667, -1.40231481, -0.86296296, -0.32361111,\n",
       "        0.21574074,  1.29444444,  1.29444444,  1.8337963 ,  2.37314815])"
      ]
     },
     "execution_count": 3,
     "metadata": {},
     "output_type": "execute_result"
    }
   ],
   "source": [
    "regression_line - intercept_only_line"
   ]
  },
  {
   "cell_type": "markdown",
   "metadata": {},
   "source": [
    "Then we can square those differences:"
   ]
  },
  {
   "cell_type": "code",
   "execution_count": 4,
   "metadata": {},
   "outputs": [
    {
     "data": {
      "text/plain": [
       "array([6.15545289, 3.77006944, 1.96648684, 0.74470508, 0.10472415,\n",
       "       0.04654407, 1.67558642, 1.67558642, 3.36280886, 5.63183213])"
      ]
     },
     "execution_count": 4,
     "metadata": {},
     "output_type": "execute_result"
    }
   ],
   "source": [
    "(regression_line - intercept_only_line) ** 2"
   ]
  },
  {
   "cell_type": "markdown",
   "metadata": {},
   "source": [
    "Then finally take the sum:"
   ]
  },
  {
   "cell_type": "code",
   "execution_count": 5,
   "metadata": {},
   "outputs": [
    {
     "data": {
      "text/plain": [
       "25.133796296296296"
      ]
     },
     "execution_count": 5,
     "metadata": {},
     "output_type": "execute_result"
    }
   ],
   "source": [
    "ess = ((regression_line - intercept_only_line) ** 2).sum()\n",
    "ess"
   ]
  },
  {
   "cell_type": "markdown",
   "metadata": {},
   "source": [
    "Model MSE is ESS divided by the degrees of freedom of the model. The degrees of freedom of the model is just the number of independent variables, which is 1 for a simple linear regression. Therefore the mean is just the same as the total, because we are only summarizing one independent variable."
   ]
  },
  {
   "cell_type": "code",
   "execution_count": 6,
   "metadata": {},
   "outputs": [],
   "source": [
    "model_df = 1"
   ]
  },
  {
   "cell_type": "code",
   "execution_count": 7,
   "metadata": {},
   "outputs": [
    {
     "data": {
      "text/plain": [
       "25.133796296296296"
      ]
     },
     "execution_count": 7,
     "metadata": {},
     "output_type": "execute_result"
    }
   ],
   "source": [
    "mse_model = ess / model_df\n",
    "mse_model"
   ]
  },
  {
   "cell_type": "markdown",
   "metadata": {},
   "source": [
    "#### Calculating Residual MSE\n",
    "\n",
    "To find the mean squared error of the residuals, we need to calculate the sum of squared residuals (RSS) and then divide it by the residual degrees of freedom.\n",
    "\n",
    "Calculating RSS is very similar to calculating ESS, except that it is comparing $\\hat{y}$ (represented by the variable `regression_line`) to $y$ (represented by the variable `Y`). In other words, we're comparing our model's predicted values to the true values, rather than comparing them to the intercept-only values.\n",
    "\n",
    "We'll follow the same process of finding the differences, then squaring the differences, then finding the sum."
   ]
  },
  {
   "cell_type": "code",
   "execution_count": 8,
   "metadata": {},
   "outputs": [
    {
     "data": {
      "text/plain": [
       "1.266203703703704"
      ]
     },
     "execution_count": 8,
     "metadata": {},
     "output_type": "execute_result"
    }
   ],
   "source": [
    "rss = ((regression_line - Y) ** 2).sum()\n",
    "rss"
   ]
  },
  {
   "cell_type": "markdown",
   "metadata": {},
   "source": [
    "Residual MSE is the mean value for this total. To find the mean, we divide by the residual degrees of freedom, which is the number of observations minus the number of parameters.\n",
    "\n",
    "In this case we have 2 parameters (1 for the coefficient and 1 for the intercept)."
   ]
  },
  {
   "cell_type": "code",
   "execution_count": 9,
   "metadata": {},
   "outputs": [],
   "source": [
    "residual_df = len(Y) - 2"
   ]
  },
  {
   "cell_type": "code",
   "execution_count": 10,
   "metadata": {},
   "outputs": [
    {
     "data": {
      "text/plain": [
       "0.158275462962963"
      ]
     },
     "execution_count": 10,
     "metadata": {},
     "output_type": "execute_result"
    }
   ],
   "source": [
    "mse_residual = rss / residual_df\n",
    "mse_residual"
   ]
  },
  {
   "cell_type": "markdown",
   "metadata": {},
   "source": [
    "#### Calculating the F-Statistic\n",
    "\n",
    "Putting that all together:"
   ]
  },
  {
   "cell_type": "code",
   "execution_count": 11,
   "metadata": {},
   "outputs": [
    {
     "data": {
      "text/plain": [
       "158.7978062157221"
      ]
     },
     "execution_count": 11,
     "metadata": {},
     "output_type": "execute_result"
    }
   ],
   "source": [
    "f = mse_model / mse_residual\n",
    "f"
   ]
  },
  {
   "cell_type": "markdown",
   "metadata": {},
   "source": [
    "### Is Our Model Statistically Significant?\n",
    "\n",
    "We have an F-statistic of about 158.8, but what does that mean?\n",
    "\n",
    "Let's use the survival function for the F-distribution from SciPy to find the p-value:"
   ]
  },
  {
   "cell_type": "code",
   "execution_count": 12,
   "metadata": {},
   "outputs": [
    {
     "data": {
      "text/plain": [
       "1.4755820678821615e-06"
      ]
     },
     "execution_count": 12,
     "metadata": {},
     "output_type": "execute_result"
    }
   ],
   "source": [
    "import scipy.stats\n",
    "\n",
    "scipy.stats.f.sf(f, model_df, residual_df)"
   ]
  },
  {
   "cell_type": "markdown",
   "metadata": {},
   "source": [
    "That p-value is well below the typical alpha of 0.05. We can reject the null hypothesis and say that our model is statistically significant!"
   ]
  },
  {
   "cell_type": "markdown",
   "metadata": {},
   "source": [
    "## Measuring Goodness of Fit with R-Squared\n",
    "\n",
    "Now that we know that our model is statistically significant, we can go one step further and quantify how much of the variation in the dependent variable is explained by our model. This measure is called the $R^2$ or ***coefficient of determination***.\n",
    "\n",
    "### Calculating the Coefficient of Determination\n",
    "\n",
    "R-squared is closely related to the F-statistic calculated above. It is defined as:\n",
    "\n",
    "$$\\large{ R^2 = \\frac{ESS}{TSS} = \\frac{\\sum_i{(\\hat{y_i} - \\bar{y_i})^2}}{\\sum_i(y_i - \\bar{y_i})^2}}$$\n",
    "\n",
    "We have already calculated **ESS** (the **explained** sum of squared error) above. This represents the squared difference between $\\hat{y}$ and $\\bar{y}$.\n",
    "\n",
    "The only thing left to calculate is **TSS** (the **total** sum of squared error). This is the squared difference between $y$ and $\\bar{y}$."
   ]
  },
  {
   "cell_type": "code",
   "execution_count": 13,
   "metadata": {},
   "outputs": [
    {
     "data": {
      "text/plain": [
       "26.4"
      ]
     },
     "execution_count": 13,
     "metadata": {},
     "output_type": "execute_result"
    }
   ],
   "source": [
    "tss = ((Y - intercept_only_line) ** 2).sum()\n",
    "tss"
   ]
  },
  {
   "cell_type": "code",
   "execution_count": 14,
   "metadata": {},
   "outputs": [
    {
     "data": {
      "text/plain": [
       "0.9520377384960719"
      ]
     },
     "execution_count": 14,
     "metadata": {},
     "output_type": "execute_result"
    }
   ],
   "source": [
    "r_squared = ess / tss\n",
    "r_squared"
   ]
  },
  {
   "cell_type": "markdown",
   "metadata": {},
   "source": [
    "### Interpreting R-Squared\n",
    "\n",
    "We have a value of about 0.95 as our coefficient of determination (R-squared). What does this mean?\n",
    "\n",
    "This means that the proportion of the variance _explained_ by our model out of the _total_ variance is about 0.95, or 95%. You can also say, ***95% of the variation in $y$ is explained by our model***.\n",
    "\n",
    "For a least-squares regression model, R-Squared can take a value between 0 and 1 where values closer to 0 represent a poor fit and values closer to 1 represent an (almost) perfect fit\n",
    "\n",
    "An R-Squared of 0 would mean that we are explaining 0% of the variation in $y$. This is especially likely to occur if your dataset is not actually suited to linear regression modeling, like the image below.\n",
    "\n",
    "<img src=\"images/rs5.png\" width=\"500\">"
   ]
  },
  {
   "cell_type": "markdown",
   "metadata": {},
   "source": [
    "An R-Squared of 1 means that you are explaining 100% of the variation. This is very unlikely to see with linear regression on real-world data, so you probably want to double-check that you have set up your variables properly.\n",
    "\n",
    "The image below shows what it might look like if you had an R-Squared of 1:\n",
    "\n",
    "<img src=\"images/rs6.png\" width=\"500\">"
   ]
  },
  {
   "cell_type": "markdown",
   "metadata": {},
   "source": [
    "#### What Is a \"Good\" R-Squared Value?\n",
    "\n",
    "Like many other things in data science, the answer is \"it depends\"!\n",
    "\n",
    "If you are doing _inferential_ modeling, i.e. the part of the model you are most interested in is the value of the parameters, then as long as the model is statistically significant overall, you don't need to worry too much about R-Squared.\n",
    "\n",
    "If you are doing _predictive_ modeling, i.e. you are most interested in making predictions about unknown values of $y$, then a higher R-Squared is very important.\n",
    "\n",
    "Either way, R-Squared provides important context for how you communicate about your model to others. If your model is only explaining a tiny amount of the variation in $y$, then there are potentially-important contributing factors that aren't included in your analysis. Just be sure to communicate your findings (and their limitations) clearly!\n",
    "\n",
    "A good template to use is:\n",
    "\n",
    "> ***(R-Squared * 100)% of the variation in the dependent variable $y$ is explained by our model.***"
   ]
  },
  {
   "cell_type": "markdown",
   "metadata": {},
   "source": [
    "## Other Notation to Be Aware Of\n",
    "\n",
    "The formulas and variables described here also appear with slightly different variations in other resources. You don't need to memorize these, but just be aware that the same value might appear with a different name in a different context.\n",
    "\n",
    "### Explained Sum of Squared Errors\n",
    "\n",
    "ESS is the explained sum of squared errors, also known as $SS_{EXP}$, SSM (sum of squares for model), or sum of squares for regression. It represents the sum of the squared differences between the predicted values ($\\hat{y}$) and the mean/intercept-only values ($\\bar{y}$).\n",
    "\n",
    "### Residual Sum of Squared Errors\n",
    "\n",
    "RSS is the residual sum of squared errors, also known as $SS_{RES}$, SSE (sum of squared errors), or SSR. It represents the sum of squared differences between the true values ($y$) and the predicted values ($\\hat{y}$).\n",
    "\n",
    "### Total Sum of Squared Errors\n",
    "\n",
    "TSS is the total sum of squared errors, also known as $SS_{TOT}$ or SST. It represents the sum of squared differences between the true values ($y$) and the mean/intercept-only values ($\\bar{y}$).\n",
    "\n",
    "TSS is also equal to the sum of RSS + ESS. In other words, the total error is the sum of the explained error plus the residual (unexplained) error.\n",
    "\n",
    "### R-Squared\n",
    "\n",
    "In the equation above, we said that R-Squared was equal to $\\frac{ESS}{TSS}$. You also might see versions that say it is equal to $1 - \\frac{RSS}{TSS}$. This is derived from the explanation above, that TSS = RSS + ESS.\n",
    "\n",
    "**If you use the $1 - \\frac{RSS}{TSS}$ version of the R-Squared formula, it is possible to get a negative R-Squared value.** Many statistical libraries use this formula for that reason. A negative R-Squared would mean that your model is worse at explaining the variance than the baseline model. If you see a negative R-Squared with ordinary least-squares linear regression, that probably means that something is wrong with the code, because a linear regression with an independent variable is built on top of an intercept-only model."
   ]
  },
  {
   "cell_type": "markdown",
   "metadata": {},
   "source": [
    "## Summary\n",
    "\n",
    "In this lesson you looked at two ways to evaluate a linear regression model. Both of them involve comparing the regression model to an \"intercept-only\" baseline model that always returns the mean of $y$.\n",
    "\n",
    "First, the F-test can be used to determine whether the model is statistically significant overall. Second, the coefficient of determination (R-Squared) can be used to describe the amount of variation in $y$ that is explained by the model.\n",
    "\n",
    "We also discussed how to communicate the results of these assessments, as well as some alternative naming conventions and formulas that you might see."
   ]
  }
 ],
 "metadata": {
  "kernelspec": {
   "display_name": "saturn (Python 3)",
   "language": "python",
   "name": "python3"
  },
  "language_info": {
   "codemirror_mode": {
    "name": "ipython",
    "version": 3
   },
   "file_extension": ".py",
   "mimetype": "text/x-python",
   "name": "python",
   "nbconvert_exporter": "python",
   "pygments_lexer": "ipython3",
   "version": "3.10.6"
  }
 },
 "nbformat": 4,
 "nbformat_minor": 2
}
