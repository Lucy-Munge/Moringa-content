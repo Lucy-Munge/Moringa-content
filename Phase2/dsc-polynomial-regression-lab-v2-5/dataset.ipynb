{
 "cells": [
  {
   "cell_type": "code",
   "execution_count": 1,
   "metadata": {},
   "outputs": [],
   "source": [
    "import pandas as pd\n",
    "import numpy as np\n",
    "\n",
    "def pol(x):\n",
    "    return x*np.cos(x)\n",
    "\n",
    "# define x\n",
    "x = np.linspace(0, 12, 100)\n",
    "\n",
    "# # set a random seed\n",
    "np.random.seed(1234) \n",
    "\n",
    "# define y as pol(x) plus random noise\n",
    "y = pol(x) + np.random.randn(100)*2\n",
    "\n",
    "df = pd.DataFrame({'x': x, \n",
    "                  \"y\":y})\n",
    "\n",
    "df.to_csv('sample_data.csv', index=False)"
   ]
  }
 ],
 "metadata": {
  "kernelspec": {
   "display_name": "Python 3",
   "language": "python",
   "name": "python3"
  },
  "language_info": {
   "codemirror_mode": {
    "name": "ipython",
    "version": 3
   },
   "file_extension": ".py",
   "mimetype": "text/x-python",
   "name": "python",
   "nbconvert_exporter": "python",
   "pygments_lexer": "ipython3",
   "version": "3.7.3"
  }
 },
 "nbformat": 4,
 "nbformat_minor": 2
}
