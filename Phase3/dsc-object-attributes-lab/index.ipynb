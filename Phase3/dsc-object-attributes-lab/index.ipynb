{
 "cells": [
  {
   "cell_type": "markdown",
   "metadata": {},
   "source": [
    "# Object Attributes - Lab"
   ]
  },
  {
   "cell_type": "markdown",
   "metadata": {},
   "source": [
    "## Introduction\n",
    "In this lab, you'll practice defining classes and instance methods. "
   ]
  },
  {
   "cell_type": "markdown",
   "metadata": {},
   "source": [
    "## Objectives\n",
    "\n",
    "You will be able to:\n",
    "\n",
    "* Define and call an instance method\n",
    "* Define and access instance attributes"
   ]
  },
  {
   "cell_type": "markdown",
   "metadata": {},
   "source": [
    "## Defining Classes and Instance Methods"
   ]
  },
  {
   "cell_type": "markdown",
   "metadata": {},
   "source": [
    "In the cell below define a `Driver` class.\n",
    "\n",
    "For this class, create a method called `greet_passenger()`, which returns the string `Hello! I'll be your driver today. My name is ` followed by that driver's first name and last name (i.e. `Hello! I'll be your driver today. My name is John Doe`). (Be sure to keep in mind that the driver's name will be stored under two separate attributes: first and last.)"
   ]
  },
  {
   "cell_type": "code",
   "execution_count": 11,
   "metadata": {},
   "outputs": [],
   "source": [
    "# Define Driver Class here with properties for each instance variable\n",
    "class Driver:\n",
    "    def greet_passenger(self):\n",
    "        return f\"Hello! I'll be your driver today. My name is {self.first} {self.last}\""
   ]
  },
  {
   "cell_type": "markdown",
   "metadata": {},
   "source": [
    "Great! Now create an instance of your driver class. Then, create the following attributes for your instance:\n",
    "* `first` - the first name of the driver. Set it to Matthew.\n",
    "* `last` - the last name of the driver. Set it to Mitchell.\n",
    "* `miles_driven` - the number of miles driven by the driver. Set it to 100.\n",
    "* `rating` - the driver's rating. Set it to 4.9\n",
    "\n",
    "Finally, use your `greet_passenger()` method for your `Driver` instance object."
   ]
  },
  {
   "cell_type": "code",
   "execution_count": 13,
   "metadata": {},
   "outputs": [
    {
     "name": "stdout",
     "output_type": "stream",
     "text": [
      "Hello! I'll be your driver today. My name is Matthew Mitchell\n"
     ]
    }
   ],
   "source": [
    "# Create an instance with the above 4 attributes and then call the greet_passenger method\n",
    "matthew = Driver()\n",
    "matthew.first = 'Matthew'\n",
    "matthew.last = 'Mitchell'\n",
    "matthew.miles_driven = 100\n",
    "matthew.rating = 4.9\n",
    "\n",
    "print(matthew.greet_passenger())"
   ]
  },
  {
   "cell_type": "markdown",
   "metadata": {},
   "source": [
    "Now, create a passenger class with one method `yell_name()` which prints the passenger's first and last name in all caps. (Again first and last will be stored as separate attributes.)"
   ]
  },
  {
   "cell_type": "code",
   "execution_count": 15,
   "metadata": {},
   "outputs": [],
   "source": [
    "# Define Passenger Class here with properties for each instance variable\n",
    "class Passenger:\n",
    "    def __init__(self, first, last):\n",
    "        self.first = first\n",
    "        self.last = last\n",
    "    def yell_name(self):\n",
    "        print(self.first.upper(), self.last.upper())"
   ]
  },
  {
   "cell_type": "markdown",
   "metadata": {},
   "source": [
    "Create an instance of your passenger class. Then create an attribute \"first\" set to \"Ron\" and an attribute \"last\" set to \"Burgundy\". Then call the `yell_name()` method."
   ]
  },
  {
   "cell_type": "code",
   "execution_count": 19,
   "metadata": {},
   "outputs": [
    {
     "name": "stdout",
     "output_type": "stream",
     "text": [
      "RON  BURGUNDY\n"
     ]
    }
   ],
   "source": [
    "# Create an instance of the passenger class with the first and last attributes. Then call the yell_name method\n",
    "passenger = Passenger('Ron', ' Burgundy')\n",
    "\n",
    "passenger.yell_name()"
   ]
  },
  {
   "cell_type": "markdown",
   "metadata": {},
   "source": [
    "Great work!"
   ]
  },
  {
   "cell_type": "markdown",
   "metadata": {},
   "source": [
    "## Summary\n",
    "In this lab, you practiced defining classes, creating instances of said classes, and using methods that made calls to object attributes."
   ]
  }
 ],
 "metadata": {
  "kernelspec": {
   "display_name": "saturn (Python 3)",
   "language": "python",
   "name": "python3"
  },
  "language_info": {
   "codemirror_mode": {
    "name": "ipython",
    "version": 3
   },
   "file_extension": ".py",
   "mimetype": "text/x-python",
   "name": "python",
   "nbconvert_exporter": "python",
   "pygments_lexer": "ipython3",
   "version": "3.10.6"
  }
 },
 "nbformat": 4,
 "nbformat_minor": 2
}
